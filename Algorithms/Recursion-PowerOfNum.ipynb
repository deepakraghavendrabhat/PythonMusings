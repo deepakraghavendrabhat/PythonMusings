{
 "cells": [
  {
   "cell_type": "code",
   "execution_count": 13,
   "id": "8865c278",
   "metadata": {},
   "outputs": [
    {
     "name": "stdout",
     "output_type": "stream",
     "text": [
      "64\n"
     ]
    }
   ],
   "source": [
    "def powerofNum(base,exp):\n",
    "        assert int(base) == base and base >= 0, \"Base has to be positive integer\"\n",
    "        assert int(exp) == exp and exp >= 0, \"exponent has to be positive integer\"\n",
    "        if exp == 0:\n",
    "            return 1\n",
    "        elif exp == 1:\n",
    "            return base;\n",
    "        else:\n",
    "            return base * powerofNum(base,exp-1)\n",
    "    \n",
    "print(powerofNum(4,3))"
   ]
  },
  {
   "cell_type": "code",
   "execution_count": null,
   "id": "6e54562b",
   "metadata": {},
   "outputs": [],
   "source": []
  }
 ],
 "metadata": {
  "kernelspec": {
   "display_name": "Python 3 (ipykernel)",
   "language": "python",
   "name": "python3"
  },
  "language_info": {
   "codemirror_mode": {
    "name": "ipython",
    "version": 3
   },
   "file_extension": ".py",
   "mimetype": "text/x-python",
   "name": "python",
   "nbconvert_exporter": "python",
   "pygments_lexer": "ipython3",
   "version": "3.9.12"
  }
 },
 "nbformat": 4,
 "nbformat_minor": 5
}
