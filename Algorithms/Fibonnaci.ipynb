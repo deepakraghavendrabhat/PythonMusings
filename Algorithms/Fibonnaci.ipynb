{
 "cells": [
  {
   "cell_type": "code",
   "execution_count": 2,
   "id": "9593a897",
   "metadata": {},
   "outputs": [
    {
     "name": "stdout",
     "output_type": "stream",
     "text": [
      "5\n"
     ]
    }
   ],
   "source": [
    "#fibonacci in recursion\n",
    "def fibonnaci(n):\n",
    "    assert n >=0 and int(n) == n, \"N has to be positive integer\"\n",
    "    if n in [0,1]:\n",
    "        return n\n",
    "    else:\n",
    "        return(fibonnaci(n-1) + fibonnaci(n-2))\n",
    "print(fibonnaci(5))"
   ]
  },
  {
   "cell_type": "code",
   "execution_count": null,
   "id": "c94a05a5",
   "metadata": {},
   "outputs": [],
   "source": []
  }
 ],
 "metadata": {
  "kernelspec": {
   "display_name": "Python 3 (ipykernel)",
   "language": "python",
   "name": "python3"
  },
  "language_info": {
   "codemirror_mode": {
    "name": "ipython",
    "version": 3
   },
   "file_extension": ".py",
   "mimetype": "text/x-python",
   "name": "python",
   "nbconvert_exporter": "python",
   "pygments_lexer": "ipython3",
   "version": "3.9.12"
  }
 },
 "nbformat": 4,
 "nbformat_minor": 5
}
