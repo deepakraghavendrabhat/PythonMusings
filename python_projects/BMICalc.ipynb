{
 "cells": [
  {
   "cell_type": "markdown",
   "id": "5b9b3873",
   "metadata": {},
   "source": [
    "# Write a program that calculates  the Body Mass Index (BMI) based on a user's weight and height and interprets it based BMI graph below.\n",
    "\n",
    "\n",
    "\n",
    "It should tell them the interpretation of their BMI based on the BMI value.\n",
    "\n",
    "Under 18.5 they are underweight\n",
    "\n",
    "Over 18.5 but below 25 their weight is normal\n",
    "\n",
    "Over 25 but below 30 they are overweight\n",
    "\n",
    "Over 30 but below 35 they are obese\n",
    "\n",
    "\n",
    "\n",
    " ",
    " ",
    "\n",
    "Line 1, Column 1\n",
    "All changes saved"
   ]
  },
  {
   "cell_type": "code",
   "execution_count": 6,
   "id": "a00575a1",
   "metadata": {},
   "outputs": [
    {
     "name": "stdout",
     "output_type": "stream",
     "text": [
      "Enter your height in m: 1.5\n",
      "Enter your weight in kg: 90\n",
      "obese\n"
     ]
    }
   ],
   "source": [
    "height = float(input(\"Enter your height in m: \"))\n",
    "weight =  float(input(\"Enter your weight in kg: \"))\n",
    "bmi = round(weight / (height ** 2),2)\n",
    "if bmi < 18.5:\n",
    "    print(\"underweight\")\n",
    "elif bmi < 25:\n",
    "    print(\"weight is normal\")\n",
    "elif bmi < 30:\n",
    "    print(\"weight is overweight\")    \n",
    "else:\n",
    "    print(\"obese\")  \n"
   ]
  },
  {
   "cell_type": "code",
   "execution_count": null,
   "id": "a2ca2468",
   "metadata": {},
   "outputs": [],
   "source": []
  }
 ],
 "metadata": {
  "kernelspec": {
   "display_name": "Python 3 (ipykernel)",
   "language": "python",
   "name": "python3"
  },
  "language_info": {
   "codemirror_mode": {
    "name": "ipython",
    "version": 3
   },
   "file_extension": ".py",
   "mimetype": "text/x-python",
   "name": "python",
   "nbconvert_exporter": "python",
   "pygments_lexer": "ipython3",
   "version": "3.9.12"
  }
 },
 "nbformat": 4,
 "nbformat_minor": 5
}
