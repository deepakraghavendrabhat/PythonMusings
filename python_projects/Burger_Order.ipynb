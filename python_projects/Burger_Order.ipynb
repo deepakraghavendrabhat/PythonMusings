{
 "cells": [
  {
   "cell_type": "markdown",
   "id": "723c3771",
   "metadata": {},
   "source": [
    "Write a program that calculates final bill Burger Order Price based on a user's choice.\n",
    "\n",
    "Price List.\n",
    "\n",
    "Mini Burger (M) : $5\n",
    "\n",
    "Normal Burger (N): $8\n",
    "\n",
    "Large Burger (L) : $10\n",
    "\n",
    "Add Mushroom : For Mini and Normal = $1, For Large = $2\n",
    "\n",
    "Extra Cheese : $1\n",
    "\n",
    "\n",
    "\n",
    "Example Input\n",
    "\n",
    "size = \"N\"\n",
    "add_mushroom = \"Y\"\n",
    "extra_cheese = \"N\"\n",
    "Example Output\n",
    "\n",
    "Your final bill is: $9."
   ]
  },
  {
   "cell_type": "code",
   "execution_count": null,
   "id": "fa1251b4",
   "metadata": {},
   "outputs": [
    {
     "name": "stdout",
     "output_type": "stream",
     "text": [
      "Welcome to Burger Shop!\n",
      "What size burger do you want? M,N or L. Do you want mushrooms? Y or N. Do you want extra cheese? Y or N\n"
     ]
    }
   ],
   "source": [
    "print(\"Welcome to Burger Shop! - Bad Impl\")\n",
    "print(\"Welcome to Burger Shop!\")\n",
    "print(\"What size burger do you want? M,N or L. Do you want mushrooms? Y or N. Do you want extra cheese? Y or N\")\n",
    "size = input(\"size = \")\n",
    "add_mushroom = input(\"add_mushroom = \")\n",
    "extra_cheese = input(\"extra_cheese = \")\n",
    "bill = 0\n",
    "if size == 'M' and add_mushroom == 'Y':\n",
    "    bill += 6\n",
    "elif size == 'M' and add_mushroom == 'N':\n",
    "    bill += 5           \n",
    "elif size == 'N' and add_mushroom == 'Y':\n",
    "    bill += 9           \n",
    "elif size == 'N' and add_mushroom == 'N':\n",
    "    bill += 8   \n",
    "elif size == 'L' and add_mushroom == 'Y':\n",
    "    bill += 12\n",
    "elif size == 'L' and add_mushroom == 'N':\n",
    "    bill += 10\n",
    "else:\n",
    "    pass\n",
    "if extra_cheese == 'Y':\n",
    "    bill += 1\n",
    "    print(f\"Your final bill is: ${bill}\")\n",
    "else:\n",
    "    print(f\"Your final bill is: ${bill}\")\n",
    "\n",
    "    "
   ]
  },
  {
   "cell_type": "code",
   "execution_count": null,
   "id": "33e01f5a",
   "metadata": {},
   "outputs": [],
   "source": []
  }
 ],
 "metadata": {
  "kernelspec": {
   "display_name": "Python 3 (ipykernel)",
   "language": "python",
   "name": "python3"
  },
  "language_info": {
   "codemirror_mode": {
    "name": "ipython",
    "version": 3
   },
   "file_extension": ".py",
   "mimetype": "text/x-python",
   "name": "python",
   "nbconvert_exporter": "python",
   "pygments_lexer": "ipython3",
   "version": "3.9.12"
  }
 },
 "nbformat": 4,
 "nbformat_minor": 5
}
