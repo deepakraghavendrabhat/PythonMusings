{
 "cells": [
  {
   "cell_type": "code",
   "execution_count": 1,
   "id": "cea4ce64",
   "metadata": {},
   "outputs": [
    {
     "name": "stdout",
     "output_type": "stream",
     "text": [
      "test 0011\n"
     ]
    }
   ],
   "source": [
    "name = \"test\"\n",
    "number = \"0011\"\n",
    "print(name,number)"
   ]
  },
  {
   "cell_type": "code",
   "execution_count": 2,
   "id": "ffc73da0",
   "metadata": {},
   "outputs": [
    {
     "data": {
      "text/plain": [
       "['test', '0011']"
      ]
     },
     "execution_count": 2,
     "metadata": {},
     "output_type": "execute_result"
    }
   ],
   "source": [
    "list1 = [name,number]\n",
    "list1"
   ]
  },
  {
   "cell_type": "code",
   "execution_count": 3,
   "id": "ecd54d52",
   "metadata": {},
   "outputs": [],
   "source": [
    "addr = \"3375 okland st\"\n",
    "country = \"USS\""
   ]
  },
  {
   "cell_type": "code",
   "execution_count": 4,
   "id": "ea57476e",
   "metadata": {},
   "outputs": [],
   "source": [
    "list2 = [addr, country]"
   ]
  },
  {
   "cell_type": "code",
   "execution_count": 5,
   "id": "8175d4c6",
   "metadata": {},
   "outputs": [],
   "source": [
    "list3 = [list1,list2]"
   ]
  },
  {
   "cell_type": "code",
   "execution_count": 6,
   "id": "dbe07900",
   "metadata": {},
   "outputs": [
    {
     "data": {
      "text/plain": [
       "[['test', '0011'], ['3375 okland st', 'USS']]"
      ]
     },
     "execution_count": 6,
     "metadata": {},
     "output_type": "execute_result"
    }
   ],
   "source": [
    "list3"
   ]
  },
  {
   "cell_type": "code",
   "execution_count": 7,
   "id": "751fce88",
   "metadata": {},
   "outputs": [
    {
     "data": {
      "text/plain": [
       "['Chemistry', 'Biology', [1989, 2004]]"
      ]
     },
     "execution_count": 7,
     "metadata": {},
     "output_type": "execute_result"
    }
   ],
   "source": [
    "# Indexing example \n",
    "L = [\"Chemistry\", \"Biology\", [1989, 2004], (\"Oreily\", \"Pearson\")]\n",
    "L[0]\n",
    "\n",
    "# Slicing\n",
    "L[0:3]"
   ]
  },
  {
   "cell_type": "code",
   "execution_count": 8,
   "id": "1e4b82e5",
   "metadata": {},
   "outputs": [
    {
     "data": {
      "text/plain": [
       "['Chemistry', 'Biology', [1989, 2004], ('Oreily', 'Pearson'), 5, 8]"
      ]
     },
     "execution_count": 8,
     "metadata": {},
     "output_type": "execute_result"
    }
   ],
   "source": [
    "# extend()\n",
    "L = [\"Chemistry\", \"Biology\", [1989,  2004] ,(\"Oreily\" , \"Pearson\")]\n",
    "L.extend([5, 8])\n",
    "L\n",
    "\n"
   ]
  },
  {
   "cell_type": "code",
   "execution_count": 9,
   "id": "1d0518fe",
   "metadata": {},
   "outputs": [
    {
     "data": {
      "text/plain": [
       "['Chemistry', 'Biology', [1989, 2005], ('Oreily', 'Pearson'), [5, 8]]"
      ]
     },
     "execution_count": 9,
     "metadata": {},
     "output_type": "execute_result"
    }
   ],
   "source": [
    "# append()\n",
    "L = [\"Chemistry\", \"Biology\", [1989,  2005], (\"Oreily\" , \"Pearson\")]\n",
    "L.append([5, 8])\n",
    "L"
   ]
  },
  {
   "cell_type": "code",
   "execution_count": null,
   "id": "2b5f2b02",
   "metadata": {},
   "outputs": [],
   "source": []
  }
 ],
 "metadata": {
  "kernelspec": {
   "display_name": "Python 3 (ipykernel)",
   "language": "python",
   "name": "python3"
  },
  "language_info": {
   "codemirror_mode": {
    "name": "ipython",
    "version": 3
   },
   "file_extension": ".py",
   "mimetype": "text/x-python",
   "name": "python",
   "nbconvert_exporter": "python",
   "pygments_lexer": "ipython3",
   "version": "3.9.12"
  }
 },
 "nbformat": 4,
 "nbformat_minor": 5
}
