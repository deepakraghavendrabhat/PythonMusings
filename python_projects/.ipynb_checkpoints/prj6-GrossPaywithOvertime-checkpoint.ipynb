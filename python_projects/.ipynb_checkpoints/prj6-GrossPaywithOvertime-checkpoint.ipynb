{
 "cells": [
  {
   "cell_type": "markdown",
   "id": "6724a4e2",
   "metadata": {},
   "source": [
    "# Rewrite the Gross Pay Project (Project 3) program to give the employee 1.5 times the hourly rate for hours worked above 40 hours. Here again the program prompts the user for hours and rate per hour to compute gross pay. You need to take into account that the result has exactly two digits after the decimal place.\n",
    "\n",
    "Hint: overtime = hour - 40\n",
    "\n",
    "Input\n",
    "Enter Hours: 45\n",
    "Enter Rate: 5\n",
    "Output\n",
    "Pay: 237.5\n"
   ]
  },
  {
   "cell_type": "code",
   "execution_count": 7,
   "id": "342efa2f",
   "metadata": {},
   "outputs": [
    {
     "name": "stdout",
     "output_type": "stream",
     "text": [
      "Input Enter Hours: 67\n",
      "Enter Rate: 6\n",
      "Pay: 645.0\n"
     ]
    }
   ],
   "source": [
    "hours = float(input(\"Input Enter Hours: \"))\n",
    "rate = float(input(\"Enter Rate: \"))\n",
    "if hours < 40:\n",
    "    gross_pay = hours * rate\n",
    "else:\n",
    "    overtime = hours - 40\n",
    "    gross_pay = hours * rate + overtime * rate * 1.5\n",
    "gross_pay = round(gross_pay,2)\n",
    "print(f\"Pay: {gross_pay}\")"
   ]
  },
  {
   "cell_type": "code",
   "execution_count": null,
   "id": "2fae6936",
   "metadata": {},
   "outputs": [],
   "source": []
  }
 ],
 "metadata": {
  "kernelspec": {
   "display_name": "Python 3 (ipykernel)",
   "language": "python",
   "name": "python3"
  },
  "language_info": {
   "codemirror_mode": {
    "name": "ipython",
    "version": 3
   },
   "file_extension": ".py",
   "mimetype": "text/x-python",
   "name": "python",
   "nbconvert_exporter": "python",
   "pygments_lexer": "ipython3",
   "version": "3.9.12"
  }
 },
 "nbformat": 4,
 "nbformat_minor": 5
}
