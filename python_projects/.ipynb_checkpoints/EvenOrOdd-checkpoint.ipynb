{
 "cells": [
  {
   "cell_type": "markdown",
   "id": "78b1c82a",
   "metadata": {},
   "source": [
    "# Write a program that takes an integer number from console and checks whether if a number is an odd or even.\n",
    "\n",
    "Example:\n",
    "\n",
    "Input : 100\n",
    "Output : Even"
   ]
  },
  {
   "cell_type": "code",
   "execution_count": 5,
   "id": "220b706e",
   "metadata": {},
   "outputs": [
    {
     "name": "stdout",
     "output_type": "stream",
     "text": [
      "Number:100\n",
      "Even\n"
     ]
    }
   ],
   "source": [
    "num = int(input(\"Number:\"))\n",
    "if num % 2 == 0:\n",
    "    print(\"Even\")\n",
    "else:\n",
    "    print(\"Odd\")"
   ]
  },
  {
   "cell_type": "code",
   "execution_count": null,
   "id": "1d553a27",
   "metadata": {},
   "outputs": [],
   "source": []
  }
 ],
 "metadata": {
  "kernelspec": {
   "display_name": "Python 3 (ipykernel)",
   "language": "python",
   "name": "python3"
  },
  "language_info": {
   "codemirror_mode": {
    "name": "ipython",
    "version": 3
   },
   "file_extension": ".py",
   "mimetype": "text/x-python",
   "name": "python",
   "nbconvert_exporter": "python",
   "pygments_lexer": "ipython3",
   "version": "3.9.12"
  }
 },
 "nbformat": 4,
 "nbformat_minor": 5
}
