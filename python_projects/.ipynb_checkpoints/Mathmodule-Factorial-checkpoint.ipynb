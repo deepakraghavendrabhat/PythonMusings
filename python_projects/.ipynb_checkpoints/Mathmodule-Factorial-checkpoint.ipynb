{
 "cells": [
  {
   "cell_type": "markdown",
   "id": "958f0be3",
   "metadata": {},
   "source": [
    "Write a program that calculates the factorial (!) of any given number by a user.\n",
    "\n",
    "3! = 3*2*1 = 6\n",
    "\n",
    "4! = 4*3*2*1 = 24\n",
    "\n",
    "Example Input\n",
    "\n",
    "Enter a number: 4\n",
    "Example Output\n",
    "\n",
    "The factorial of 4 is: 24\n",
    "\n",
    "\n",
    "Hint : Use math module to calculate factorial"
   ]
  },
  {
   "cell_type": "code",
   "execution_count": 1,
   "id": "6d089274",
   "metadata": {},
   "outputs": [
    {
     "name": "stdout",
     "output_type": "stream",
     "text": [
      "Enter a number: 4\n",
      "The factorial of 4 is: 24\n"
     ]
    }
   ],
   "source": [
    "import math\n",
    "num = int(input(\"Enter a number: \"))\n",
    "factorial = math.factorial(num)\n",
    "print(f\"The factorial of {num} is: {factorial}\")"
   ]
  },
  {
   "cell_type": "code",
   "execution_count": null,
   "id": "6788e857",
   "metadata": {},
   "outputs": [],
   "source": []
  }
 ],
 "metadata": {
  "kernelspec": {
   "display_name": "Python 3 (ipykernel)",
   "language": "python",
   "name": "python3"
  },
  "language_info": {
   "codemirror_mode": {
    "name": "ipython",
    "version": 3
   },
   "file_extension": ".py",
   "mimetype": "text/x-python",
   "name": "python",
   "nbconvert_exporter": "python",
   "pygments_lexer": "ipython3",
   "version": "3.9.12"
  }
 },
 "nbformat": 4,
 "nbformat_minor": 5
}
