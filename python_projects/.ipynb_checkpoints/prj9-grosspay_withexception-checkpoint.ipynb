{
 "cells": [
  {
   "cell_type": "markdown",
   "id": "24b3828d",
   "metadata": {},
   "source": [
    "# Rewrite Gross Pay program using try and except so that your program handles non-numeric input gracefully by printing a message and exiting the program.\n",
    "\n",
    "Example Input\n",
    "Enter Hours: 20\n",
    "Enter Rate: ten\n",
    "Example Output\n",
    "Error, please enter numeric input for Rate\n",
    "Hint\n",
    "The quit() function is used to exit a python program. When it encounters the quit() function in the system, it terminates the execution of the program completely.\n",
    "\n",
    "It is possible to write programs that handle selected exceptions. In Python, a value is the information that is stored within a certain object. To encounter a ValueError in Python means that is a problem with the content of the object you tried to assign the value to."
   ]
  },
  {
   "cell_type": "code",
   "execution_count": 3,
   "id": "2466b9fc",
   "metadata": {},
   "outputs": [
    {
     "name": "stdout",
     "output_type": "stream",
     "text": [
      "Input Enter Hours: 90\n",
      "Enter Rate: four\n",
      "please enter numeric input for Rate\n"
     ]
    }
   ],
   "source": [
    "try:\n",
    "    hours = float(input(\"Input Enter Hours: \"))\n",
    "    rate = float(input(\"Enter Rate: \"))\n",
    "    if hours < 40:\n",
    "        gross_pay = hours * rate\n",
    "    else:\n",
    "        overtime = hours - 40\n",
    "        gross_pay = hours * rate + overtime * rate * 1.5\n",
    "        gross_pay = round(gross_pay,2)\n",
    "        print(f\"Pay: {gross_pay}\")\n",
    "except ValueError:\n",
    "    print(\"please enter numeric input for Rate\")"
   ]
  },
  {
   "cell_type": "code",
   "execution_count": null,
   "id": "bed07e32",
   "metadata": {},
   "outputs": [],
   "source": []
  }
 ],
 "metadata": {
  "kernelspec": {
   "display_name": "Python 3 (ipykernel)",
   "language": "python",
   "name": "python3"
  },
  "language_info": {
   "codemirror_mode": {
    "name": "ipython",
    "version": 3
   },
   "file_extension": ".py",
   "mimetype": "text/x-python",
   "name": "python",
   "nbconvert_exporter": "python",
   "pygments_lexer": "ipython3",
   "version": "3.9.12"
  }
 },
 "nbformat": 4,
 "nbformat_minor": 5
}
