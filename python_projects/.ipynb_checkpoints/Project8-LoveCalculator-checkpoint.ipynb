{
 "cells": [
  {
   "cell_type": "markdown",
   "id": "55249c3b",
   "metadata": {},
   "source": [
    "# Write a program to test the compatibility between two people.\n",
    "\n",
    "Take both people's names and check for the number of times the letters in the word TRUE occurs. Then check for the number of times the letters in the word LOVE occurs. Then combine these numbers to make a 2 digit number.\n",
    "\n",
    "For Love Scores less than 10 or greater than 85, the message should be:\n",
    "\n",
    "\"Your score is **x**, you go together like coke and mentos.\"\n",
    "\n",
    "For Love Scores between 40 and 70, the message should be:\n",
    "\n",
    "\"Your score is **y**, you are alright together.\"\n",
    "\n",
    "Otherwise, the message will just be their score. e.g.:\n",
    "\n",
    "\"Your score is **z**.\"\n",
    "\n",
    "Example\n",
    "\n",
    "name1 = \"David\"\n",
    "\n",
    "name2 = \"Jennifer\"\n",
    "\n",
    "T occurs 0 times\n",
    "\n",
    "R occurs 1 time\n",
    "\n",
    "U occurs 0 times\n",
    "\n",
    "E occurs 2 times\n",
    "\n",
    "Total = 3\n",
    "\n",
    "L occurs 0 time\n",
    "\n",
    "O occurs 0 times\n",
    "\n",
    "V occurs 1 times\n",
    "\n",
    "E occurs 2 times\n",
    "\n",
    "Total = 3\n",
    "\n",
    "Love Score = 33\n",
    "\n",
    "Print: \"Your score is 33.\"\n",
    "\n",
    "Example Input 1\n",
    "name1 = \"David\"\n",
    "name2 = \"Jennifer\"\n",
    "Example Output 1\n",
    "Your score is 33.\n",
    "Hint\n",
    "The lower() function changes all the letters in a string to lower case.\n",
    "\n",
    "The count() function will give you the number of times a letter occurs in a string."
   ]
  },
  {
   "cell_type": "code",
   "execution_count": 23,
   "id": "809a3e1a",
   "metadata": {},
   "outputs": [
    {
     "name": "stdout",
     "output_type": "stream",
     "text": [
      "Name1: david\n",
      "Name1: jennifer\n",
      "Your score is 33, you are alright together.\n"
     ]
    }
   ],
   "source": [
    "first_name = input(\"Name1: \")\n",
    "second_name = input(\"Name1: \")\n",
    "coupled_name = first_name+second_name\n",
    "count_true = coupled_name.lower().count('t') + coupled_name.lower().count('e') + coupled_name.lower().count('r') + coupled_name.lower().count('u')\n",
    "count_love = coupled_name.lower().count('l') + coupled_name.lower().count('o') + coupled_name.lower().count('v') + coupled_name.lower().count('e')\n",
    "score = int(count_true) * 10 + int(count_love)\n",
    "if score < 10 or score > 85:\n",
    "    print(f\"Your score is {score}, you go together like coke and mentos.\")\n",
    "elif score > 40 or score < 70:\n",
    "    print(f\"Your score is {score}, you are alright together.\")\n",
    "else:\n",
    "    print(f\"Your score is {score}.\")\n"
   ]
  },
  {
   "cell_type": "code",
   "execution_count": null,
   "id": "5bf1d463",
   "metadata": {},
   "outputs": [],
   "source": []
  }
 ],
 "metadata": {
  "kernelspec": {
   "display_name": "Python 3 (ipykernel)",
   "language": "python",
   "name": "python3"
  },
  "language_info": {
   "codemirror_mode": {
    "name": "ipython",
    "version": 3
   },
   "file_extension": ".py",
   "mimetype": "text/x-python",
   "name": "python",
   "nbconvert_exporter": "python",
   "pygments_lexer": "ipython3",
   "version": "3.9.12"
  }
 },
 "nbformat": 4,
 "nbformat_minor": 5
}
