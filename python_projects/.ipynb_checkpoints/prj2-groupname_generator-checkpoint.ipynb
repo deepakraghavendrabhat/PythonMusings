{
 "cells": [
  {
   "cell_type": "markdown",
   "id": "a38c1a83",
   "metadata": {},
   "source": [
    "# Group Name Project\n",
    "Instruction\n",
    "Create a greeting for your program.\n",
    "Ask the user for their favorite color.\n",
    "Ask the user for their favotire animal.\n",
    "Combine the name of their favorite color and animal and show them their group name.\n",
    "Examples\n",
    "Welcome to the Group Name Generator.\n",
    "What's your favorite color?\n",
    "> Red\n",
    "What's your favorite animal?\n",
    "> Lion\n",
    "Your group name could be Red Lions\n"
   ]
  },
  {
   "cell_type": "code",
   "execution_count": 3,
   "id": "6c2d7e88",
   "metadata": {},
   "outputs": [
    {
     "name": "stdout",
     "output_type": "stream",
     "text": [
      "Welcome to the Group Name Generator.\n",
      "What's your favorite color?\n",
      "white\n",
      "What's your favorite animal?\n",
      "cat\n",
      "Your group name could be white cats\n"
     ]
    }
   ],
   "source": [
    "print(\"Welcome to the Group Name Generator.\")\n",
    "color = input(\"What's your favorite color?\\n\")\n",
    "animal = input(\"What's your favorite animal?\\n\")\n",
    "print(f\"Your group name could be {color} {animal}s\")"
   ]
  },
  {
   "cell_type": "code",
   "execution_count": null,
   "id": "19ebc45d",
   "metadata": {},
   "outputs": [],
   "source": []
  }
 ],
 "metadata": {
  "kernelspec": {
   "display_name": "Python 3 (ipykernel)",
   "language": "python",
   "name": "python3"
  },
  "language_info": {
   "codemirror_mode": {
    "name": "ipython",
    "version": 3
   },
   "file_extension": ".py",
   "mimetype": "text/x-python",
   "name": "python",
   "nbconvert_exporter": "python",
   "pygments_lexer": "ipython3",
   "version": "3.9.12"
  }
 },
 "nbformat": 4,
 "nbformat_minor": 5
}
