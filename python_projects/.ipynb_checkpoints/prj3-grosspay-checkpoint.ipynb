{
 "cells": [
  {
   "cell_type": "markdown",
   "id": "7c39c1cf",
   "metadata": {},
   "source": [
    "# Instruction\n",
    "Write a program to prompt the user for hours and rate per hour to compute gross pay. You need to take into account that the result has exactly two digits after the decimal place.\n",
    "\n",
    "Input\n",
    "Enter Hours: 35\n",
    "Enter Rate: 2.75\n",
    "Output\n",
    "Pay: 96.25\n",
    "\n",
    "\n"
   ]
  },
  {
   "cell_type": "code",
   "execution_count": 6,
   "id": "293d4663",
   "metadata": {},
   "outputs": [
    {
     "name": "stdout",
     "output_type": "stream",
     "text": [
      "Enter Hours: 35\n",
      "Enter Rate: 2.751\n",
      "Pay: 96.28\n"
     ]
    }
   ],
   "source": [
    "hours = float(input(\"Enter Hours: \"))\n",
    "rate = float(input(\"Enter Rate: \"))\n",
    "pay = round(hours * rate,2)\n",
    "print(f\"Pay: {pay}\")"
   ]
  },
  {
   "cell_type": "code",
   "execution_count": null,
   "id": "07c61c6d",
   "metadata": {},
   "outputs": [],
   "source": []
  }
 ],
 "metadata": {
  "kernelspec": {
   "display_name": "Python 3 (ipykernel)",
   "language": "python",
   "name": "python3"
  },
  "language_info": {
   "codemirror_mode": {
    "name": "ipython",
    "version": 3
   },
   "file_extension": ".py",
   "mimetype": "text/x-python",
   "name": "python",
   "nbconvert_exporter": "python",
   "pygments_lexer": "ipython3",
   "version": "3.9.12"
  }
 },
 "nbformat": 4,
 "nbformat_minor": 5
}
