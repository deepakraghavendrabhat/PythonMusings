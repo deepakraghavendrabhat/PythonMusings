{
 "cells": [
  {
   "cell_type": "markdown",
   "id": "19eaeefc",
   "metadata": {},
   "source": [
    "# Greeting Project\n",
    "Instruction\n",
    "Write a program that uses input to prompt a user for their name and then welcomes them.\n",
    "\n",
    "Input\n",
    "Elshad\n",
    "Output\n",
    "Hello Elshad.\n",
    "Wellcome to the Python\n"
   ]
  },
  {
   "cell_type": "code",
   "execution_count": 3,
   "id": "bc3f6aac",
   "metadata": {},
   "outputs": [
    {
     "name": "stdout",
     "output_type": "stream",
     "text": [
      "Please provide your name:dee\n",
      "Hello dee.\n",
      "Wellcome to the Python\n"
     ]
    }
   ],
   "source": [
    "user_input = input(\"Please provide your name:\")\n",
    "print(f\"Hello {user_input}.\")\n",
    "print(\"Wellcome to the Python\")"
   ]
  },
  {
   "cell_type": "code",
   "execution_count": null,
   "id": "eed912a0",
   "metadata": {},
   "outputs": [],
   "source": []
  }
 ],
 "metadata": {
  "kernelspec": {
   "display_name": "Python 3 (ipykernel)",
   "language": "python",
   "name": "python3"
  },
  "language_info": {
   "codemirror_mode": {
    "name": "ipython",
    "version": 3
   },
   "file_extension": ".py",
   "mimetype": "text/x-python",
   "name": "python",
   "nbconvert_exporter": "python",
   "pygments_lexer": "ipython3",
   "version": "3.9.12"
  }
 },
 "nbformat": 4,
 "nbformat_minor": 5
}
