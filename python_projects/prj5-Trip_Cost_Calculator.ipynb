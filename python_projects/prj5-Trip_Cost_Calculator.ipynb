{
 "cells": [
  {
   "cell_type": "markdown",
   "id": "0e365afe",
   "metadata": {},
   "source": [
    "# Instruction\n",
    "Write a program which calculates trip cost for a user.\n",
    "\n",
    "Create a greeting for your program.\n",
    "Ask the user for number of days.\n",
    "Ask the user for hotel price.\n",
    "Ask the user for flight price.\n",
    "Ask the user for rental car price.\n",
    "Ask for other expenses.\n",
    "Combine all expenses together and print with 2 digits after decimal places.\n",
    "Input\n",
    "Welcome to the Trip Cost Calculator!\n",
    "How many days will you stay? 3\n",
    "How much does hotel cost per night? $30\n",
    "How much does flight cost? $50\n",
    "If you need rental car please enter the price otherwise enter zero. $10\n",
    "Enter other possible expenses $0\n",
    "Output\n",
    "Total Cost: $170.0\n"
   ]
  },
  {
   "cell_type": "code",
   "execution_count": 1,
   "id": "2213fb0c",
   "metadata": {},
   "outputs": [
    {
     "name": "stdout",
     "output_type": "stream",
     "text": [
      "Welcome to the Trip Cost Calculator!\n",
      "How many days will you stay? $7\n",
      "How much does hotel cost per night? $35.75\n",
      "How much does flight cost? $150\n",
      "If you need rental car please enter the price otherwise enter zero. $13\n",
      "Enter other possible expenses $7\n",
      "Total Cost: $498.25\n"
     ]
    }
   ],
   "source": [
    "print(\"Welcome to the Trip Cost Calculator!\")\n",
    "days = int(input(\"How many days will you stay? $\"))\n",
    "hotel = float(input(\"How much does hotel cost per night? $\"))\n",
    "flight = float(input(\"How much does flight cost? $\"))\n",
    "car = float(input(\"If you need rental car please enter the price otherwise enter zero. $\"))\n",
    "other_expenses = float(input(\"Enter other possible expenses $\"))\n",
    "total_expenses = round(days*hotel+flight+days*car+other_expenses,2)\n",
    "print(f\"Total Cost: ${total_expenses}\")"
   ]
  },
  {
   "cell_type": "markdown",
   "id": "ebc32fc7",
   "metadata": {},
   "source": []
  }
 ],
 "metadata": {
  "kernelspec": {
   "display_name": "Python 3 (ipykernel)",
   "language": "python",
   "name": "python3"
  },
  "language_info": {
   "codemirror_mode": {
    "name": "ipython",
    "version": 3
   },
   "file_extension": ".py",
   "mimetype": "text/x-python",
   "name": "python",
   "nbconvert_exporter": "python",
   "pygments_lexer": "ipython3",
   "version": "3.9.12"
  }
 },
 "nbformat": 4,
 "nbformat_minor": 5
}
