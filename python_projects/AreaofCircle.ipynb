{
 "cells": [
  {
   "cell_type": "markdown",
   "id": "3a981c35",
   "metadata": {},
   "source": [
    "# Write a program that calculates the area of circle based on user input of radius using equation provided below. The output must be rounded to 2 decimal places.\n",
    "\n",
    "\n",
    "Example Input\n",
    "\n",
    "Enter Radius: 4\n",
    "Example Output\n",
    "\n",
    "The area of circle is: 50.27\n",
    "\n",
    "\n"
   ]
  },
  {
   "cell_type": "code",
   "execution_count": 21,
   "id": "c13b714c",
   "metadata": {},
   "outputs": [
    {
     "name": "stdout",
     "output_type": "stream",
     "text": [
      "Enter Radius: 4\n",
      "The area of circle is: 50.27\n"
     ]
    }
   ],
   "source": [
    "import math\n",
    "area = round(math.pi * int(input(\"Enter Radius: \")) ** 2,2)\n",
    "print(f\"The area of circle is: {area}\")"
   ]
  },
  {
   "cell_type": "code",
   "execution_count": null,
   "id": "1a9d0886",
   "metadata": {},
   "outputs": [],
   "source": []
  }
 ],
 "metadata": {
  "kernelspec": {
   "display_name": "Python 3 (ipykernel)",
   "language": "python",
   "name": "python3"
  },
  "language_info": {
   "codemirror_mode": {
    "name": "ipython",
    "version": 3
   },
   "file_extension": ".py",
   "mimetype": "text/x-python",
   "name": "python",
   "nbconvert_exporter": "python",
   "pygments_lexer": "ipython3",
   "version": "3.9.12"
  }
 },
 "nbformat": 4,
 "nbformat_minor": 5
}
