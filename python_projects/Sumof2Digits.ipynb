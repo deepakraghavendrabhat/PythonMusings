{
 "cells": [
  {
   "cell_type": "markdown",
   "id": "53d6765b",
   "metadata": {},
   "source": [
    "Sum of Digits of 2 Digit Number\n",
    "Create a function that takes two digit number from console and returns sum of digits. e.g. if the input was 45, then the output should be 4 + 5 = 9\n",
    "\n",
    "Example Input\n",
    "\n",
    "sum_of_two_digits()\n",
    "Enter two digit number: 45 \n",
    "Output\n",
    "\n",
    "4 + 5  = 9\n",
    "\n",
    "9"
   ]
  },
  {
   "cell_type": "code",
   "execution_count": 25,
   "id": "2e04b2f0",
   "metadata": {},
   "outputs": [
    {
     "name": "stdout",
     "output_type": "stream",
     "text": [
      "Enter two digit number: 7\n",
      "7\n"
     ]
    }
   ],
   "source": [
    "def sum_of_two_digits():\n",
    "    digits = input(\"Enter two digit number: \")\n",
    "    if len(digits) == 1:\n",
    "        return digits\n",
    "    else:\n",
    "        return(int(digits[0])+int(digits[1]))\n",
    "print(sum_of_two_digits())"
   ]
  },
  {
   "cell_type": "code",
   "execution_count": null,
   "id": "398670f2",
   "metadata": {},
   "outputs": [],
   "source": []
  }
 ],
 "metadata": {
  "kernelspec": {
   "display_name": "Python 3 (ipykernel)",
   "language": "python",
   "name": "python3"
  },
  "language_info": {
   "codemirror_mode": {
    "name": "ipython",
    "version": 3
   },
   "file_extension": ".py",
   "mimetype": "text/x-python",
   "name": "python",
   "nbconvert_exporter": "python",
   "pygments_lexer": "ipython3",
   "version": "3.9.12"
  }
 },
 "nbformat": 4,
 "nbformat_minor": 5
}
