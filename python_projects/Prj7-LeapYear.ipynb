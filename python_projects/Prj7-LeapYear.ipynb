{
 "cells": [
  {
   "cell_type": "markdown",
   "id": "f4f63caa",
   "metadata": {},
   "source": [
    "# Write a program that works out whether if a given year is a leap year. A normal year has 365 days, leap years have 366, with an extra day in February.\n",
    "\n",
    "Three criteria must be taken into account to identify leap years:\n",
    "\n",
    "This is how you work out whether if a particular year is a leap year.\n",
    "\n",
    "The year must be evenly divisible by 4; If the year can also be evenly divided by 100, it is not a leap year; **unless** the year is also evenly divisible by 400\n",
    "\n",
    "e.g. The year 2000:\n",
    "\n",
    "2000 ÷ 4 = 500 (Leap)\n",
    "\n",
    "2000 ÷ 100 = 20 (Not Leap)\n",
    "\n",
    "2000 ÷ 400 = 5 (Leap!)\n",
    "\n",
    "So the year 2000 is a leap year.\n",
    "\n",
    "Example Input\n",
    "2400\n",
    "Example Output\n",
    "Leap year.\n"
   ]
  },
  {
   "cell_type": "code",
   "execution_count": 8,
   "id": "181b880c",
   "metadata": {},
   "outputs": [
    {
     "name": "stdout",
     "output_type": "stream",
     "text": [
      "Input year: 2022\n"
     ]
    }
   ],
   "source": [
    "year = int(input(\"Input year: \"))\n",
    "if year % 4 == 0:\n",
    "    if (year % 100 == 0):\n",
    "        print(\"Not a Leap year\")\n",
    "    else:\n",
    "        if year % 400 == 0:\n",
    "            print(\"Leap year\")\n",
    "        else:\n",
    "            print(\"Not a Leap year\")\n",
    "    \n",
    "        "
   ]
  },
  {
   "cell_type": "code",
   "execution_count": null,
   "id": "c07e5321",
   "metadata": {},
   "outputs": [],
   "source": []
  }
 ],
 "metadata": {
  "kernelspec": {
   "display_name": "Python 3 (ipykernel)",
   "language": "python",
   "name": "python3"
  },
  "language_info": {
   "codemirror_mode": {
    "name": "ipython",
    "version": 3
   },
   "file_extension": ".py",
   "mimetype": "text/x-python",
   "name": "python",
   "nbconvert_exporter": "python",
   "pygments_lexer": "ipython3",
   "version": "3.9.12"
  }
 },
 "nbformat": 4,
 "nbformat_minor": 5
}
