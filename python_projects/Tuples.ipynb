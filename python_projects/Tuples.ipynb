{
  "cells": [
    {
      "cell_type": "code",
      "source": [
        "t = (1,2,3,4)\n",
        "t"
      ],
      "outputs": [
        {
          "output_type": "execute_result",
          "execution_count": 1,
          "data": {
            "text/plain": "(1, 2, 3, 4)"
          },
          "metadata": {}
        }
      ],
      "execution_count": 1,
      "metadata": {
        "execution": {
          "shell.execute_reply": "2022-10-21T09:46:00.035Z",
          "iopub.status.busy": "2022-10-21T09:46:00.008Z",
          "iopub.execute_input": "2022-10-21T09:46:00.016Z",
          "iopub.status.idle": "2022-10-21T09:46:00.029Z"
        },
        "tags": [
          "parameters"
        ]
      },
      "id": "4b7839b4"
    },
    {
      "cell_type": "code",
      "source": [
        "t[0]"
      ],
      "outputs": [],
      "execution_count": null,
      "metadata": {},
      "id": "a6699bb0"
    },
    {
      "cell_type": "code",
      "source": [
        "type(t)"
      ],
      "outputs": [],
      "execution_count": null,
      "metadata": {},
      "id": "96503bbb"
    },
    {
      "cell_type": "code",
      "source": [
        "# not single valued tuple\n",
        "sample1 = 1\n",
        "print(sample1)\n",
        "type(sample1)\n"
      ],
      "outputs": [],
      "execution_count": null,
      "metadata": {},
      "id": "fc31c987"
    },
    {
      "cell_type": "code",
      "source": [
        "# not single valued tuple\n",
        "sample2 = (1)\n",
        "print(sample2)\n",
        "type(sample2)"
      ],
      "outputs": [],
      "execution_count": null,
      "metadata": {},
      "id": "44ef07a7"
    },
    {
      "cell_type": "code",
      "source": [
        "#indexing in tuples\n",
        "t = (1,\"a\",2)\n",
        "t"
      ],
      "outputs": [],
      "execution_count": null,
      "metadata": {},
      "id": "031c0e40"
    },
    {
      "cell_type": "code",
      "source": [
        "t[0]"
      ],
      "outputs": [],
      "execution_count": null,
      "metadata": {},
      "id": "b3f0d56c"
    },
    {
      "cell_type": "code",
      "source": [
        "t[-1]"
      ],
      "outputs": [],
      "execution_count": null,
      "metadata": {},
      "id": "342f75c4"
    },
    {
      "cell_type": "code",
      "source": [
        "# tuples and strings\n",
        "t1 = (\"deepak\",1,2)\n",
        "t1[0][3]"
      ],
      "outputs": [],
      "execution_count": null,
      "metadata": {},
      "id": "976cf980"
    },
    {
      "cell_type": "code",
      "source": [
        "#immutability\n",
        "t2 = (1,2,3)\n",
        "t2[0] = 3\n",
        "#error - TypeError: 'tuple' object does not support item assignment"
      ],
      "outputs": [],
      "execution_count": null,
      "metadata": {},
      "id": "2168d086"
    },
    {
      "cell_type": "code",
      "source": [
        "t =(\"USA\",3,4,\"Disco\",7.5)\n",
        "new_tuple = t[0:3] + (\"Hard Rock\",) + t[4:]\n",
        "new_tuple"
      ],
      "outputs": [],
      "execution_count": null,
      "metadata": {},
      "id": "6d8db81a"
    },
    {
      "cell_type": "code",
      "source": [
        "#concat\n",
        "\n",
        "t1 = 1,3,4\n",
        "t2 = 4,6,7\n",
        "t3 = t1 + t2\n",
        "t3"
      ],
      "outputs": [],
      "execution_count": null,
      "metadata": {},
      "id": "5dde9928"
    },
    {
      "cell_type": "code",
      "source": [
        "#math on tuples\n",
        "tuple = (2,3.2,4,5)\n",
        "print(sum(t1))"
      ],
      "outputs": [],
      "execution_count": null,
      "metadata": {},
      "id": "e0f5a7b7"
    },
    {
      "cell_type": "code",
      "source": [
        "max(t1)"
      ],
      "outputs": [],
      "execution_count": null,
      "metadata": {},
      "id": "eb36ea2f"
    },
    {
      "cell_type": "code",
      "source": [
        "min(t1)"
      ],
      "outputs": [],
      "execution_count": null,
      "metadata": {},
      "id": "54e03a89"
    },
    {
      "cell_type": "code",
      "source": [
        "#math on tuples\n",
        "tuple1 = (2,3.2,4,5)\n",
        "print(sum(tuple1))"
      ],
      "outputs": [],
      "execution_count": null,
      "metadata": {},
      "id": "494bb722"
    },
    {
      "cell_type": "code",
      "source": [
        "#nested tuples\n",
        "t = (1.5,6,7,\"python\",4)\n",
        "t"
      ],
      "outputs": [],
      "execution_count": null,
      "metadata": {},
      "id": "c90401a6"
    },
    {
      "cell_type": "code",
      "source": [
        "t[3]"
      ],
      "outputs": [],
      "execution_count": null,
      "metadata": {},
      "id": "0cc404e6"
    },
    {
      "cell_type": "code",
      "source": [
        "t[3][1]"
      ],
      "outputs": [],
      "execution_count": null,
      "metadata": {},
      "id": "ff4d3423"
    },
    {
      "cell_type": "code",
      "source": [
        "t = (1.5,6,7,(\"python\",\"java\"),4)\n",
        "t"
      ],
      "outputs": [],
      "execution_count": null,
      "metadata": {},
      "id": "c8c249d2"
    },
    {
      "cell_type": "code",
      "source": [
        "t[3]"
      ],
      "outputs": [],
      "execution_count": null,
      "metadata": {},
      "id": "d8f4504c"
    },
    {
      "cell_type": "code",
      "source": [
        "t[3][1]"
      ],
      "outputs": [],
      "execution_count": null,
      "metadata": {},
      "id": "21d2f878"
    },
    {
      "cell_type": "code",
      "source": [
        "t[3][1][2]"
      ],
      "outputs": [],
      "execution_count": null,
      "metadata": {},
      "id": "7e8406ba"
    },
    {
      "cell_type": "code",
      "source": [
        "#packing\n",
        "t = (1,2,3,4)\n",
        "t"
      ],
      "outputs": [],
      "execution_count": null,
      "metadata": {},
      "id": "e3f36793"
    },
    {
      "cell_type": "code",
      "source": [
        "#unpacking\n",
        "(a,b,c,d) = t\n",
        "t"
      ],
      "outputs": [],
      "execution_count": null,
      "metadata": {},
      "id": "070f0bf4"
    },
    {
      "cell_type": "code",
      "source": [
        "#errored unpacking\n",
        "(a,b,d) = t\n",
        "t"
      ],
      "outputs": [],
      "execution_count": null,
      "metadata": {},
      "id": "155cc8a5"
    },
    {
      "cell_type": "code",
      "source": [
        "#dir()\n",
        "\n",
        "t = ()\n",
        "print(dir(t))"
      ],
      "outputs": [],
      "execution_count": null,
      "metadata": {},
      "id": "1c4fedb7"
    },
    {
      "cell_type": "code",
      "source": [],
      "outputs": [],
      "execution_count": null,
      "metadata": {},
      "id": "afcdfbe6"
    }
  ],
  "metadata": {
    "kernelspec": {
      "display_name": "Python 3 (ipykernel)",
      "language": "python",
      "name": "python3"
    },
    "language_info": {
      "name": "python",
      "version": "3.9.13",
      "mimetype": "text/x-python",
      "codemirror_mode": {
        "name": "ipython",
        "version": 3
      },
      "pygments_lexer": "ipython3",
      "nbconvert_exporter": "python",
      "file_extension": ".py"
    },
    "nteract": {
      "version": "0.28.0"
    }
  },
  "nbformat": 4,
  "nbformat_minor": 5
}