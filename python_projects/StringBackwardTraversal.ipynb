{
 "cells": [
  {
   "cell_type": "markdown",
   "id": "8370e3d3",
   "metadata": {},
   "source": [
    "Backward Traversal\n",
    "Write a while loop that starts at the last character in the string and works its way backwards to the first character in the string, printing each letter on a separate line, except backwards.\n",
    "\n",
    "Input\n",
    "\n",
    "Enter a string: Python\n",
    "\n",
    "Output\n",
    "\n",
    "n\n",
    "o\n",
    "h\n",
    "t\n",
    "y\n",
    "P"
   ]
  },
  {
   "cell_type": "code",
   "execution_count": 3,
   "id": "4d6cfa4b",
   "metadata": {},
   "outputs": [
    {
     "name": "stdout",
     "output_type": "stream",
     "text": [
      "Enter a string: dee\n",
      "e\n",
      "e\n",
      "d\n"
     ]
    }
   ],
   "source": [
    "string = input(\"Enter a string: \")\n",
    "index = -1\n",
    "length = -1 * len(string)\n",
    "while index >= length:\n",
    "    print(string[index])\n",
    "    index-= 1"
   ]
  },
  {
   "cell_type": "code",
   "execution_count": null,
   "id": "bd8f5456",
   "metadata": {},
   "outputs": [],
   "source": []
  }
 ],
 "metadata": {
  "kernelspec": {
   "display_name": "Python 3 (ipykernel)",
   "language": "python",
   "name": "python3"
  },
  "language_info": {
   "codemirror_mode": {
    "name": "ipython",
    "version": 3
   },
   "file_extension": ".py",
   "mimetype": "text/x-python",
   "name": "python",
   "nbconvert_exporter": "python",
   "pygments_lexer": "ipython3",
   "version": "3.9.12"
  }
 },
 "nbformat": 4,
 "nbformat_minor": 5
}
