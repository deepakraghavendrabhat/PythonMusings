{
 "cells": [
  {
   "cell_type": "code",
   "execution_count": null,
   "id": "50dd300c",
   "metadata": {},
   "outputs": [],
   "source": [
    "import random\n",
    "print(random.randint(1,2))\n",
    "print(random.shuffle([1,3,4,5,6,7]))"
   ]
  },
  {
   "cell_type": "code",
   "execution_count": null,
   "id": "437b449d",
   "metadata": {},
   "outputs": [],
   "source": [
    "random_int = random.randint(10,100)\n",
    "print(random_int)"
   ]
  },
  {
   "cell_type": "code",
   "execution_count": 3,
   "id": "4f46e1e6",
   "metadata": {},
   "outputs": [
    {
     "name": "stdout",
     "output_type": "stream",
     "text": [
      "1\n",
      "Heads\n"
     ]
    }
   ],
   "source": [
    "import random\n",
    "toss = random.randint(0,1)\n",
    "if toss == 0:\n",
    "    print(\"Tails\")\n",
    "else:\n",
    "    print(\"Heads\")"
   ]
  },
  {
   "cell_type": "code",
   "execution_count": null,
   "id": "e5d4e41f",
   "metadata": {},
   "outputs": [],
   "source": []
  }
 ],
 "metadata": {
  "kernelspec": {
   "display_name": "Python 3 (ipykernel)",
   "language": "python",
   "name": "python3"
  },
  "language_info": {
   "codemirror_mode": {
    "name": "ipython",
    "version": 3
   },
   "file_extension": ".py",
   "mimetype": "text/x-python",
   "name": "python",
   "nbconvert_exporter": "python",
   "pygments_lexer": "ipython3",
   "version": "3.9.12"
  }
 },
 "nbformat": 4,
 "nbformat_minor": 5
}
