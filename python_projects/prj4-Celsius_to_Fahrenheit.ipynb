{
 "cells": [
  {
   "cell_type": "markdown",
   "id": "e3fc876a",
   "metadata": {},
   "source": [
    "# Instruction\n",
    "Write a program which prompts the user for a Celsius temperature, convert the temperature to Fahrenheit, and print out the converted temperature. Formula : (°C × 9/5) + 32 = °F\n",
    "\n",
    "Input\n",
    "Enter Temperature in Celsius: 10\n",
    "Output\n",
    "10 Celsius = 50 Fahrenheit\n"
   ]
  },
  {
   "cell_type": "code",
   "execution_count": 3,
   "id": "25515e3b",
   "metadata": {},
   "outputs": [
    {
     "name": "stdout",
     "output_type": "stream",
     "text": [
      "Enter Temperature in Celsius: 10\n",
      "10 Celsius = 50 Fahrenheit\n"
     ]
    }
   ],
   "source": [
    "celsius = int(input(\"Enter Temperature in Celsius: \"))\n",
    "fahrenheit = int((celsius * (9/5)) + 32)\n",
    "print(f\"{celsius} Celsius = {fahrenheit} Fahrenheit\")"
   ]
  },
  {
   "cell_type": "code",
   "execution_count": null,
   "id": "cf86fab8",
   "metadata": {},
   "outputs": [],
   "source": []
  }
 ],
 "metadata": {
  "kernelspec": {
   "display_name": "Python 3 (ipykernel)",
   "language": "python",
   "name": "python3"
  },
  "language_info": {
   "codemirror_mode": {
    "name": "ipython",
    "version": 3
   },
   "file_extension": ".py",
   "mimetype": "text/x-python",
   "name": "python",
   "nbconvert_exporter": "python",
   "pygments_lexer": "ipython3",
   "version": "3.9.12"
  }
 },
 "nbformat": 4,
 "nbformat_minor": 5
}
