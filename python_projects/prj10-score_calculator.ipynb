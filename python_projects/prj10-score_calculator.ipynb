{
 "cells": [
  {
   "cell_type": "markdown",
   "id": "25534993",
   "metadata": {},
   "source": [
    "# Write a program to prompt for a score between 0.0 and 1.0. If the score is out of range, print an error message. If the score is between 0.0 and 1.0, print a grade using the following table:\n",
    "\n",
    "Grade\tScore\n",
    "A\t>= 0.9\n",
    "B\t>= 0.8\n",
    "C\t>= 0.7\n",
    "D\t>= 0.6\n",
    "F\t< 0.6\n",
    "Example\n",
    "Enter score: perfect\n",
    "> Bad score\n",
    "Enter score: 10.0\n",
    "> Bad score\n",
    "Enter score: 0.75\n",
    "> C\n",
    "Enter score: 0.5\n",
    "> F\n"
   ]
  },
  {
   "cell_type": "code",
   "execution_count": 8,
   "id": "47424d66",
   "metadata": {},
   "outputs": [
    {
     "name": "stdout",
     "output_type": "stream",
     "text": [
      "Enter score: 0.5\n",
      "0.5 F\n"
     ]
    }
   ],
   "source": [
    "try:\n",
    "    score = float(input(\"Enter score: \"))\n",
    "    if score >= 0.0 and score <= 1.0:\n",
    "        if score >= 0.9:\n",
    "            print(f\"{score} A\")\n",
    "        elif score >=0.8 and score < 0.9:\n",
    "            print(f\"{score} B\")\n",
    "        elif score >=0.7 and score < 0.8:\n",
    "            print(f\"{score} C\")\n",
    "        elif score >=0.6:\n",
    "            print(f\"{score} D\")\n",
    "        else:\n",
    "            print(f\"{score} F\")\n",
    "    else:\n",
    "        print(\"Bad Score\")\n",
    "except:\n",
    "    print(\"Bad Score\")"
   ]
  },
  {
   "cell_type": "code",
   "execution_count": null,
   "id": "c6fd41f3",
   "metadata": {},
   "outputs": [],
   "source": []
  }
 ],
 "metadata": {
  "kernelspec": {
   "display_name": "Python 3 (ipykernel)",
   "language": "python",
   "name": "python3"
  },
  "language_info": {
   "codemirror_mode": {
    "name": "ipython",
    "version": 3
   },
   "file_extension": ".py",
   "mimetype": "text/x-python",
   "name": "python",
   "nbconvert_exporter": "python",
   "pygments_lexer": "ipython3",
   "version": "3.9.12"
  }
 },
 "nbformat": 4,
 "nbformat_minor": 5
}
