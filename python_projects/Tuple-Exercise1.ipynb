{
 "cells": [
  {
   "cell_type": "markdown",
   "id": "7398db40",
   "metadata": {},
   "source": [
    "Tuple\n",
    "Description\n",
    "Add the element ‘Python’ to a tuple input_tuple = ('Monty Python', 'British', 1969). Since tuples are immutable, one way to do this is to convert the tuple to a list, add the element, and convert it back to a tuple.\n",
    "\n",
    "\n",
    "\n",
    "Sample Input:\n",
    "\n",
    "('Monty Python', 'British', 1969)\n",
    "\n",
    "\n",
    "\n",
    "Sample Output:\n",
    "\n",
    "﻿('Monty Python', 'British', 1969, 'Python')\n",
    "\n",
    "\n",
    "\n",
    "\n",
    "\n",
    "Execution Time Limit\n",
    "15 seconds"
   ]
  },
  {
   "cell_type": "code",
   "execution_count": 10,
   "id": "cc76bb3b",
   "metadata": {},
   "outputs": [
    {
     "name": "stdout",
     "output_type": "stream",
     "text": [
      "<class 'tuple'>\n"
     ]
    }
   ],
   "source": [
    "# import ast,sys\n",
    "# input_str = sys.stdin.read()\n",
    "# input_tuple = ast.literal_eval(input_str)\n",
    "\n",
    "# Write your code here\n",
    "\n",
    "input_tuple = ('Monty Python', 'British', 1969)\n",
    "tuple_2 = list(input_tuple)\n",
    "tuple_2.append(\"Python\")\n",
    "tuple_2 = tuple(tuple_2)\n",
    "# Make sure to name the final tuple 'tuple_2'\n",
    "print(type(tuple_2))"
   ]
  },
  {
   "cell_type": "code",
   "execution_count": null,
   "id": "a9c69d56",
   "metadata": {},
   "outputs": [],
   "source": []
  }
 ],
 "metadata": {
  "kernelspec": {
   "display_name": "Python 3 (ipykernel)",
   "language": "python",
   "name": "python3"
  },
  "language_info": {
   "codemirror_mode": {
    "name": "ipython",
    "version": 3
   },
   "file_extension": ".py",
   "mimetype": "text/x-python",
   "name": "python",
   "nbconvert_exporter": "python",
   "pygments_lexer": "ipython3",
   "version": "3.9.12"
  }
 },
 "nbformat": 4,
 "nbformat_minor": 5
}
