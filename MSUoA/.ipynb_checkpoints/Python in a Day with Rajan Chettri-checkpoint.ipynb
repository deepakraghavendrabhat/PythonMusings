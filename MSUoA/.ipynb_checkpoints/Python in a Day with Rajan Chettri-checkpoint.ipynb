{
 "cells": [
  {
   "cell_type": "markdown",
   "id": "824da247",
   "metadata": {},
   "source": [
    "## 🚨 1.1 String Formatting\n",
    "<hr/>"
   ]
  },
  {
   "cell_type": "code",
   "execution_count": 1,
   "id": "e4646357",
   "metadata": {},
   "outputs": [],
   "source": [
    "planet='earth'\n",
    "diameter=12734"
   ]
  },
  {
   "cell_type": "code",
   "execution_count": 3,
   "id": "0ebb62e2",
   "metadata": {},
   "outputs": [
    {
     "name": "stdout",
     "output_type": "stream",
     "text": [
      "the diameter of  earth is  12734\n"
     ]
    }
   ],
   "source": [
    "print('the diameter of ',planet,'is ', diameter ) # ❌ InAppropirate Method of preparing Strings/Msg."
   ]
  },
  {
   "cell_type": "code",
   "execution_count": null,
   "id": "7f276c59",
   "metadata": {},
   "outputs": [],
   "source": []
  },
  {
   "cell_type": "markdown",
   "id": "027fb2c7",
   "metadata": {},
   "source": [
    " ✅ fstring"
   ]
  },
  {
   "cell_type": "code",
   "execution_count": 4,
   "id": "22983d66",
   "metadata": {},
   "outputs": [
    {
     "name": "stdout",
     "output_type": "stream",
     "text": [
      "The diameter of earth is 12734\n"
     ]
    }
   ],
   "source": [
    "print(f'The diameter of {planet} is {diameter}')"
   ]
  },
  {
   "cell_type": "code",
   "execution_count": null,
   "id": "a1cf62a0",
   "metadata": {},
   "outputs": [],
   "source": []
  },
  {
   "cell_type": "code",
   "execution_count": 6,
   "id": "4e417dc6",
   "metadata": {},
   "outputs": [
    {
     "name": "stdout",
     "output_type": "stream",
     "text": [
      "The diameter of earth is 12734\n"
     ]
    }
   ],
   "source": [
    "print(f'The diameter of {planet} is {diameter}') # 🔴"
   ]
  },
  {
   "cell_type": "code",
   "execution_count": null,
   "id": "afe0cf52",
   "metadata": {},
   "outputs": [],
   "source": []
  },
  {
   "cell_type": "code",
   "execution_count": null,
   "id": "9b6cb32f",
   "metadata": {},
   "outputs": [],
   "source": [
    "⚠️ Did u Observe ?\n",
    "\n",
    "    👉 the 'f' before quotation.\n",
    "    👉 'f' help us extract value of Variable specified in {}\n",
    "    👉 variables must be enclosed in curly bracket."
   ]
  },
  {
   "cell_type": "code",
   "execution_count": null,
   "id": "a786ce75",
   "metadata": {},
   "outputs": [],
   "source": []
  },
  {
   "cell_type": "code",
   "execution_count": 8,
   "id": "06a65c83",
   "metadata": {},
   "outputs": [
    {
     "data": {
      "text/plain": [
       "'i ate a clock yesterday it was very time consuming.'"
      ]
     },
     "execution_count": 8,
     "metadata": {},
     "output_type": "execute_result"
    }
   ],
   "source": [
    "# 🐙 Quick Activity : to build your confidence.\n",
    "\n",
    "day='yesterday'\n",
    "impact='time consuming'\n",
    "\n",
    "'i ate a clock yesterday it was very time consuming.'"
   ]
  },
  {
   "cell_type": "code",
   "execution_count": 10,
   "id": "a9bc61be",
   "metadata": {},
   "outputs": [
    {
     "name": "stdout",
     "output_type": "stream",
     "text": [
      "i ate a clock yesterday it was very time consuming\n"
     ]
    }
   ],
   "source": [
    "print(f'i ate a clock {day} it was very {impact}')"
   ]
  },
  {
   "cell_type": "code",
   "execution_count": null,
   "id": "b8816e89",
   "metadata": {},
   "outputs": [],
   "source": []
  },
  {
   "cell_type": "markdown",
   "id": "7e76e50d",
   "metadata": {},
   "source": [
    "## Simulating 🧑‍⚕️ Employees PayRoll\n",
    "<hr/>\n",
    "\n",
    "Targets: Decision Making in Python."
   ]
  },
  {
   "cell_type": "markdown",
   "id": "9ffc070d",
   "metadata": {},
   "source": [
    "ask the user to enter his basicPay 💴 \n",
    "\n",
    "if the basicPay is greater or equal to 5000 then\n",
    "\n",
    "        HRA will be 12% of basicPay\n",
    "        DA  will be 14% of basicPay\n",
    "        \n",
    "        \n",
    "if the basicPay is lesser then 5000 then\n",
    "    \n",
    "        HRA will be 16% of basicPay\n",
    "        DA  will be 18% of basicPay\n",
    "        \n",
    "find GrossPay 💰  i.e sum of basicPay + HRA + DA.\n"
   ]
  },
  {
   "cell_type": "code",
   "execution_count": null,
   "id": "cb59c540",
   "metadata": {},
   "outputs": [],
   "source": []
  },
  {
   "cell_type": "code",
   "execution_count": 12,
   "id": "d2dbdfb1",
   "metadata": {},
   "outputs": [
    {
     "name": "stdout",
     "output_type": "stream",
     "text": [
      "Enter your Basic Pay ! 💵 7500\n",
      "\n",
      "\n",
      "Rajan's Salary Slip\n",
      "\n",
      "Base Pay 7500\n",
      "\n",
      "HRA      900.0\n",
      "\n",
      "DA       1050.0\n",
      "\n",
      "Total Salary   9450.0\n",
      "\n"
     ]
    }
   ],
   "source": [
    "basicPay = int(input('Enter your Basic Pay ! 💵 '))\n",
    "\n",
    "\n",
    "if basicPay >=5000:\n",
    "    \n",
    "    HRA = basicPay * .12\n",
    "    DA  = basicPay * .14\n",
    "    \n",
    "else:\n",
    "    \n",
    "    HRA = basicPay * .16\n",
    "    DA  = basicPay * .18\n",
    "    \n",
    "\n",
    "grossPay = basicPay + HRA + DA\n",
    "\n",
    "salarySlip=f\"\"\"\n",
    "\n",
    "Rajan's Salary Slip\n",
    "\n",
    "Base Pay {basicPay}\n",
    "\n",
    "HRA      {HRA}\n",
    "\n",
    "DA       {DA}\n",
    "\n",
    "Total Salary   {grossPay}\n",
    "\"\"\"\n",
    "print(salarySlip)\n",
    "\n"
   ]
  },
  {
   "cell_type": "code",
   "execution_count": null,
   "id": "7183b995",
   "metadata": {},
   "outputs": [],
   "source": []
  },
  {
   "cell_type": "code",
   "execution_count": null,
   "id": "5432cabb",
   "metadata": {},
   "outputs": [],
   "source": []
  },
  {
   "cell_type": "markdown",
   "id": "312f33fd",
   "metadata": {},
   "source": [
    "# Explanation for Indentation\n",
    "<hr/>"
   ]
  },
  {
   "cell_type": "code",
   "execution_count": null,
   "id": "a3b7bb39",
   "metadata": {},
   "outputs": [],
   "source": [
    "Indentation for Representing Nesting/Hierarchy"
   ]
  },
  {
   "cell_type": "code",
   "execution_count": null,
   "id": "457dbff7",
   "metadata": {},
   "outputs": [],
   "source": []
  },
  {
   "cell_type": "code",
   "execution_count": null,
   "id": "1a2dd6e8",
   "metadata": {},
   "outputs": [],
   "source": [
    "library contains books, books contain chapter, chapter contains Paragraph."
   ]
  },
  {
   "cell_type": "code",
   "execution_count": null,
   "id": "d747d72c",
   "metadata": {},
   "outputs": [],
   "source": []
  },
  {
   "cell_type": "code",
   "execution_count": null,
   "id": "9eed65dc",
   "metadata": {},
   "outputs": [],
   "source": [
    "library:\n",
    "    books:\n",
    "        chapter:\n",
    "            para:\n",
    "                line"
   ]
  },
  {
   "cell_type": "code",
   "execution_count": null,
   "id": "1f6375b5",
   "metadata": {},
   "outputs": [],
   "source": [
    "Boss:\n",
    "    manager:\n",
    "        engineer:\n",
    "            intern"
   ]
  },
  {
   "cell_type": "code",
   "execution_count": null,
   "id": "36a116f9",
   "metadata": {},
   "outputs": [],
   "source": []
  },
  {
   "cell_type": "code",
   "execution_count": null,
   "id": "51be3263",
   "metadata": {},
   "outputs": [],
   "source": []
  },
  {
   "cell_type": "code",
   "execution_count": null,
   "id": "051a61fb",
   "metadata": {},
   "outputs": [],
   "source": [
    "lottery=721\n",
    "\n",
    "\n",
    "if lottery== 972:\n",
    "    \n",
    "    print('hurray')\n",
    "    print('you won')\n",
    "    print('enjoy')\n",
    "    # the indent above explains that the 3 lines are under the scope/influence of\n",
    "    # if condition.\n",
    "    # if , (if) condition is True then only the lines will get chance to execute.\n",
    "    # otherwise not.\n",
    "    \n"
   ]
  },
  {
   "cell_type": "code",
   "execution_count": null,
   "id": "80795e37",
   "metadata": {},
   "outputs": [],
   "source": []
  },
  {
   "cell_type": "markdown",
   "id": "9b61e985",
   "metadata": {},
   "source": [
    "## Looping\n",
    "<hr/>"
   ]
  },
  {
   "cell_type": "code",
   "execution_count": 13,
   "id": "e88ca081",
   "metadata": {},
   "outputs": [
    {
     "name": "stdout",
     "output_type": "stream",
     "text": [
      "counting from 1 to 5 now at  1\n",
      "counting from 1 to 5 now at  2\n",
      "counting from 1 to 5 now at  3\n",
      "counting from 1 to 5 now at  4\n",
      "counting from 1 to 5 now at  5\n"
     ]
    }
   ],
   "source": [
    "meter = 1\n",
    "\n",
    "while (meter <=5):\n",
    "    \n",
    "    print('counting from 1 to 5 now at ', meter)\n",
    "    \n",
    "    meter = meter + 1\n",
    "    "
   ]
  },
  {
   "cell_type": "code",
   "execution_count": null,
   "id": "c1d31562",
   "metadata": {},
   "outputs": [],
   "source": []
  },
  {
   "cell_type": "code",
   "execution_count": 14,
   "id": "c4222b85",
   "metadata": {},
   "outputs": [
    {
     "name": "stdout",
     "output_type": "stream",
     "text": [
      "milk\n",
      "bread\n",
      "butter\n",
      "eggs\n"
     ]
    }
   ],
   "source": [
    "for product in ('milk','bread','butter','eggs'):\n",
    "    \n",
    "    print(product)"
   ]
  },
  {
   "cell_type": "code",
   "execution_count": null,
   "id": "7e185c86",
   "metadata": {},
   "outputs": [],
   "source": []
  },
  {
   "cell_type": "code",
   "execution_count": null,
   "id": "036dcb97",
   "metadata": {},
   "outputs": [],
   "source": [
    "# range(limit)\n",
    "\n",
    "# range() is a built in function in python.\n",
    "# it generates Numbers\n",
    "\n",
    "# it generates numbers from 0 to limit - 1\n",
    "\n",
    "for eg.\n",
    "\n",
    "range(3) then output: 0,1,2\n",
    "    \n",
    "range(5) then output : 0,1,2,3,4\n",
    "    \n",
    "range(7) then output : 0,1,2,3,4,5,6"
   ]
  },
  {
   "cell_type": "code",
   "execution_count": null,
   "id": "d30e3d0c",
   "metadata": {},
   "outputs": [],
   "source": []
  },
  {
   "cell_type": "code",
   "execution_count": 15,
   "id": "8007a0dd",
   "metadata": {},
   "outputs": [
    {
     "name": "stdout",
     "output_type": "stream",
     "text": [
      "0\n",
      "1\n",
      "2\n",
      "3\n",
      "4\n"
     ]
    }
   ],
   "source": [
    "for num in (0,1,2,3,4):\n",
    "    \n",
    "    print(num)"
   ]
  },
  {
   "cell_type": "code",
   "execution_count": 16,
   "id": "b3a3031b",
   "metadata": {},
   "outputs": [
    {
     "name": "stdout",
     "output_type": "stream",
     "text": [
      "0\n",
      "1\n",
      "2\n",
      "3\n",
      "4\n"
     ]
    }
   ],
   "source": [
    "for num in range(5):\n",
    "    \n",
    "    print(num)"
   ]
  },
  {
   "cell_type": "code",
   "execution_count": null,
   "id": "17710c84",
   "metadata": {},
   "outputs": [],
   "source": []
  },
  {
   "cell_type": "code",
   "execution_count": null,
   "id": "05b23308",
   "metadata": {},
   "outputs": [],
   "source": []
  },
  {
   "cell_type": "code",
   "execution_count": null,
   "id": "2057996b",
   "metadata": {},
   "outputs": [],
   "source": []
  },
  {
   "cell_type": "code",
   "execution_count": null,
   "id": "7af1be53",
   "metadata": {},
   "outputs": [],
   "source": []
  },
  {
   "cell_type": "code",
   "execution_count": null,
   "id": "6563cb72",
   "metadata": {},
   "outputs": [],
   "source": []
  },
  {
   "cell_type": "code",
   "execution_count": null,
   "id": "1ae19e1e",
   "metadata": {},
   "outputs": [],
   "source": []
  },
  {
   "cell_type": "code",
   "execution_count": null,
   "id": "bd6f9264",
   "metadata": {},
   "outputs": [],
   "source": []
  },
  {
   "cell_type": "code",
   "execution_count": null,
   "id": "b05b247c",
   "metadata": {},
   "outputs": [],
   "source": []
  },
  {
   "cell_type": "code",
   "execution_count": null,
   "id": "8474ab00",
   "metadata": {},
   "outputs": [],
   "source": []
  },
  {
   "cell_type": "code",
   "execution_count": null,
   "id": "239ce33a",
   "metadata": {},
   "outputs": [],
   "source": []
  },
  {
   "cell_type": "markdown",
   "id": "e197f203",
   "metadata": {},
   "source": [
    "## 😮‍💨 How Long is your Burp ?\n",
    "<hr/>\n",
    "\n",
    "ask the user to enter his burp length\n",
    "\n",
    "for eg. if the burp length is \n",
    "\n",
    "5 then output 'Burrrrrp'\n",
    "\n",
    "25 then output is 'Burrrrrrrrrrrrrrrrrrrrrrrrrp'\n",
    "\n",
    "45 then output is 'Burrrrrrrrrrrrrrrrrrrrrrrrrrrrrrrrrrrrrrrrrrrrrp'\n",
    "\n",
    "note: user can enter any burp Length."
   ]
  },
  {
   "cell_type": "code",
   "execution_count": null,
   "id": "1f541611",
   "metadata": {},
   "outputs": [],
   "source": []
  },
  {
   "cell_type": "code",
   "execution_count": 26,
   "id": "fb2bfde3",
   "metadata": {},
   "outputs": [
    {
     "name": "stdout",
     "output_type": "stream",
     "text": [
      "Enter your Burp Length 6\n",
      "Burp\n",
      "Burrp\n",
      "Burrrp\n",
      "Burrrrp\n",
      "Burrrrrp\n",
      "Burrrrrrp\n"
     ]
    }
   ],
   "source": [
    "burpLen = int(input('Enter your Burp Length '))\n",
    "\n",
    "msg=''\n",
    "\n",
    "for x in range(burpLen):\n",
    "    \n",
    "    msg = msg + 'r' \n",
    " \n",
    "    print(f'Bu{msg}p')"
   ]
  },
  {
   "cell_type": "markdown",
   "id": "2eb656e3",
   "metadata": {},
   "source": [
    "## 🚨 Activity - that builds confidence\n",
    "<hr/>\n",
    "\n",
    "### 🚦 Guess the Number (GAME!!!)\n",
    "<hr/>\n",
    "<pre>\n",
    "1.1 Create 2 Variables named 'computerChoice' & 'playerChoice'\n",
    "\n",
    "1.2 Generate a random number between 1 and 20 , store the number in 'computerChoice' variable.\n",
    "\n",
    "1.3 Ask the user to Enter a Random Number between 1 and 20 , store the number in 'playerChoice'\n",
    "\n",
    "1.4 if the 'playerChoice' > 'computerChoice'\n",
    "        display 'your guess is too High.'\n",
    "    \n",
    "1.5 if the 'playerChoice' < 'computerChoice'\n",
    "        display 'your guess is too Low.'\n",
    "    \n",
    "1.6 if the 'playerChoice' matches with 'computerChoice'\n",
    "        display! 'gotcha! you guessed it Right.'\n",
    "    \n",
    "1.7 a User can take a max of 6 wrong attempts\n",
    "\n",
    "1.8 after 6 failed attempts the Program must display 'You have ran out of Attempts! try later.'"
   ]
  },
  {
   "cell_type": "code",
   "execution_count": null,
   "id": "0cea3598",
   "metadata": {},
   "outputs": [],
   "source": []
  },
  {
   "cell_type": "code",
   "execution_count": 37,
   "id": "37fdf746",
   "metadata": {},
   "outputs": [
    {
     "data": {
      "text/plain": [
       "6"
      ]
     },
     "execution_count": 37,
     "metadata": {},
     "output_type": "execute_result"
    }
   ],
   "source": [
    "import random\n",
    "\n",
    "computerChoice = random.randint(1,20)\n",
    "\n",
    "computerChoice"
   ]
  },
  {
   "cell_type": "code",
   "execution_count": null,
   "id": "d016a61c",
   "metadata": {},
   "outputs": [],
   "source": []
  },
  {
   "cell_type": "code",
   "execution_count": 48,
   "id": "d09a0739",
   "metadata": {},
   "outputs": [
    {
     "name": "stdout",
     "output_type": "stream",
     "text": [
      "Guess a Number between 1 and 20 \n",
      "6\n",
      "Gotcha! 😉 You guessed it Right.!!!\n"
     ]
    }
   ],
   "source": [
    "# using while\n",
    "\n",
    "attempt=1\n",
    "\n",
    "while(attempt<=6):\n",
    "    \n",
    "    userChoice = int (input(\"Guess a Number between 1 and 20 \\n\"))\n",
    "    \n",
    "    if userChoice > computerChoice:\n",
    "        \n",
    "        print('your guess is too High.')\n",
    "        \n",
    "    elif userChoice < computerChoice:\n",
    "        \n",
    "        print('your guess is too Low.')\n",
    "    \n",
    "    else:\n",
    "        \n",
    "        print('Gotcha! 😉 You guessed it Right.!!!')\n",
    "        break # using break keyword to terminate the Loop! when the guess is Correct.\n",
    "        \n",
    "    attempt += 1\n",
    "        \n",
    "if attempt==7:\n",
    "    print('Ouch! 🤕 , you have Ran out of Attempts! try Later.')"
   ]
  },
  {
   "cell_type": "code",
   "execution_count": null,
   "id": "76116a5c",
   "metadata": {},
   "outputs": [],
   "source": []
  },
  {
   "cell_type": "code",
   "execution_count": null,
   "id": "eef8d060",
   "metadata": {},
   "outputs": [],
   "source": []
  },
  {
   "cell_type": "code",
   "execution_count": 41,
   "id": "71cf75ff",
   "metadata": {},
   "outputs": [
    {
     "name": "stdout",
     "output_type": "stream",
     "text": [
      "Guess a Number between 1 and 20 \n",
      "6\n",
      "Gotcha! 😉 You guessed it Right.!!!\n"
     ]
    }
   ],
   "source": [
    "for _ in range(6):\n",
    "    \n",
    "    userChoice = int (input(\"Guess a Number between 1 and 20 \\n\"))\n",
    "    \n",
    "    if userChoice > computerChoice:\n",
    "        \n",
    "        print('your guess is too High.')\n",
    "        \n",
    "    elif userChoice < computerChoice:\n",
    "        \n",
    "        print('your guess is too Low.')\n",
    "    \n",
    "    else:\n",
    "        \n",
    "        print('Gotcha! 😉 You guessed it Right.!!!')\n",
    "        break # using break keyword to terminate the Loop! when the guess is Correct.\n",
    "        \n",
    "else:\n",
    "    # this block executes ONLYYYYYYY if loop completes all its Cycles(iterations.)\n",
    "    print('Ouch! 🤕 , you have Ran out of Attempts! try Later.')\n",
    "    "
   ]
  },
  {
   "cell_type": "code",
   "execution_count": null,
   "id": "d68653d1",
   "metadata": {},
   "outputs": [],
   "source": []
  },
  {
   "cell_type": "markdown",
   "id": "af5ef1f3",
   "metadata": {},
   "source": [
    "## Rajan's Encryption Algorithm ☦️⛎⛎🛐♊️♌️♍️♏️♎️♐️♑️♒️♓️🆔⚛️\n",
    "<hr/>\n",
    "\n",
    "You are asked to follow the given algorithm to Write the Python Program to Encrypt the given String.\n",
    "\n",
    "1.1 Take an Input from user say 'apple' 🍎 🍏 \n",
    "\n",
    "1.2 Reverse the input\n",
    "\n",
    "    'apple' 👉 'elppa'\n",
    "    \n",
    "1.3 replace the vowels as per the Chart Below\n",
    "\n",
    "    'a' 👉 '0'\n",
    "    'e' 👉 '1'\n",
    "    'i' 👉 '2'\n",
    "    'o' 👉 '3'\n",
    "    'u' 👉 '4'\n",
    "    \n",
    "   'elppa' 👉 '1lpp0'\n",
    "   \n",
    "1.4 add 'aca' at the end\n",
    "\n",
    "\n",
    "    '1lpp0' 👉 '1lpp0aca'\n",
    "    "
   ]
  },
  {
   "cell_type": "code",
   "execution_count": 49,
   "id": "db3983c8",
   "metadata": {},
   "outputs": [
    {
     "data": {
      "text/plain": [
       "'c🚗r'"
      ]
     },
     "execution_count": 49,
     "metadata": {},
     "output_type": "execute_result"
    }
   ],
   "source": [
    "# hint\n",
    "prop='car'\n",
    "prop = prop.replace('a','🚗')\n",
    "prop"
   ]
  },
  {
   "cell_type": "code",
   "execution_count": null,
   "id": "1814ca36",
   "metadata": {},
   "outputs": [],
   "source": []
  },
  {
   "cell_type": "code",
   "execution_count": null,
   "id": "1b63954b",
   "metadata": {},
   "outputs": [],
   "source": []
  },
  {
   "cell_type": "code",
   "execution_count": null,
   "id": "7cb065b4",
   "metadata": {},
   "outputs": [],
   "source": []
  },
  {
   "cell_type": "code",
   "execution_count": null,
   "id": "6f930c2a",
   "metadata": {},
   "outputs": [],
   "source": []
  },
  {
   "cell_type": "code",
   "execution_count": 51,
   "id": "09d5cbc9",
   "metadata": {},
   "outputs": [],
   "source": [
    "# step 1 : take input from user\n",
    "\n",
    "msg = 'apple'\n"
   ]
  },
  {
   "cell_type": "code",
   "execution_count": 52,
   "id": "fd79172c",
   "metadata": {},
   "outputs": [
    {
     "data": {
      "text/plain": [
       "'elppa'"
      ]
     },
     "execution_count": 52,
     "metadata": {},
     "output_type": "execute_result"
    }
   ],
   "source": [
    "# step 2 : reverse the input\n",
    "\n",
    "rev_msg  = msg[::-1]\n",
    "\n",
    "rev_msg"
   ]
  },
  {
   "cell_type": "code",
   "execution_count": 54,
   "id": "094c765e",
   "metadata": {},
   "outputs": [],
   "source": [
    "# Step 3: replace Vowels\n",
    "\n",
    "repo = {'a':'0','e':'1','i':'2','o':'3','u':'4'}\n",
    "\n",
    "# key : oldValue i.e vowel\n",
    "# value: replacment Value for vowel"
   ]
  },
  {
   "cell_type": "code",
   "execution_count": 57,
   "id": "e0175d4d",
   "metadata": {},
   "outputs": [
    {
     "name": "stdout",
     "output_type": "stream",
     "text": [
      "1lpp0\n"
     ]
    }
   ],
   "source": [
    "# step 4: iterate through dictionary\n",
    "\n",
    "for key in repo:\n",
    "          #vowel     # replacement value\n",
    "#     print(key ,     repo[key])\n",
    "    \n",
    "    rev_msg =    rev_msg.replace(    key    ,     repo[key] )\n",
    "    \n",
    "print(rev_msg)"
   ]
  },
  {
   "cell_type": "code",
   "execution_count": 58,
   "id": "db9c739b",
   "metadata": {},
   "outputs": [
    {
     "data": {
      "text/plain": [
       "'1lpp0aca'"
      ]
     },
     "execution_count": 58,
     "metadata": {},
     "output_type": "execute_result"
    }
   ],
   "source": [
    "# step 5 : add 'aca' at the end\n",
    "\n",
    "f'{rev_msg}aca'"
   ]
  },
  {
   "cell_type": "code",
   "execution_count": null,
   "id": "13bb8730",
   "metadata": {},
   "outputs": [],
   "source": []
  },
  {
   "cell_type": "code",
   "execution_count": null,
   "id": "9af1ecb2",
   "metadata": {},
   "outputs": [],
   "source": []
  },
  {
   "cell_type": "code",
   "execution_count": null,
   "id": "20d726fe",
   "metadata": {},
   "outputs": [],
   "source": []
  },
  {
   "cell_type": "code",
   "execution_count": null,
   "id": "38a1e28f",
   "metadata": {},
   "outputs": [],
   "source": []
  },
  {
   "cell_type": "code",
   "execution_count": null,
   "id": "37744dbd",
   "metadata": {},
   "outputs": [],
   "source": []
  }
 ],
 "metadata": {
  "kernelspec": {
   "display_name": "Python 3 (ipykernel)",
   "language": "python",
   "name": "python3"
  },
  "language_info": {
   "codemirror_mode": {
    "name": "ipython",
    "version": 3
   },
   "file_extension": ".py",
   "mimetype": "text/x-python",
   "name": "python",
   "nbconvert_exporter": "python",
   "pygments_lexer": "ipython3",
   "version": "3.9.13"
  }
 },
 "nbformat": 4,
 "nbformat_minor": 5
}
