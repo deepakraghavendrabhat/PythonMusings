{
 "cells": [
  {
   "cell_type": "markdown",
   "id": "824da247",
   "metadata": {},
   "source": [
    "## 🚨 1.1 String Formatting\n",
    "<hr/>"
   ]
  },
  {
   "cell_type": "code",
   "execution_count": 1,
   "id": "e4646357",
   "metadata": {},
   "outputs": [],
   "source": [
    "planet='earth'\n",
    "diameter=12734"
   ]
  },
  {
   "cell_type": "code",
   "execution_count": 3,
   "id": "0ebb62e2",
   "metadata": {},
   "outputs": [
    {
     "name": "stdout",
     "output_type": "stream",
     "text": [
      "the diameter of  earth is  12734\n"
     ]
    }
   ],
   "source": [
    "print('the diameter of ',planet,'is ', diameter ) # ❌ InAppropirate Method of preparing Strings/Msg."
   ]
  },
  {
   "cell_type": "code",
   "execution_count": null,
   "id": "7f276c59",
   "metadata": {},
   "outputs": [],
   "source": []
  },
  {
   "cell_type": "markdown",
   "id": "027fb2c7",
   "metadata": {},
   "source": [
    " ✅ fstring"
   ]
  },
  {
   "cell_type": "code",
   "execution_count": 4,
   "id": "22983d66",
   "metadata": {},
   "outputs": [
    {
     "name": "stdout",
     "output_type": "stream",
     "text": [
      "The diameter of earth is 12734\n"
     ]
    }
   ],
   "source": [
    "print(f'The diameter of {planet} is {diameter}')"
   ]
  },
  {
   "cell_type": "code",
   "execution_count": null,
   "id": "a1cf62a0",
   "metadata": {},
   "outputs": [],
   "source": []
  },
  {
   "cell_type": "code",
   "execution_count": 6,
   "id": "4e417dc6",
   "metadata": {},
   "outputs": [
    {
     "name": "stdout",
     "output_type": "stream",
     "text": [
      "The diameter of earth is 12734\n"
     ]
    }
   ],
   "source": [
    "print(f'The diameter of {planet} is {diameter}') # 🔴"
   ]
  },
  {
   "cell_type": "code",
   "execution_count": null,
   "id": "afe0cf52",
   "metadata": {},
   "outputs": [],
   "source": []
  },
  {
   "cell_type": "code",
   "execution_count": null,
   "id": "9b6cb32f",
   "metadata": {},
   "outputs": [],
   "source": [
    "⚠️ Did u Observe ?\n",
    "\n",
    "    👉 the 'f' before quotation.\n",
    "    👉 'f' help us extract value of Variable specified in {}\n",
    "    👉 variables must be enclosed in curly bracket."
   ]
  },
  {
   "cell_type": "code",
   "execution_count": null,
   "id": "a786ce75",
   "metadata": {},
   "outputs": [],
   "source": []
  },
  {
   "cell_type": "code",
   "execution_count": 8,
   "id": "06a65c83",
   "metadata": {},
   "outputs": [
    {
     "data": {
      "text/plain": [
       "'i ate a clock yesterday it was very time consuming.'"
      ]
     },
     "execution_count": 8,
     "metadata": {},
     "output_type": "execute_result"
    }
   ],
   "source": [
    "# 🐙 Quick Activity : to build your confidence.\n",
    "\n",
    "day='yesterday'\n",
    "impact='time consuming'\n",
    "\n",
    "'i ate a clock yesterday it was very time consuming.'"
   ]
  },
  {
   "cell_type": "code",
   "execution_count": 10,
   "id": "a9bc61be",
   "metadata": {},
   "outputs": [
    {
     "name": "stdout",
     "output_type": "stream",
     "text": [
      "i ate a clock yesterday it was very time consuming\n"
     ]
    }
   ],
   "source": [
    "print(f'i ate a clock {day} it was very {impact}')"
   ]
  },
  {
   "cell_type": "code",
   "execution_count": null,
   "id": "b8816e89",
   "metadata": {},
   "outputs": [],
   "source": []
  },
  {
   "cell_type": "markdown",
   "id": "7e76e50d",
   "metadata": {},
   "source": [
    "## Simulating 🧑‍⚕️ Employees PayRoll\n",
    "<hr/>\n",
    "\n",
    "Targets: Decision Making in Python."
   ]
  },
  {
   "cell_type": "markdown",
   "id": "9ffc070d",
   "metadata": {},
   "source": [
    "ask the user to enter his basicPay 💴 \n",
    "\n",
    "if the basicPay is greater or equal to 5000 then\n",
    "\n",
    "        HRA will be 12% of basicPay\n",
    "        DA  will be 14% of basicPay\n",
    "        \n",
    "        \n",
    "if the basicPay is lesser then 5000 then\n",
    "    \n",
    "        HRA will be 16% of basicPay\n",
    "        DA  will be 18% of basicPay\n",
    "        \n",
    "find GrossPay 💰  i.e sum of basicPay + HRA + DA.\n"
   ]
  },
  {
   "cell_type": "code",
   "execution_count": null,
   "id": "cb59c540",
   "metadata": {},
   "outputs": [],
   "source": []
  },
  {
   "cell_type": "code",
   "execution_count": 12,
   "id": "d2dbdfb1",
   "metadata": {},
   "outputs": [
    {
     "name": "stdout",
     "output_type": "stream",
     "text": [
      "Enter your Basic Pay ! 💵 7500\n",
      "\n",
      "\n",
      "Rajan's Salary Slip\n",
      "\n",
      "Base Pay 7500\n",
      "\n",
      "HRA      900.0\n",
      "\n",
      "DA       1050.0\n",
      "\n",
      "Total Salary   9450.0\n",
      "\n"
     ]
    }
   ],
   "source": [
    "basicPay = int(input('Enter your Basic Pay ! 💵 '))\n",
    "\n",
    "\n",
    "if basicPay >=5000:\n",
    "    \n",
    "    HRA = basicPay * .12\n",
    "    DA  = basicPay * .14\n",
    "    \n",
    "else:\n",
    "    \n",
    "    HRA = basicPay * .16\n",
    "    DA  = basicPay * .18\n",
    "    \n",
    "\n",
    "grossPay = basicPay + HRA + DA\n",
    "\n",
    "salarySlip=f\"\"\"\n",
    "\n",
    "Rajan's Salary Slip\n",
    "\n",
    "Base Pay {basicPay}\n",
    "\n",
    "HRA      {HRA}\n",
    "\n",
    "DA       {DA}\n",
    "\n",
    "Total Salary   {grossPay}\n",
    "\"\"\"\n",
    "print(salarySlip)\n",
    "\n"
   ]
  },
  {
   "cell_type": "code",
   "execution_count": null,
   "id": "7183b995",
   "metadata": {},
   "outputs": [],
   "source": []
  },
  {
   "cell_type": "code",
   "execution_count": null,
   "id": "5432cabb",
   "metadata": {},
   "outputs": [],
   "source": []
  },
  {
   "cell_type": "markdown",
   "id": "312f33fd",
   "metadata": {},
   "source": [
    "# Explanation for Indentation\n",
    "<hr/>"
   ]
  },
  {
   "cell_type": "code",
   "execution_count": null,
   "id": "a3b7bb39",
   "metadata": {},
   "outputs": [],
   "source": [
    "Indentation for Representing Nesting/Hierarchy"
   ]
  },
  {
   "cell_type": "code",
   "execution_count": null,
   "id": "457dbff7",
   "metadata": {},
   "outputs": [],
   "source": []
  },
  {
   "cell_type": "code",
   "execution_count": null,
   "id": "1a2dd6e8",
   "metadata": {},
   "outputs": [],
   "source": [
    "library contains books, books contain chapter, chapter contains Paragraph."
   ]
  },
  {
   "cell_type": "code",
   "execution_count": null,
   "id": "d747d72c",
   "metadata": {},
   "outputs": [],
   "source": []
  },
  {
   "cell_type": "code",
   "execution_count": null,
   "id": "9eed65dc",
   "metadata": {},
   "outputs": [],
   "source": [
    "library:\n",
    "    books:\n",
    "        chapter:\n",
    "            para:\n",
    "                line"
   ]
  },
  {
   "cell_type": "code",
   "execution_count": null,
   "id": "1f6375b5",
   "metadata": {},
   "outputs": [],
   "source": [
    "Boss:\n",
    "    manager:\n",
    "        engineer:\n",
    "            intern"
   ]
  },
  {
   "cell_type": "code",
   "execution_count": null,
   "id": "36a116f9",
   "metadata": {},
   "outputs": [],
   "source": []
  },
  {
   "cell_type": "code",
   "execution_count": null,
   "id": "51be3263",
   "metadata": {},
   "outputs": [],
   "source": []
  },
  {
   "cell_type": "code",
   "execution_count": null,
   "id": "051a61fb",
   "metadata": {},
   "outputs": [],
   "source": [
    "lottery=721\n",
    "\n",
    "\n",
    "if lottery== 972:\n",
    "    \n",
    "    print('hurray')\n",
    "    print('you won')\n",
    "    print('enjoy')\n",
    "    # the indent above explains that the 3 lines are under the scope/influence of\n",
    "    # if condition.\n",
    "    # if , (if) condition is True then only the lines will get chance to execute.\n",
    "    # otherwise not.\n",
    "    \n"
   ]
  },
  {
   "cell_type": "code",
   "execution_count": null,
   "id": "80795e37",
   "metadata": {},
   "outputs": [],
   "source": []
  },
  {
   "cell_type": "markdown",
   "id": "9b61e985",
   "metadata": {},
   "source": [
    "## Looping\n",
    "<hr/>"
   ]
  },
  {
   "cell_type": "code",
   "execution_count": 13,
   "id": "e88ca081",
   "metadata": {},
   "outputs": [
    {
     "name": "stdout",
     "output_type": "stream",
     "text": [
      "counting from 1 to 5 now at  1\n",
      "counting from 1 to 5 now at  2\n",
      "counting from 1 to 5 now at  3\n",
      "counting from 1 to 5 now at  4\n",
      "counting from 1 to 5 now at  5\n"
     ]
    }
   ],
   "source": [
    "meter = 1\n",
    "\n",
    "while (meter <=5):\n",
    "    \n",
    "    print('counting from 1 to 5 now at ', meter)\n",
    "    \n",
    "    meter = meter + 1\n",
    "    "
   ]
  },
  {
   "cell_type": "code",
   "execution_count": null,
   "id": "c1d31562",
   "metadata": {},
   "outputs": [],
   "source": []
  },
  {
   "cell_type": "code",
   "execution_count": 14,
   "id": "c4222b85",
   "metadata": {},
   "outputs": [
    {
     "name": "stdout",
     "output_type": "stream",
     "text": [
      "milk\n",
      "bread\n",
      "butter\n",
      "eggs\n"
     ]
    }
   ],
   "source": [
    "for product in ('milk','bread','butter','eggs'):\n",
    "    \n",
    "    print(product)"
   ]
  },
  {
   "cell_type": "code",
   "execution_count": null,
   "id": "7e185c86",
   "metadata": {},
   "outputs": [],
   "source": []
  },
  {
   "cell_type": "code",
   "execution_count": null,
   "id": "036dcb97",
   "metadata": {},
   "outputs": [],
   "source": [
    "# range(limit)\n",
    "\n",
    "# range() is a built in function in python.\n",
    "# it generates Numbers\n",
    "\n",
    "# it generates numbers from 0 to limit - 1\n",
    "\n",
    "for eg.\n",
    "\n",
    "range(3) then output: 0,1,2\n",
    "    \n",
    "range(5) then output : 0,1,2,3,4\n",
    "    \n",
    "range(7) then output : 0,1,2,3,4,5,6"
   ]
  },
  {
   "cell_type": "code",
   "execution_count": null,
   "id": "d30e3d0c",
   "metadata": {},
   "outputs": [],
   "source": []
  },
  {
   "cell_type": "code",
   "execution_count": 15,
   "id": "8007a0dd",
   "metadata": {},
   "outputs": [
    {
     "name": "stdout",
     "output_type": "stream",
     "text": [
      "0\n",
      "1\n",
      "2\n",
      "3\n",
      "4\n"
     ]
    }
   ],
   "source": [
    "for num in (0,1,2,3,4):\n",
    "    \n",
    "    print(num)"
   ]
  },
  {
   "cell_type": "code",
   "execution_count": 16,
   "id": "b3a3031b",
   "metadata": {},
   "outputs": [
    {
     "name": "stdout",
     "output_type": "stream",
     "text": [
      "0\n",
      "1\n",
      "2\n",
      "3\n",
      "4\n"
     ]
    }
   ],
   "source": [
    "for num in range(5):\n",
    "    \n",
    "    print(num)"
   ]
  },
  {
   "cell_type": "code",
   "execution_count": null,
   "id": "17710c84",
   "metadata": {},
   "outputs": [],
   "source": []
  },
  {
   "cell_type": "code",
   "execution_count": null,
   "id": "05b23308",
   "metadata": {},
   "outputs": [],
   "source": []
  },
  {
   "cell_type": "code",
   "execution_count": null,
   "id": "2057996b",
   "metadata": {},
   "outputs": [],
   "source": []
  },
  {
   "cell_type": "code",
   "execution_count": null,
   "id": "7af1be53",
   "metadata": {},
   "outputs": [],
   "source": []
  },
  {
   "cell_type": "code",
   "execution_count": null,
   "id": "6563cb72",
   "metadata": {},
   "outputs": [],
   "source": []
  },
  {
   "cell_type": "code",
   "execution_count": null,
   "id": "1ae19e1e",
   "metadata": {},
   "outputs": [],
   "source": []
  },
  {
   "cell_type": "code",
   "execution_count": null,
   "id": "bd6f9264",
   "metadata": {},
   "outputs": [],
   "source": []
  },
  {
   "cell_type": "code",
   "execution_count": null,
   "id": "b05b247c",
   "metadata": {},
   "outputs": [],
   "source": []
  },
  {
   "cell_type": "code",
   "execution_count": null,
   "id": "8474ab00",
   "metadata": {},
   "outputs": [],
   "source": []
  },
  {
   "cell_type": "code",
   "execution_count": null,
   "id": "239ce33a",
   "metadata": {},
   "outputs": [],
   "source": []
  },
  {
   "cell_type": "markdown",
   "id": "e197f203",
   "metadata": {},
   "source": [
    "## 😮‍💨 How Long is your Burp ?\n",
    "<hr/>\n",
    "\n",
    "ask the user to enter his burp length\n",
    "\n",
    "for eg. if the burp length is \n",
    "\n",
    "5 then output 'Burrrrrp'\n",
    "\n",
    "25 then output is 'Burrrrrrrrrrrrrrrrrrrrrrrrrp'\n",
    "\n",
    "45 then output is 'Burrrrrrrrrrrrrrrrrrrrrrrrrrrrrrrrrrrrrrrrrrrrrp'\n",
    "\n",
    "note: user can enter any burp Length."
   ]
  },
  {
   "cell_type": "code",
   "execution_count": null,
   "id": "1f541611",
   "metadata": {},
   "outputs": [],
   "source": []
  },
  {
   "cell_type": "code",
   "execution_count": 26,
   "id": "fb2bfde3",
   "metadata": {},
   "outputs": [
    {
     "name": "stdout",
     "output_type": "stream",
     "text": [
      "Enter your Burp Length 6\n",
      "Burp\n",
      "Burrp\n",
      "Burrrp\n",
      "Burrrrp\n",
      "Burrrrrp\n",
      "Burrrrrrp\n"
     ]
    }
   ],
   "source": [
    "burpLen = int(input('Enter your Burp Length '))\n",
    "\n",
    "msg=''\n",
    "\n",
    "for x in range(burpLen):\n",
    "    \n",
    "    msg = msg + 'r' \n",
    " \n",
    "    print(f'Bu{msg}p')"
   ]
  },
  {
   "cell_type": "markdown",
   "id": "2eb656e3",
   "metadata": {},
   "source": [
    "## 🚨 Activity - that builds confidence\n",
    "<hr/>\n",
    "\n",
    "### 🚦 Guess the Number (GAME!!!)\n",
    "<hr/>\n",
    "<pre>\n",
    "1.1 Create 2 Variables named 'computerChoice' & 'playerChoice'\n",
    "\n",
    "1.2 Generate a random number between 1 and 20 , store the number in 'computerChoice' variable.\n",
    "\n",
    "1.3 Ask the user to Enter a Random Number between 1 and 20 , store the number in 'playerChoice'\n",
    "\n",
    "1.4 if the 'playerChoice' > 'computerChoice'\n",
    "        display 'your guess is too High.'\n",
    "    \n",
    "1.5 if the 'playerChoice' < 'computerChoice'\n",
    "        display 'your guess is too Low.'\n",
    "    \n",
    "1.6 if the 'playerChoice' matches with 'computerChoice'\n",
    "        display! 'gotcha! you guessed it Right.'\n",
    "    \n",
    "1.7 a User can take a max of 6 wrong attempts\n",
    "\n",
    "1.8 after 6 failed attempts the Program must display 'You have ran out of Attempts! try later.'"
   ]
  },
  {
   "cell_type": "code",
   "execution_count": null,
   "id": "0cea3598",
   "metadata": {},
   "outputs": [],
   "source": []
  },
  {
   "cell_type": "code",
   "execution_count": 37,
   "id": "37fdf746",
   "metadata": {},
   "outputs": [
    {
     "data": {
      "text/plain": [
       "6"
      ]
     },
     "execution_count": 37,
     "metadata": {},
     "output_type": "execute_result"
    }
   ],
   "source": [
    "import random\n",
    "\n",
    "computerChoice = random.randint(1,20)\n",
    "\n",
    "computerChoice"
   ]
  },
  {
   "cell_type": "code",
   "execution_count": null,
   "id": "d016a61c",
   "metadata": {},
   "outputs": [],
   "source": []
  },
  {
   "cell_type": "code",
   "execution_count": 48,
   "id": "d09a0739",
   "metadata": {},
   "outputs": [
    {
     "name": "stdout",
     "output_type": "stream",
     "text": [
      "Guess a Number between 1 and 20 \n",
      "6\n",
      "Gotcha! 😉 You guessed it Right.!!!\n"
     ]
    }
   ],
   "source": [
    "# using while\n",
    "\n",
    "attempt=1\n",
    "\n",
    "while(attempt<=6):\n",
    "    \n",
    "    userChoice = int (input(\"Guess a Number between 1 and 20 \\n\"))\n",
    "    \n",
    "    if userChoice > computerChoice:\n",
    "        \n",
    "        print('your guess is too High.')\n",
    "        \n",
    "    elif userChoice < computerChoice:\n",
    "        \n",
    "        print('your guess is too Low.')\n",
    "    \n",
    "    else:\n",
    "        \n",
    "        print('Gotcha! 😉 You guessed it Right.!!!')\n",
    "        break # using break keyword to terminate the Loop! when the guess is Correct.\n",
    "        \n",
    "    attempt += 1\n",
    "        \n",
    "if attempt==7:\n",
    "    print('Ouch! 🤕 , you have Ran out of Attempts! try Later.')"
   ]
  },
  {
   "cell_type": "code",
   "execution_count": null,
   "id": "76116a5c",
   "metadata": {},
   "outputs": [],
   "source": []
  },
  {
   "cell_type": "code",
   "execution_count": null,
   "id": "eef8d060",
   "metadata": {},
   "outputs": [],
   "source": []
  },
  {
   "cell_type": "code",
   "execution_count": 41,
   "id": "71cf75ff",
   "metadata": {},
   "outputs": [
    {
     "name": "stdout",
     "output_type": "stream",
     "text": [
      "Guess a Number between 1 and 20 \n",
      "6\n",
      "Gotcha! 😉 You guessed it Right.!!!\n"
     ]
    }
   ],
   "source": [
    "for _ in range(6):\n",
    "    \n",
    "    userChoice = int (input(\"Guess a Number between 1 and 20 \\n\"))\n",
    "    \n",
    "    if userChoice > computerChoice:\n",
    "        \n",
    "        print('your guess is too High.')\n",
    "        \n",
    "    elif userChoice < computerChoice:\n",
    "        \n",
    "        print('your guess is too Low.')\n",
    "    \n",
    "    else:\n",
    "        \n",
    "        print('Gotcha! 😉 You guessed it Right.!!!')\n",
    "        break # using break keyword to terminate the Loop! when the guess is Correct.\n",
    "        \n",
    "else:\n",
    "    # this block executes ONLYYYYYYY if loop completes all its Cycles(iterations.)\n",
    "    print('Ouch! 🤕 , you have Ran out of Attempts! try Later.')\n",
    "    "
   ]
  },
  {
   "cell_type": "code",
   "execution_count": null,
   "id": "d68653d1",
   "metadata": {},
   "outputs": [],
   "source": []
  },
  {
   "cell_type": "markdown",
   "id": "af5ef1f3",
   "metadata": {},
   "source": [
    "## Rajan's Encryption Algorithm ☦️⛎⛎🛐♊️♌️♍️♏️♎️♐️♑️♒️♓️🆔⚛️\n",
    "<hr/>\n",
    "\n",
    "You are asked to follow the given algorithm to Write the Python Program to Encrypt the given String.\n",
    "\n",
    "1.1 Take an Input from user say 'apple' 🍎 🍏 \n",
    "\n",
    "1.2 Reverse the input\n",
    "\n",
    "    'apple' 👉 'elppa'\n",
    "    \n",
    "1.3 replace the vowels as per the Chart Below\n",
    "\n",
    "    'a' 👉 '0'\n",
    "    'e' 👉 '1'\n",
    "    'i' 👉 '2'\n",
    "    'o' 👉 '3'\n",
    "    'u' 👉 '4'\n",
    "    \n",
    "   'elppa' 👉 '1lpp0'\n",
    "   \n",
    "1.4 add 'aca' at the end\n",
    "\n",
    "\n",
    "    '1lpp0' 👉 '1lpp0aca'\n",
    "    "
   ]
  },
  {
   "cell_type": "code",
   "execution_count": 49,
   "id": "db3983c8",
   "metadata": {},
   "outputs": [
    {
     "data": {
      "text/plain": [
       "'c🚗r'"
      ]
     },
     "execution_count": 49,
     "metadata": {},
     "output_type": "execute_result"
    }
   ],
   "source": [
    "# hint\n",
    "prop='car'\n",
    "prop = prop.replace('a','🚗')\n",
    "prop"
   ]
  },
  {
   "cell_type": "code",
   "execution_count": null,
   "id": "1814ca36",
   "metadata": {},
   "outputs": [],
   "source": []
  },
  {
   "cell_type": "code",
   "execution_count": null,
   "id": "1b63954b",
   "metadata": {},
   "outputs": [],
   "source": []
  },
  {
   "cell_type": "code",
   "execution_count": null,
   "id": "7cb065b4",
   "metadata": {},
   "outputs": [],
   "source": []
  },
  {
   "cell_type": "code",
   "execution_count": null,
   "id": "6f930c2a",
   "metadata": {},
   "outputs": [],
   "source": []
  },
  {
   "cell_type": "code",
   "execution_count": 51,
   "id": "09d5cbc9",
   "metadata": {},
   "outputs": [],
   "source": [
    "# step 1 : take input from user\n",
    "\n",
    "msg = 'apple'\n"
   ]
  },
  {
   "cell_type": "code",
   "execution_count": 52,
   "id": "fd79172c",
   "metadata": {},
   "outputs": [
    {
     "data": {
      "text/plain": [
       "'elppa'"
      ]
     },
     "execution_count": 52,
     "metadata": {},
     "output_type": "execute_result"
    }
   ],
   "source": [
    "# step 2 : reverse the input\n",
    "\n",
    "rev_msg  = msg[::-1]\n",
    "\n",
    "rev_msg"
   ]
  },
  {
   "cell_type": "code",
   "execution_count": 54,
   "id": "094c765e",
   "metadata": {},
   "outputs": [],
   "source": [
    "# Step 3: replace Vowels\n",
    "\n",
    "repo = {'a':'0','e':'1','i':'2','o':'3','u':'4'}\n",
    "\n",
    "# key : oldValue i.e vowel\n",
    "# value: replacment Value for vowel"
   ]
  },
  {
   "cell_type": "code",
   "execution_count": 57,
   "id": "e0175d4d",
   "metadata": {},
   "outputs": [
    {
     "name": "stdout",
     "output_type": "stream",
     "text": [
      "1lpp0\n"
     ]
    }
   ],
   "source": [
    "# step 4: iterate through dictionary\n",
    "\n",
    "for key in repo:\n",
    "          #vowel     # replacement value\n",
    "#     print(key ,     repo[key])\n",
    "    \n",
    "    rev_msg =    rev_msg.replace(    key    ,     repo[key] )\n",
    "    \n",
    "print(rev_msg)"
   ]
  },
  {
   "cell_type": "code",
   "execution_count": 58,
   "id": "db9c739b",
   "metadata": {},
   "outputs": [
    {
     "data": {
      "text/plain": [
       "'1lpp0aca'"
      ]
     },
     "execution_count": 58,
     "metadata": {},
     "output_type": "execute_result"
    }
   ],
   "source": [
    "# step 5 : add 'aca' at the end\n",
    "\n",
    "f'{rev_msg}aca'"
   ]
  },
  {
   "cell_type": "code",
   "execution_count": 1,
   "id": "13bb8730",
   "metadata": {},
   "outputs": [
    {
     "data": {
      "text/plain": [
       "''"
      ]
     },
     "execution_count": 1,
     "metadata": {},
     "output_type": "execute_result"
    }
   ],
   "source": [
    "_"
   ]
  },
  {
   "cell_type": "code",
   "execution_count": null,
   "id": "9af1ecb2",
   "metadata": {},
   "outputs": [],
   "source": []
  },
  {
   "cell_type": "code",
   "execution_count": null,
   "id": "20d726fe",
   "metadata": {},
   "outputs": [],
   "source": []
  },
  {
   "cell_type": "code",
   "execution_count": null,
   "id": "38a1e28f",
   "metadata": {},
   "outputs": [],
   "source": []
  },
  {
   "cell_type": "code",
   "execution_count": 4,
   "id": "37744dbd",
   "metadata": {},
   "outputs": [
    {
     "name": "stdout",
     "output_type": "stream",
     "text": [
      "#website\n",
      "#website\n",
      "#ComputerScience\n",
      "#ComputerScience\n"
     ]
    }
   ],
   "source": [
    "tweet = \"GeeksforGeeks is a wonderful #website for #ComputerScience\"\n",
    "for word in tweet.split():\n",
    "    if word[0] == '#':\n",
    "        print(word)\n",
    "    if word.startswith('#'):\n",
    "        print(word)\n",
    "        "
   ]
  },
  {
   "cell_type": "code",
   "execution_count": 8,
   "id": "79156bb2",
   "metadata": {},
   "outputs": [
    {
     "name": "stdout",
     "output_type": "stream",
     "text": [
      "No\n"
     ]
    }
   ],
   "source": [
    "lottery = \"7 26\"\n",
    "if lottery.isdigit():\n",
    "    print(\"Yes\")\n",
    "else:\n",
    "    print(\"No\")"
   ]
  },
  {
   "cell_type": "code",
   "execution_count": 22,
   "id": "114d1c79",
   "metadata": {},
   "outputs": [
    {
     "name": "stdout",
     "output_type": "stream",
     "text": [
      "Total Rev: 434\n",
      "Avg Rev: 144.66666666666666\n"
     ]
    }
   ],
   "source": [
    "metaBusiness = \"Facebook 114 Instagram 180 wApp 140\"\n",
    "totalRev = 0\n",
    "for bus in metaBusiness.split():\n",
    "    if bus.isdigit():\n",
    "        totalRev+= int(bus)\n",
    "print(f\"Total Rev: {totalRev}\")\n",
    "print(f\"Avg Rev: {totalRev/3}\")"
   ]
  },
  {
   "cell_type": "code",
   "execution_count": 43,
   "id": "22c6fa95",
   "metadata": {},
   "outputs": [
    {
     "name": "stdout",
     "output_type": "stream",
     "text": [
      "deepak r\n",
      "muddu r\n"
     ]
    }
   ],
   "source": [
    "names = \"deepak raja, muddu gundu rani\"\n",
    "for name in names.split(','):\n",
    "    fn = name.split()[0]\n",
    "    ln = name.split()[-1][0]\n",
    "    print(fn,ln)"
   ]
  },
  {
   "cell_type": "code",
   "execution_count": 44,
   "id": "b32501c0",
   "metadata": {},
   "outputs": [
    {
     "data": {
      "text/plain": [
       "['findme']"
      ]
     },
     "execution_count": 44,
     "metadata": {},
     "output_type": "execute_result"
    }
   ],
   "source": [
    "sampleList=['hello','welcome',[10,20],['A','B','C',[30,40,50,['findme']]],60,70]\n",
    "sampleList[3][3][-1]"
   ]
  },
  {
   "cell_type": "code",
   "execution_count": 63,
   "id": "6640514c",
   "metadata": {},
   "outputs": [
    {
     "data": {
      "text/plain": [
       "'key'"
      ]
     },
     "execution_count": 63,
     "metadata": {},
     "output_type": "execute_result"
    }
   ],
   "source": [
    "my_dict={ 'FL':['Alabama','Florida','Alaska',{'Hi':['Hawai','Inception',{'lock':['find','the','key']}]}] }\n",
    "my_dict['FL'][3]['Hi'][2]['lock'][-1]"
   ]
  },
  {
   "cell_type": "code",
   "execution_count": 68,
   "id": "f01c0d73",
   "metadata": {},
   "outputs": [
    {
     "name": "stdout",
     "output_type": "stream",
     "text": [
      "1.5\n",
      "21.333333333333332\n",
      "0.0\n"
     ]
    }
   ],
   "source": [
    "shopping_cart=['banana','orange','apple'] # here the assumption is the qty is 1 \n",
    "stock={ 'banana':6, 'apple':0, 'orange':32, 'pear':15 } \n",
    "prices={ 'banana':4, 'apple':2, 'orange':1.5, 'pear':3 }\n",
    "\n",
    "for item in shopping_cart:\n",
    "    print(f\"{stock[item] / prices[item]}\")\n"
   ]
  },
  {
   "cell_type": "code",
   "execution_count": 2,
   "id": "f73bdac8",
   "metadata": {},
   "outputs": [
    {
     "data": {
      "text/plain": [
       "{'apple', 'banana', 'orange'}"
      ]
     },
     "execution_count": 2,
     "metadata": {},
     "output_type": "execute_result"
    }
   ],
   "source": [
    "shopping_cart=['banana','orange','apple','apple'] \n",
    "set(shopping_cart)\n"
   ]
  },
  {
   "cell_type": "code",
   "execution_count": 34,
   "id": "6f2cdab6",
   "metadata": {},
   "outputs": [
    {
     "name": "stdout",
     "output_type": "stream",
     "text": [
      "{'Fairy', 'Water', 'Electric', 'Ground', 'Bug', 'Poison', 'Grass', 'Normal', 'Fighting', 'Fire'}\n"
     ]
    }
   ],
   "source": [
    "pokemonsData=['Bulbasaur,Grass\\n',\n",
    " 'Ivysaur,Grass\\n',\n",
    " 'Venusaur,Grass\\n',\n",
    " 'Charmander,Fire\\n',\n",
    " 'Charmeleon,Fire\\n',\n",
    " 'Charizard,Fire\\n',\n",
    " 'Squirtle,Water\\n',\n",
    " 'Wartortle,Water\\n',\n",
    " 'Blastoise,Water\\n',\n",
    " 'Caterpie,Bug\\n',\n",
    " 'Metapod,Bug\\n',\n",
    " 'Butterfree,Bug\\n',\n",
    " 'Weedle,Bug\\n',\n",
    " 'Kakuna,Bug\\n',\n",
    " 'Beedrill,Bug\\n',\n",
    " 'Pidgey,Normal\\n',\n",
    " 'Pidgeotto,Normal\\n',\n",
    " 'Pidgeot,Normal\\n',\n",
    " 'Rattata,Normal\\n',\n",
    " 'Raticate,Normal\\n',\n",
    " 'Spearow,Normal\\n',\n",
    " 'Fearow,Normal\\n',\n",
    " 'Ekans,Poison\\n',\n",
    " 'Arbok,Poison\\n',\n",
    " 'Pikachu,Electric\\n',\n",
    " 'Raichu,Electric\\n',\n",
    " 'Sandshrew,Ground\\n',\n",
    " 'Sandslash,Ground\\n',\n",
    " 'Nidoran,Poison\\n',\n",
    " 'Nidorina,Poison\\n',\n",
    " 'Nidoqueen,Poison\\n',\n",
    " 'Nidoran♂,Poison\\n',\n",
    " 'Nidorino,Poison\\n',\n",
    " 'Nidoking,Poison\\n',\n",
    " 'Clefairy,Fairy\\n',\n",
    " 'Clefable,Fairy\\n',\n",
    " 'Vulpix,Fire\\n',\n",
    " 'Ninetales,Fire\\n',\n",
    " 'Jigglypuff,Normal\\n',\n",
    " 'Wigglytuff,Normal\\n',\n",
    " 'Zubat,Poison\\n',\n",
    " 'Golbat,Poison\\n',\n",
    " 'Oddish,Grass\\n',\n",
    " 'Gloom,Grass\\n',\n",
    " 'Vileplume,Grass\\n',\n",
    " 'Paras,Bug\\n',\n",
    " 'Parasect,Bug\\n',\n",
    " 'Venonat,Bug\\n',\n",
    " 'Venomoth,Bug\\n',\n",
    " 'Diglett,Ground\\n',\n",
    " 'Dugtrio,Ground\\n',\n",
    " 'Meowth,Normal\\n',\n",
    " 'Persian,Normal\\n',\n",
    " 'Psyduck,Water\\n',\n",
    " 'Golduck,Water\\n',\n",
    " 'Mankey,Fighting\\n',\n",
    " 'Primeape,Fighting\\n',\n",
    " 'Growlithe,Fire\\n',\n",
    " 'Arcanine,Fire\\n']\n",
    "set1 = set()\n",
    "for i in pokemonsData:\n",
    "    \n",
    "    e = i.split(',')[1].strip()\n",
    "    set1.add(e)\n",
    "print(set1)"
   ]
  },
  {
   "cell_type": "code",
   "execution_count": 57,
   "id": "81ad4c91",
   "metadata": {},
   "outputs": [
    {
     "name": "stdout",
     "output_type": "stream",
     "text": [
      "{'Grass': 6, 'Fire': 7, 'Water': 5, 'Bug': 10, 'Normal': 11, 'Poison': 10, 'Electric': 2, 'Ground': 4, 'Fairy': 2, 'Fighting': 2}\n"
     ]
    }
   ],
   "source": [
    "map1 = dict()\n",
    "for i in pokemonsData:\n",
    "    \n",
    "    e = i.split(',')[1].strip()\n",
    "    if e not in map1:\n",
    "        map1[e] = 1\n",
    "    else:\n",
    "        map1[e]+= 1\n",
    "print(map1)"
   ]
  },
  {
   "cell_type": "code",
   "execution_count": 58,
   "id": "6e0ecd3b",
   "metadata": {},
   "outputs": [
    {
     "name": "stdout",
     "output_type": "stream",
     "text": [
      "Help on dict object:\n",
      "\n",
      "class dict(object)\n",
      " |  dict() -> new empty dictionary\n",
      " |  dict(mapping) -> new dictionary initialized from a mapping object's\n",
      " |      (key, value) pairs\n",
      " |  dict(iterable) -> new dictionary initialized as if via:\n",
      " |      d = {}\n",
      " |      for k, v in iterable:\n",
      " |          d[k] = v\n",
      " |  dict(**kwargs) -> new dictionary initialized with the name=value pairs\n",
      " |      in the keyword argument list.  For example:  dict(one=1, two=2)\n",
      " |  \n",
      " |  Built-in subclasses:\n",
      " |      StgDict\n",
      " |  \n",
      " |  Methods defined here:\n",
      " |  \n",
      " |  __contains__(self, key, /)\n",
      " |      True if the dictionary has the specified key, else False.\n",
      " |  \n",
      " |  __delitem__(self, key, /)\n",
      " |      Delete self[key].\n",
      " |  \n",
      " |  __eq__(self, value, /)\n",
      " |      Return self==value.\n",
      " |  \n",
      " |  __ge__(self, value, /)\n",
      " |      Return self>=value.\n",
      " |  \n",
      " |  __getattribute__(self, name, /)\n",
      " |      Return getattr(self, name).\n",
      " |  \n",
      " |  __getitem__(...)\n",
      " |      x.__getitem__(y) <==> x[y]\n",
      " |  \n",
      " |  __gt__(self, value, /)\n",
      " |      Return self>value.\n",
      " |  \n",
      " |  __init__(self, /, *args, **kwargs)\n",
      " |      Initialize self.  See help(type(self)) for accurate signature.\n",
      " |  \n",
      " |  __ior__(self, value, /)\n",
      " |      Return self|=value.\n",
      " |  \n",
      " |  __iter__(self, /)\n",
      " |      Implement iter(self).\n",
      " |  \n",
      " |  __le__(self, value, /)\n",
      " |      Return self<=value.\n",
      " |  \n",
      " |  __len__(self, /)\n",
      " |      Return len(self).\n",
      " |  \n",
      " |  __lt__(self, value, /)\n",
      " |      Return self<value.\n",
      " |  \n",
      " |  __ne__(self, value, /)\n",
      " |      Return self!=value.\n",
      " |  \n",
      " |  __or__(self, value, /)\n",
      " |      Return self|value.\n",
      " |  \n",
      " |  __repr__(self, /)\n",
      " |      Return repr(self).\n",
      " |  \n",
      " |  __reversed__(self, /)\n",
      " |      Return a reverse iterator over the dict keys.\n",
      " |  \n",
      " |  __ror__(self, value, /)\n",
      " |      Return value|self.\n",
      " |  \n",
      " |  __setitem__(self, key, value, /)\n",
      " |      Set self[key] to value.\n",
      " |  \n",
      " |  __sizeof__(...)\n",
      " |      D.__sizeof__() -> size of D in memory, in bytes\n",
      " |  \n",
      " |  clear(...)\n",
      " |      D.clear() -> None.  Remove all items from D.\n",
      " |  \n",
      " |  copy(...)\n",
      " |      D.copy() -> a shallow copy of D\n",
      " |  \n",
      " |  get(self, key, default=None, /)\n",
      " |      Return the value for key if key is in the dictionary, else default.\n",
      " |  \n",
      " |  items(...)\n",
      " |      D.items() -> a set-like object providing a view on D's items\n",
      " |  \n",
      " |  keys(...)\n",
      " |      D.keys() -> a set-like object providing a view on D's keys\n",
      " |  \n",
      " |  pop(...)\n",
      " |      D.pop(k[,d]) -> v, remove specified key and return the corresponding value.\n",
      " |      \n",
      " |      If key is not found, default is returned if given, otherwise KeyError is raised\n",
      " |  \n",
      " |  popitem(self, /)\n",
      " |      Remove and return a (key, value) pair as a 2-tuple.\n",
      " |      \n",
      " |      Pairs are returned in LIFO (last-in, first-out) order.\n",
      " |      Raises KeyError if the dict is empty.\n",
      " |  \n",
      " |  setdefault(self, key, default=None, /)\n",
      " |      Insert key with a value of default if key is not in the dictionary.\n",
      " |      \n",
      " |      Return the value for key if key is in the dictionary, else default.\n",
      " |  \n",
      " |  update(...)\n",
      " |      D.update([E, ]**F) -> None.  Update D from dict/iterable E and F.\n",
      " |      If E is present and has a .keys() method, then does:  for k in E: D[k] = E[k]\n",
      " |      If E is present and lacks a .keys() method, then does:  for k, v in E: D[k] = v\n",
      " |      In either case, this is followed by: for k in F:  D[k] = F[k]\n",
      " |  \n",
      " |  values(...)\n",
      " |      D.values() -> an object providing a view on D's values\n",
      " |  \n",
      " |  ----------------------------------------------------------------------\n",
      " |  Class methods defined here:\n",
      " |  \n",
      " |  __class_getitem__(...) from builtins.type\n",
      " |      See PEP 585\n",
      " |  \n",
      " |  fromkeys(iterable, value=None, /) from builtins.type\n",
      " |      Create a new dictionary with keys from iterable and values set to value.\n",
      " |  \n",
      " |  ----------------------------------------------------------------------\n",
      " |  Static methods defined here:\n",
      " |  \n",
      " |  __new__(*args, **kwargs) from builtins.type\n",
      " |      Create and return a new object.  See help(type) for accurate signature.\n",
      " |  \n",
      " |  ----------------------------------------------------------------------\n",
      " |  Data and other attributes defined here:\n",
      " |  \n",
      " |  __hash__ = None\n",
      "\n"
     ]
    }
   ],
   "source": [
    "help(dict())"
   ]
  },
  {
   "cell_type": "code",
   "execution_count": null,
   "id": "64eb3ea1",
   "metadata": {},
   "outputs": [],
   "source": []
  }
 ],
 "metadata": {
  "kernelspec": {
   "display_name": "Python 3 (ipykernel)",
   "language": "python",
   "name": "python3"
  },
  "language_info": {
   "codemirror_mode": {
    "name": "ipython",
    "version": 3
   },
   "file_extension": ".py",
   "mimetype": "text/x-python",
   "name": "python",
   "nbconvert_exporter": "python",
   "pygments_lexer": "ipython3",
   "version": "3.9.13"
  }
 },
 "nbformat": 4,
 "nbformat_minor": 5
}
