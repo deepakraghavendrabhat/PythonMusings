{
 "cells": [
  {
   "cell_type": "code",
   "execution_count": 1,
   "metadata": {
    "id": "OBF0Quv3mbGO"
   },
   "outputs": [],
   "source": [
    "# Sample Price Data for testing\n",
    "\n",
    "item_dict = {'almonds': 6,\n",
    " 'antioxidant juice': 9,\n",
    " 'avocado': 1,\n",
    " 'black tea': 4}"
   ]
  },
  {
   "cell_type": "code",
   "execution_count": 2,
   "metadata": {
    "id": "_uutgZt4mcgz"
   },
   "outputs": [],
   "source": [
    "# sample transaction data for testing\n",
    "\n",
    "transaction_data = \\\n",
    "[['almonds','antioxidant juice','avocado','black tea'],\n",
    "['almonds'],\n",
    "['almonds','antioxidant juice']]"
   ]
  },
  {
   "cell_type": "code",
   "execution_count": 3,
   "metadata": {},
   "outputs": [],
   "source": [
    "def view_items():\n",
    " print('------------------View Items------------------')\n",
    " print('The number of items in the store are : ', len(item_dict))\n",
    " if len(item_dict) != 0:\n",
    "  print('Here are all the items available in the store.')\n",
    "  for key, value in item_dict.items():\n",
    "   print(f\"{key:<30} {value:<95}\")\n",
    "\n",
    "def view_transactions():\n",
    " print('------------------Total Transactions------------------')\n",
    " print('The number of transactions is : ', len(transaction_data))\n",
    "\n",
    "def add_items():\n",
    " print('------------------Add Items to the store------------------')\n",
    " item_name = input('Enter the item to add : ')\n",
    " item_price = input('Enter the price of the item : ')\n",
    " item_dict[item_name] = item_price\n",
    "\n",
    "def remove_items():\n",
    " print('------------------Remove Items from the store------------------')\n",
    " item_name = input('Enter the item to remove : ')\n",
    " item_dict.pop(item_name)\n",
    "\n",
    "def findprice_item():\n",
    " print('------------------Find price of an item------------------\\n')\n",
    " item_name = input('Enter the item name: ')\n",
    " item_price = item_dict[item_name]\n",
    " print(f\"The price of {item_name} is {item_price}\")\n",
    "\n",
    "def search_transaction():\n",
    " print('------------------Search the transaction list------------------\\n')\n",
    " transaction_num = int(input('Enter the transaction to find: '))\n",
    " transaction = transaction_data[transaction_num-1]\n",
    " print(f\"There are {len(transaction)} items in this transaction and they are {transaction}\")\n",
    " print(f\"There are {len(transaction)} items in this transaction and they are\\n\")\n",
    " print(*transaction, sep=\"\\n\")\n",
    " find_totalcost(transaction)\n",
    "\n",
    "def find_totalcost(transaction):\n",
    " total_cost_beftax = 0\n",
    " # for item in transaction:\n",
    " #  total_cost_beftax+= int(item_dict[item])\n",
    " total_cost_beftax += sum(int(item_dict[item]) for item in transaction)\n",
    " # total = sum(int(cost) for cost in item_dict[key for key in transaction])\n",
    " print(f\"Total cost before tax: {total_cost_beftax}\")\n",
    " find_total(total_cost_beftax)\n",
    "\n",
    "def find_total(total_cost_beftax):\n",
    " tax = 5\n",
    " total_cost = total_cost_beftax + ((5/100) * total_cost_beftax)\n",
    " # total = sum(int(cost) for cost in item_dict[key for key in transaction])\n",
    " print(f\"Mandatory govt. tax : {tax}\")\n",
    " print(f\"Total cost after tax : {total_cost}\")\n"
   ]
  },
  {
   "cell_type": "code",
   "execution_count": null,
   "metadata": {},
   "outputs": [],
   "source": []
  },
  {
   "cell_type": "code",
   "execution_count": null,
   "metadata": {},
   "outputs": [],
   "source": []
  },
  {
   "cell_type": "code",
   "execution_count": null,
   "metadata": {},
   "outputs": [],
   "source": []
  },
  {
   "cell_type": "code",
   "execution_count": null,
   "metadata": {},
   "outputs": [],
   "source": []
  },
  {
   "cell_type": "code",
   "execution_count": null,
   "metadata": {},
   "outputs": [],
   "source": []
  },
  {
   "cell_type": "code",
   "execution_count": null,
   "metadata": {},
   "outputs": [],
   "source": []
  },
  {
   "cell_type": "code",
   "execution_count": null,
   "metadata": {},
   "outputs": [],
   "source": []
  },
  {
   "cell_type": "code",
   "execution_count": null,
   "metadata": {},
   "outputs": [],
   "source": []
  },
  {
   "cell_type": "code",
   "execution_count": null,
   "metadata": {},
   "outputs": [],
   "source": []
  },
  {
   "cell_type": "code",
   "execution_count": null,
   "metadata": {},
   "outputs": [],
   "source": []
  },
  {
   "cell_type": "code",
   "execution_count": 4,
   "metadata": {},
   "outputs": [],
   "source": [
    "def inventory():\n",
    "    print('------------Welcome to the Inventory Management System---------------\\n')\n",
    "    print('1. View items\\n2. Add items\\n3. Remove items\\n')\n",
    "    choice = int(input('Please enter a number : '))\n",
    "    if choice == 1:\n",
    "        view_items()\n",
    "    elif choice == 2:\n",
    "        add_items()\n",
    "        print('-------Item Added. Please have a look-----\\n')\n",
    "        view_items()\n",
    "    elif choice == 3:\n",
    "        remove_items()\n",
    "        print('-------Item Removed. Please have a look-----\\n')\n",
    "        view_items()\n",
    "    else:\n",
    "        print('You entered an invalid option')"
   ]
  },
  {
   "cell_type": "code",
   "execution_count": 5,
   "metadata": {},
   "outputs": [],
   "source": [
    "def billing():\n",
    "    print('------------Welcome to the Billing Management System---------------\\n')\n",
    "    print('1. Total Transactions\\n2. Find Item price \\n3. Search Transactions\\n')\n",
    "    choice = int(input('Please enter a number : '))\n",
    "    if choice == 1:\n",
    "        view_transactions()\n",
    "    elif choice == 2:\n",
    "        findprice_item()\n",
    "    elif choice == 3:\n",
    "        search_transaction()\n",
    "    else:\n",
    "        print('You entered an invalid option')"
   ]
  },
  {
   "cell_type": "code",
   "execution_count": 6,
   "metadata": {
    "id": "lTmOHxeVmjt0"
   },
   "outputs": [
    {
     "name": "stdout",
     "output_type": "stream",
     "text": [
      "------------------Welcome to the stores------------------\n",
      "\n",
      "1. Inventory Management System\n",
      "2. Billing System\n",
      "3. Quit\n",
      "\n",
      "Please select : 1\n",
      "------------Welcome to the Inventory Management System---------------\n",
      "\n",
      "1. View items\n",
      "2. Add items\n",
      "3. Remove items\n",
      "\n",
      "Please enter a number : 1\n",
      "------------------View Items------------------\n",
      "The number of items in the store are :  4\n",
      "Here are all the items available in the store.\n",
      "almonds                        6                                                                                              \n",
      "antioxidant juice              9                                                                                              \n",
      "avocado                        1                                                                                              \n",
      "black tea                      4                                                                                              \n",
      "------------------Welcome to the stores------------------\n",
      "\n",
      "1. Inventory Management System\n",
      "2. Billing System\n",
      "3. Quit\n",
      "\n",
      "Please select : 1\n",
      "------------Welcome to the Inventory Management System---------------\n",
      "\n",
      "1. View items\n",
      "2. Add items\n",
      "3. Remove items\n",
      "\n",
      "Please enter a number : 2\n",
      "------------------Add Items to the store------------------\n",
      "Enter the item to add : banana\n",
      "Enter the price of the item : 4\n",
      "-------Item Added. Please have a look-----\n",
      "\n",
      "------------------View Items------------------\n",
      "The number of items in the store are :  5\n",
      "Here are all the items available in the store.\n",
      "almonds                        6                                                                                              \n",
      "antioxidant juice              9                                                                                              \n",
      "avocado                        1                                                                                              \n",
      "black tea                      4                                                                                              \n",
      "banana                         4                                                                                              \n",
      "------------------Welcome to the stores------------------\n",
      "\n",
      "1. Inventory Management System\n",
      "2. Billing System\n",
      "3. Quit\n",
      "\n",
      "Please select : 1\n",
      "------------Welcome to the Inventory Management System---------------\n",
      "\n",
      "1. View items\n",
      "2. Add items\n",
      "3. Remove items\n",
      "\n",
      "Please enter a number : \n"
     ]
    },
    {
     "ename": "ValueError",
     "evalue": "invalid literal for int() with base 10: ''",
     "output_type": "error",
     "traceback": [
      "\u001b[1;31m---------------------------------------------------------------------------\u001b[0m",
      "\u001b[1;31mValueError\u001b[0m                                Traceback (most recent call last)",
      "Cell \u001b[1;32mIn[6], line 6\u001b[0m\n\u001b[0;32m      4\u001b[0m choice \u001b[38;5;241m=\u001b[39m \u001b[38;5;28mint\u001b[39m(\u001b[38;5;28minput\u001b[39m(\u001b[38;5;124m'\u001b[39m\u001b[38;5;124mPlease select : \u001b[39m\u001b[38;5;124m'\u001b[39m))\n\u001b[0;32m      5\u001b[0m \u001b[38;5;28;01mif\u001b[39;00m choice \u001b[38;5;241m==\u001b[39m \u001b[38;5;241m1\u001b[39m:\n\u001b[1;32m----> 6\u001b[0m     \u001b[43minventory\u001b[49m\u001b[43m(\u001b[49m\u001b[43m)\u001b[49m\n\u001b[0;32m      7\u001b[0m \u001b[38;5;28;01melif\u001b[39;00m choice \u001b[38;5;241m==\u001b[39m \u001b[38;5;241m2\u001b[39m:\n\u001b[0;32m      8\u001b[0m     billing()\n",
      "Cell \u001b[1;32mIn[4], line 4\u001b[0m, in \u001b[0;36minventory\u001b[1;34m()\u001b[0m\n\u001b[0;32m      2\u001b[0m \u001b[38;5;28mprint\u001b[39m(\u001b[38;5;124m'\u001b[39m\u001b[38;5;124m------------Welcome to the Inventory Management System---------------\u001b[39m\u001b[38;5;130;01m\\n\u001b[39;00m\u001b[38;5;124m'\u001b[39m)\n\u001b[0;32m      3\u001b[0m \u001b[38;5;28mprint\u001b[39m(\u001b[38;5;124m'\u001b[39m\u001b[38;5;124m1. View items\u001b[39m\u001b[38;5;130;01m\\n\u001b[39;00m\u001b[38;5;124m2. Add items\u001b[39m\u001b[38;5;130;01m\\n\u001b[39;00m\u001b[38;5;124m3. Remove items\u001b[39m\u001b[38;5;130;01m\\n\u001b[39;00m\u001b[38;5;124m'\u001b[39m)\n\u001b[1;32m----> 4\u001b[0m choice \u001b[38;5;241m=\u001b[39m \u001b[38;5;28;43mint\u001b[39;49m\u001b[43m(\u001b[49m\u001b[38;5;28;43minput\u001b[39;49m\u001b[43m(\u001b[49m\u001b[38;5;124;43m'\u001b[39;49m\u001b[38;5;124;43mPlease enter a number : \u001b[39;49m\u001b[38;5;124;43m'\u001b[39;49m\u001b[43m)\u001b[49m\u001b[43m)\u001b[49m\n\u001b[0;32m      5\u001b[0m \u001b[38;5;28;01mif\u001b[39;00m choice \u001b[38;5;241m==\u001b[39m \u001b[38;5;241m1\u001b[39m:\n\u001b[0;32m      6\u001b[0m     view_items()\n",
      "\u001b[1;31mValueError\u001b[0m: invalid literal for int() with base 10: ''"
     ]
    }
   ],
   "source": [
    "while True:\n",
    "    print('------------------Welcome to the stores------------------\\n')\n",
    "    print('1. Inventory Management System\\n2. Billing System\\n3. Quit\\n')\n",
    "    choice = int(input('Please select : '))\n",
    "    if choice == 1:\n",
    "        inventory()\n",
    "    elif choice == 2:\n",
    "        billing()\n",
    "    elif choice == 3:\n",
    "        print('------Quit-------')\n",
    "        break\n",
    "    else:\n",
    "        print('Invalid choice')\n",
    "\n",
    "\n",
    "\n"
   ]
  },
  {
   "cell_type": "code",
   "execution_count": null,
   "metadata": {},
   "outputs": [],
   "source": []
  },
  {
   "cell_type": "code",
   "execution_count": null,
   "metadata": {},
   "outputs": [],
   "source": []
  },
  {
   "cell_type": "code",
   "execution_count": null,
   "metadata": {},
   "outputs": [],
   "source": []
  }
 ],
 "metadata": {
  "colab": {
   "name": "Data.ipynb",
   "provenance": []
  },
  "kernelspec": {
   "display_name": "Python 3 (ipykernel)",
   "language": "python",
   "name": "python3"
  },
  "language_info": {
   "codemirror_mode": {
    "name": "ipython",
    "version": 3
   },
   "file_extension": ".py",
   "mimetype": "text/x-python",
   "name": "python",
   "nbconvert_exporter": "python",
   "pygments_lexer": "ipython3",
   "version": "3.11.1"
  }
 },
 "nbformat": 4,
 "nbformat_minor": 1
}
