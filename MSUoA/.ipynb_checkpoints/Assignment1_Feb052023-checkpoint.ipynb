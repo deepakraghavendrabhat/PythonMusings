{
 "cells": [
  {
   "cell_type": "code",
   "execution_count": 1,
   "metadata": {
    "id": "OBF0Quv3mbGO"
   },
   "outputs": [],
   "source": [
    "# Price Data\n",
    "\n",
    "item_dict = {'almonds': 6,\n",
    " 'antioxidant juice': 9,\n",
    " 'avocado': 1,\n",
    " 'black tea': 4}"
   ]
  },
  {
   "cell_type": "code",
   "execution_count": 2,
   "metadata": {
    "id": "_uutgZt4mcgz"
   },
   "outputs": [],
   "source": [
    "# transaction data\n",
    "\n",
    "transaction_data = \\\n",
    "[['almonds','antioxidant juice','avocado','black tea'],\n",
    "['almonds'],\n",
    "['almonds','antioxidant juice']]"
   ]
  },
  {
   "cell_type": "code",
   "execution_count": null,
   "metadata": {},
   "outputs": [],
   "source": [
    "def inventory():\n",
    "    print('------------Welcome to the Inventory Management System---------------\\n')\n",
    "    print('1. View items\\n2. Total Transactions\\n3. Add items\\n4. Remove items\\n5. Find Item price \\n6. Search Transactions\\n7. Quit\\n')\n",
    "    choice = input('Enter the number of your choice : ')\n",
    "    if choice == '1':\n",
    "        view_items()\n",
    "    elif choice == '2':\n",
    "        view_transactions()\n",
    "    elif choice == '3':\n",
    "        add_items()\n",
    "        print('-------Item Added. Please have a look-----\\n')\n",
    "        view_items()\n",
    "    elif choice == '4':\n",
    "        remove_items()\n",
    "        print('-------Item Removed. Please have a look-----\\n')\n",
    "        view_items()\n",
    "    elif choice == '5':\n",
    "        findprice_item()\n",
    "      # print('-------Item Removed. Please have a look-----')\n",
    "    elif choice == '6':\n",
    "        search_transaction()\n",
    "    elif choice == '7':\n",
    "        print('------Quit-------')\n",
    "        break\n",
    "    else:\n",
    "        print('You entered an invalid option')"
   ]
  },
  {
   "cell_type": "code",
   "execution_count": null,
   "metadata": {},
   "outputs": [],
   "source": [
    "def billing():\n",
    "    print('------------Welcome to the Inventory Management System---------------\\n')\n",
    "    print('1. Total Transactions\\n2. Find Item price \\n3. Search Transactions\\n4. Quit\\n')\n",
    "    choice = int(input('Please enter a number : '))\n",
    "    if choice == 1:\n",
    "        view_transactions()\n",
    "    elif choice == 2:\n",
    "        findprice_item()\n",
    "    elif choice == 3:\n",
    "        search_transaction()\n",
    "    elif choice == 4:\n",
    "        print('------Quit-------')\n",
    "        break\n",
    "    else:\n",
    "        print('You entered an invalid option')"
   ]
  },
  {
   "cell_type": "code",
   "execution_count": null,
   "metadata": {
    "id": "lTmOHxeVmjt0"
   },
   "outputs": [],
   "source": [
    "while True:\n",
    "    print('------------------Welcome to the stores------------------\\n')\n",
    "    print('1. Inventory Management System\\n2. Billing System\\n3. Quit\\n')\n",
    "    choice = int(input('Please select : '))\n",
    "    if choice == 1:\n",
    "        inventory()\n",
    "    elif choice == 2:\n",
    "        billing()\n",
    "    elif choice == 3:\n",
    "        print('------Quit-------')\n",
    "        break\n",
    "    else:\n",
    "        print('Invalid choice')\n",
    "\n",
    "\n",
    "\n"
   ]
  },
  {
   "cell_type": "code",
   "execution_count": null,
   "metadata": {},
   "outputs": [],
   "source": []
  },
  {
   "cell_type": "code",
   "execution_count": null,
   "metadata": {},
   "outputs": [],
   "source": []
  },
  {
   "cell_type": "code",
   "execution_count": null,
   "metadata": {},
   "outputs": [],
   "source": []
  }
 ],
 "metadata": {
  "colab": {
   "name": "Data.ipynb",
   "provenance": []
  },
  "kernelspec": {
   "display_name": "Python 3 (ipykernel)",
   "language": "python",
   "name": "python3"
  },
  "language_info": {
   "codemirror_mode": {
    "name": "ipython",
    "version": 3
   },
   "file_extension": ".py",
   "mimetype": "text/x-python",
   "name": "python",
   "nbconvert_exporter": "python",
   "pygments_lexer": "ipython3",
   "version": "3.11.1"
  }
 },
 "nbformat": 4,
 "nbformat_minor": 1
}
