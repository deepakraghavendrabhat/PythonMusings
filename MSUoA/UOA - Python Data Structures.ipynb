{
 "cells": [
  {
   "cell_type": "markdown",
   "id": "22903ec9",
   "metadata": {},
   "source": [
    "## 🚨 Activity 1:\n",
    "<hr/>\n",
    "\n",
    "Target: String Handling\n",
    "    \n",
    "    \n",
    "Write a program that finds the Happiness Score ?\n",
    "\n",
    "to find happiness score accept name from user and find the sum of \n",
    "ascii code of each character.\n",
    "\n"
   ]
  },
  {
   "cell_type": "code",
   "execution_count": 2,
   "id": "af457d9b",
   "metadata": {},
   "outputs": [
    {
     "data": {
      "text/plain": [
       "97"
      ]
     },
     "execution_count": 2,
     "metadata": {},
     "output_type": "execute_result"
    }
   ],
   "source": [
    "ord('a')"
   ]
  },
  {
   "cell_type": "code",
   "execution_count": 3,
   "id": "0ac77342",
   "metadata": {},
   "outputs": [],
   "source": [
    "sample='rockstar'"
   ]
  },
  {
   "cell_type": "code",
   "execution_count": 6,
   "id": "d17e095c",
   "metadata": {},
   "outputs": [
    {
     "name": "stdout",
     "output_type": "stream",
     "text": [
      "r         114\n",
      "o         111\n",
      "c         99\n",
      "k         107\n",
      "s         115\n",
      "t         116\n",
      "a         97\n",
      "r         114\n"
     ]
    }
   ],
   "source": [
    "total=0\n",
    "\n",
    "for char in sample:\n",
    "    \n",
    "    print(char,'       ',ord(char))\n",
    "    \n",
    "    total = total + ord(char)"
   ]
  },
  {
   "cell_type": "code",
   "execution_count": 7,
   "id": "7aacea41",
   "metadata": {},
   "outputs": [
    {
     "name": "stdout",
     "output_type": "stream",
     "text": [
      "Happiness Score  873\n"
     ]
    }
   ],
   "source": [
    "print('Happiness Score ', total)"
   ]
  },
  {
   "cell_type": "code",
   "execution_count": null,
   "id": "c38e68fa",
   "metadata": {},
   "outputs": [],
   "source": []
  },
  {
   "cell_type": "markdown",
   "id": "ca3535ed",
   "metadata": {},
   "source": [
    "## 🚨 Activity 2\n",
    "<hr/>\n",
    "\n",
    "Targets: String Manipulation\n",
    "    \n",
    "Simulating Twitter 🐦 \n",
    "\n",
    "tweet=\"Dear #problem, my #God is #bigger then you\"\n",
    "\n",
    "Objective: to extract hashTags.\n",
    "\n",
    "expected output:\n",
    "    \n",
    "    #problem,\n",
    "    #God\n",
    "    #bigger"
   ]
  },
  {
   "cell_type": "code",
   "execution_count": null,
   "id": "bce52c23",
   "metadata": {},
   "outputs": [],
   "source": []
  },
  {
   "cell_type": "code",
   "execution_count": 8,
   "id": "b14fdf97",
   "metadata": {},
   "outputs": [],
   "source": [
    "tweet=\"Dear #problem, my #God is #bigger then you\""
   ]
  },
  {
   "cell_type": "code",
   "execution_count": null,
   "id": "a67d1abe",
   "metadata": {},
   "outputs": [],
   "source": []
  },
  {
   "cell_type": "code",
   "execution_count": null,
   "id": "82daebc0",
   "metadata": {},
   "outputs": [],
   "source": []
  },
  {
   "cell_type": "code",
   "execution_count": null,
   "id": "2f51e333",
   "metadata": {},
   "outputs": [],
   "source": []
  },
  {
   "cell_type": "code",
   "execution_count": null,
   "id": "117067de",
   "metadata": {},
   "outputs": [],
   "source": []
  },
  {
   "cell_type": "code",
   "execution_count": 10,
   "id": "d16ecc08",
   "metadata": {},
   "outputs": [
    {
     "data": {
      "text/plain": [
       "['Dear', '#problem,', 'my', '#God', 'is', '#bigger', 'then', 'you']"
      ]
     },
     "execution_count": 10,
     "metadata": {},
     "output_type": "execute_result"
    }
   ],
   "source": [
    "twlist = tweet.split()\n",
    "\n",
    "twlist"
   ]
  },
  {
   "cell_type": "code",
   "execution_count": null,
   "id": "23a9d35e",
   "metadata": {},
   "outputs": [],
   "source": []
  },
  {
   "cell_type": "code",
   "execution_count": 12,
   "id": "a36cacdf",
   "metadata": {},
   "outputs": [
    {
     "name": "stdout",
     "output_type": "stream",
     "text": [
      "Dear        False\n",
      "#problem,        True\n",
      "my        False\n",
      "#God        True\n",
      "is        False\n",
      "#bigger        True\n",
      "then        False\n",
      "you        False\n"
     ]
    }
   ],
   "source": [
    "for word in twlist:\n",
    "    \n",
    "    print(word,'      ',word.startswith('#'))"
   ]
  },
  {
   "cell_type": "code",
   "execution_count": null,
   "id": "c4f13228",
   "metadata": {},
   "outputs": [],
   "source": []
  },
  {
   "cell_type": "code",
   "execution_count": 13,
   "id": "8207b65e",
   "metadata": {},
   "outputs": [
    {
     "name": "stdout",
     "output_type": "stream",
     "text": [
      "#problem,\n",
      "#God\n",
      "#bigger\n"
     ]
    }
   ],
   "source": [
    "for word in twlist:\n",
    "    \n",
    "    if word.startswith('#'):\n",
    "        \n",
    "        print(word)"
   ]
  },
  {
   "cell_type": "code",
   "execution_count": null,
   "id": "fdbe6dea",
   "metadata": {},
   "outputs": [],
   "source": []
  },
  {
   "cell_type": "code",
   "execution_count": 14,
   "id": "b4a6f12c",
   "metadata": {},
   "outputs": [
    {
     "name": "stdout",
     "output_type": "stream",
     "text": [
      "#problem,\n",
      "#God\n",
      "#bigger\n"
     ]
    }
   ],
   "source": [
    "for word in twlist:\n",
    "    \n",
    "    if word[0] == '#':\n",
    "        \n",
    "        print(word)"
   ]
  },
  {
   "cell_type": "code",
   "execution_count": null,
   "id": "ffb6d1be",
   "metadata": {},
   "outputs": [],
   "source": []
  },
  {
   "cell_type": "code",
   "execution_count": 15,
   "id": "849f7a94",
   "metadata": {},
   "outputs": [],
   "source": [
    "# demo : .isdigit()"
   ]
  },
  {
   "cell_type": "code",
   "execution_count": 16,
   "id": "e7d09a2f",
   "metadata": {},
   "outputs": [],
   "source": [
    "lottery=\"726\""
   ]
  },
  {
   "cell_type": "code",
   "execution_count": 17,
   "id": "f1949758",
   "metadata": {},
   "outputs": [
    {
     "data": {
      "text/plain": [
       "True"
      ]
     },
     "execution_count": 17,
     "metadata": {},
     "output_type": "execute_result"
    }
   ],
   "source": [
    "lottery.isdigit()"
   ]
  },
  {
   "cell_type": "code",
   "execution_count": null,
   "id": "2542131f",
   "metadata": {},
   "outputs": [],
   "source": []
  },
  {
   "cell_type": "code",
   "execution_count": 18,
   "id": "26a22d18",
   "metadata": {},
   "outputs": [],
   "source": [
    "lottery=\"7 26\""
   ]
  },
  {
   "cell_type": "code",
   "execution_count": 19,
   "id": "5937fa41",
   "metadata": {},
   "outputs": [
    {
     "data": {
      "text/plain": [
       "False"
      ]
     },
     "execution_count": 19,
     "metadata": {},
     "output_type": "execute_result"
    }
   ],
   "source": [
    "lottery.isdigit()"
   ]
  },
  {
   "cell_type": "code",
   "execution_count": null,
   "id": "e5aab136",
   "metadata": {},
   "outputs": [],
   "source": []
  },
  {
   "cell_type": "code",
   "execution_count": null,
   "id": "c9c4c5f9",
   "metadata": {},
   "outputs": [],
   "source": []
  },
  {
   "cell_type": "code",
   "execution_count": null,
   "id": "75395792",
   "metadata": {},
   "outputs": [],
   "source": []
  },
  {
   "cell_type": "markdown",
   "id": "7f3bf6eb",
   "metadata": {},
   "source": [
    "## 🚨 Activity 3\n",
    "<hr/>\n",
    "Targets: String Manipulation\n",
    "    \n",
    "metaBusiness = \"Facebook 114 Instagram 180 wApp 140\"\n",
    "\n",
    "Objective : \n",
    "    \n",
    "        1.1 Total Revenue\n",
    "        1.2 Avg   Revenue\n",
    "        \n",
    "  "
   ]
  },
  {
   "cell_type": "code",
   "execution_count": 21,
   "id": "99457dce",
   "metadata": {},
   "outputs": [],
   "source": [
    "metaBusiness = \"Facebook 114 Instagram 180 wApp 140\""
   ]
  },
  {
   "cell_type": "code",
   "execution_count": 22,
   "id": "eb54b21e",
   "metadata": {},
   "outputs": [
    {
     "data": {
      "text/plain": [
       "['Facebook', '114', 'Instagram', '180', 'wApp', '140']"
      ]
     },
     "execution_count": 22,
     "metadata": {},
     "output_type": "execute_result"
    }
   ],
   "source": [
    "metaList = metaBusiness.split()\n",
    "\n",
    "metaList"
   ]
  },
  {
   "cell_type": "code",
   "execution_count": null,
   "id": "26ed0005",
   "metadata": {},
   "outputs": [],
   "source": []
  },
  {
   "cell_type": "code",
   "execution_count": 27,
   "id": "5403ac8d",
   "metadata": {},
   "outputs": [
    {
     "name": "stdout",
     "output_type": "stream",
     "text": [
      "[114, 180, 140]\n"
     ]
    }
   ],
   "source": [
    "revenue =[]\n",
    "\n",
    "for word in metaList:\n",
    "    \n",
    "    if word.isdigit():\n",
    "        \n",
    "        revenue.append(int(word))\n",
    "        \n",
    "print(revenue)"
   ]
  },
  {
   "cell_type": "code",
   "execution_count": 28,
   "id": "42692aae",
   "metadata": {},
   "outputs": [
    {
     "name": "stdout",
     "output_type": "stream",
     "text": [
      "Total Revenue  434\n"
     ]
    }
   ],
   "source": [
    "print('Total Revenue ', sum(revenue))"
   ]
  },
  {
   "cell_type": "code",
   "execution_count": 29,
   "id": "66fa3d83",
   "metadata": {},
   "outputs": [
    {
     "name": "stdout",
     "output_type": "stream",
     "text": [
      "Average  144.66666666666666\n"
     ]
    }
   ],
   "source": [
    "print('Average ',       sum(revenue) /   len(revenue))"
   ]
  },
  {
   "cell_type": "code",
   "execution_count": null,
   "id": "ac6d7550",
   "metadata": {},
   "outputs": [],
   "source": []
  },
  {
   "cell_type": "code",
   "execution_count": null,
   "id": "316090f6",
   "metadata": {},
   "outputs": [],
   "source": []
  },
  {
   "cell_type": "markdown",
   "id": "a4bb8c94",
   "metadata": {},
   "source": [
    "## 🚨 Activity 4\n",
    "<hr/>\n",
    "<pre>\n",
    "\n",
    "Targets: String Manipulation\n",
    "    \n",
    "\n",
    "scientists=\"William Gilbert,Arnold Orville Beckman,Joseph Henry,Grace Murray Hopper\"\n",
    "\n",
    "\n",
    "you are asked to send invitation for nobel physics award event to the above\n",
    "scientists.\n",
    "\n",
    "please prepare the Invitation in the Below Format :\n",
    "    \n",
    "    \n",
    "    Dear Mr. Gilbert.W\n",
    "    Dear Mr. Beckman.A\n",
    "    Dear Mr. Henry.J\n",
    "    Dear Mr. Hopper.G\n"
   ]
  },
  {
   "cell_type": "code",
   "execution_count": null,
   "id": "525e2776",
   "metadata": {},
   "outputs": [],
   "source": []
  },
  {
   "cell_type": "code",
   "execution_count": 30,
   "id": "122171c8",
   "metadata": {},
   "outputs": [],
   "source": [
    "scientists=\"William Gilbert,Arnold Orville Beckman,Joseph Henry,Grace Murray Hopper\""
   ]
  },
  {
   "cell_type": "code",
   "execution_count": 31,
   "id": "74661504",
   "metadata": {},
   "outputs": [
    {
     "data": {
      "text/plain": [
       "['William Gilbert',\n",
       " 'Arnold Orville Beckman',\n",
       " 'Joseph Henry',\n",
       " 'Grace Murray Hopper']"
      ]
     },
     "execution_count": 31,
     "metadata": {},
     "output_type": "execute_result"
    }
   ],
   "source": [
    "slist =   scientists.split(',')\n",
    "\n",
    "slist"
   ]
  },
  {
   "cell_type": "code",
   "execution_count": null,
   "id": "9e65224e",
   "metadata": {},
   "outputs": [],
   "source": []
  },
  {
   "cell_type": "code",
   "execution_count": 32,
   "id": "aa91c22d",
   "metadata": {},
   "outputs": [
    {
     "name": "stdout",
     "output_type": "stream",
     "text": [
      "William Gilbert\n",
      "Arnold Orville Beckman\n",
      "Joseph Henry\n",
      "Grace Murray Hopper\n"
     ]
    }
   ],
   "source": [
    "for name in slist:\n",
    "    \n",
    "    print(name) # i see in name space is a sep. between first and last Name."
   ]
  },
  {
   "cell_type": "code",
   "execution_count": null,
   "id": "acc5b6cb",
   "metadata": {},
   "outputs": [],
   "source": []
  },
  {
   "cell_type": "code",
   "execution_count": 33,
   "id": "926a5690",
   "metadata": {},
   "outputs": [
    {
     "name": "stdout",
     "output_type": "stream",
     "text": [
      "['William', 'Gilbert']\n",
      "['Arnold', 'Orville', 'Beckman']\n",
      "['Joseph', 'Henry']\n",
      "['Grace', 'Murray', 'Hopper']\n"
     ]
    }
   ],
   "source": [
    "for name in slist:\n",
    "    \n",
    "    print(name.split())"
   ]
  },
  {
   "cell_type": "code",
   "execution_count": null,
   "id": "9d2ef870",
   "metadata": {},
   "outputs": [],
   "source": [
    "# in each List [-1] targets Last Name.\n",
    "\n",
    "# in name variable eg. 'William Gilbert' name[0] represents firstName firstCharacter i.e 'W'."
   ]
  },
  {
   "cell_type": "code",
   "execution_count": null,
   "id": "bea7f87e",
   "metadata": {},
   "outputs": [],
   "source": []
  },
  {
   "cell_type": "code",
   "execution_count": 35,
   "id": "6fc3039d",
   "metadata": {},
   "outputs": [
    {
     "name": "stdout",
     "output_type": "stream",
     "text": [
      "Gilbert      W\n",
      "Beckman      A\n",
      "Henry      J\n",
      "Hopper      G\n"
     ]
    }
   ],
   "source": [
    "for name in slist:\n",
    "    \n",
    "    print(name.split()[-1],'    ', name[0])"
   ]
  },
  {
   "cell_type": "code",
   "execution_count": null,
   "id": "2f0d4547",
   "metadata": {},
   "outputs": [],
   "source": []
  },
  {
   "cell_type": "code",
   "execution_count": 37,
   "id": "6eaa89e9",
   "metadata": {},
   "outputs": [
    {
     "name": "stdout",
     "output_type": "stream",
     "text": [
      "Dear Mr. Gilbert.W\n",
      "Dear Mr. Beckman.A\n",
      "Dear Mr. Henry.J\n",
      "Dear Mr. Hopper.G\n"
     ]
    }
   ],
   "source": [
    "\n",
    "scientists=\"William Gilbert,Arnold Orville Beckman,Joseph Henry,Grace Murray Hopper\"\n",
    "\n",
    "\n",
    "slist =   scientists.split(',')\n",
    "\n",
    "\n",
    "for name in slist:\n",
    "    \n",
    "    print(f'Dear Mr. {name.split()[-1]}.{name[0]}')"
   ]
  },
  {
   "cell_type": "code",
   "execution_count": null,
   "id": "fa8ff263",
   "metadata": {},
   "outputs": [],
   "source": []
  },
  {
   "cell_type": "markdown",
   "id": "05a1d045",
   "metadata": {},
   "source": [
    "## 🚨 Activity 5\n",
    "<hr/>\n",
    "\n",
    "<pre>\n",
    "\n",
    "Targets: List Indexing\n",
    "    \n",
    "\n",
    "sampleList=['hello','welcome',[10,20],['A','B','C',[30,40,50,['findme']]],60,70]\n",
    "\n",
    "\n",
    "Objective: to extract 'findme' as String using Indexing.\n",
    "    \n",
    "    "
   ]
  },
  {
   "cell_type": "code",
   "execution_count": 38,
   "id": "52d36824",
   "metadata": {},
   "outputs": [],
   "source": [
    "sampleList=['hello','welcome',[10,20],['A','B','C',[30,40,50,['findme']]],60,70]\n"
   ]
  },
  {
   "cell_type": "code",
   "execution_count": 40,
   "id": "733e5641",
   "metadata": {},
   "outputs": [
    {
     "data": {
      "text/plain": [
       "['hello',\n",
       " 'welcome',\n",
       " [10, 20],\n",
       " ['A', 'B', 'C', [30, 40, 50, ['findme']]],\n",
       " 60,\n",
       " 70]"
      ]
     },
     "execution_count": 40,
     "metadata": {},
     "output_type": "execute_result"
    }
   ],
   "source": [
    "sampleList"
   ]
  },
  {
   "cell_type": "code",
   "execution_count": 41,
   "id": "4f99cf7c",
   "metadata": {},
   "outputs": [
    {
     "data": {
      "text/plain": [
       "['A', 'B', 'C', [30, 40, 50, ['findme']]]"
      ]
     },
     "execution_count": 41,
     "metadata": {},
     "output_type": "execute_result"
    }
   ],
   "source": [
    "sampleList[3]"
   ]
  },
  {
   "cell_type": "code",
   "execution_count": 42,
   "id": "25d3f50a",
   "metadata": {},
   "outputs": [
    {
     "data": {
      "text/plain": [
       "[30, 40, 50, ['findme']]"
      ]
     },
     "execution_count": 42,
     "metadata": {},
     "output_type": "execute_result"
    }
   ],
   "source": [
    "sampleList[3][-1]"
   ]
  },
  {
   "cell_type": "code",
   "execution_count": 43,
   "id": "3c7285b4",
   "metadata": {},
   "outputs": [
    {
     "data": {
      "text/plain": [
       "['findme']"
      ]
     },
     "execution_count": 43,
     "metadata": {},
     "output_type": "execute_result"
    }
   ],
   "source": [
    "sampleList[3][-1][-1]"
   ]
  },
  {
   "cell_type": "code",
   "execution_count": 44,
   "id": "7c961e2e",
   "metadata": {},
   "outputs": [
    {
     "data": {
      "text/plain": [
       "'findme'"
      ]
     },
     "execution_count": 44,
     "metadata": {},
     "output_type": "execute_result"
    }
   ],
   "source": [
    "sampleList[3][-1][-1][0]"
   ]
  },
  {
   "cell_type": "code",
   "execution_count": null,
   "id": "7ed90977",
   "metadata": {},
   "outputs": [],
   "source": []
  },
  {
   "cell_type": "code",
   "execution_count": null,
   "id": "4fda9ae3",
   "metadata": {},
   "outputs": [],
   "source": []
  },
  {
   "cell_type": "markdown",
   "id": "59850e9e",
   "metadata": {},
   "source": [
    "## 🚨 Activity 6:\n",
    "<hr/>\n",
    "\n",
    "<pre>\n",
    "\n",
    "Targets: Dictionary\n",
    "    \n",
    "    \n",
    "my_dict={\n",
    "    'FL':['Alabama','Florida','Alaska',{'Hi':['Hawai','Inception',{'lock':['find','the','key']}]}]\n",
    "}\n",
    "\n",
    "\n",
    "Object is to extract 'Key' from the Above Dictionary."
   ]
  },
  {
   "cell_type": "code",
   "execution_count": 45,
   "id": "558ee4ac",
   "metadata": {},
   "outputs": [],
   "source": [
    "my_dict={\n",
    "    'FL':['Alabama','Florida','Alaska',{'Hi':['Hawai','Inception',{'lock':['find','the','key']}]}]\n",
    "}"
   ]
  },
  {
   "cell_type": "code",
   "execution_count": 46,
   "id": "6a6a260d",
   "metadata": {},
   "outputs": [
    {
     "data": {
      "text/plain": [
       "{'FL': ['Alabama',\n",
       "  'Florida',\n",
       "  'Alaska',\n",
       "  {'Hi': ['Hawai', 'Inception', {'lock': ['find', 'the', 'key']}]}]}"
      ]
     },
     "execution_count": 46,
     "metadata": {},
     "output_type": "execute_result"
    }
   ],
   "source": [
    "my_dict"
   ]
  },
  {
   "cell_type": "code",
   "execution_count": 47,
   "id": "a26424b2",
   "metadata": {},
   "outputs": [
    {
     "data": {
      "text/plain": [
       "['Alabama',\n",
       " 'Florida',\n",
       " 'Alaska',\n",
       " {'Hi': ['Hawai', 'Inception', {'lock': ['find', 'the', 'key']}]}]"
      ]
     },
     "execution_count": 47,
     "metadata": {},
     "output_type": "execute_result"
    }
   ],
   "source": [
    "my_dict['FL']"
   ]
  },
  {
   "cell_type": "code",
   "execution_count": 48,
   "id": "29d7d310",
   "metadata": {},
   "outputs": [
    {
     "data": {
      "text/plain": [
       "{'Hi': ['Hawai', 'Inception', {'lock': ['find', 'the', 'key']}]}"
      ]
     },
     "execution_count": 48,
     "metadata": {},
     "output_type": "execute_result"
    }
   ],
   "source": [
    "my_dict['FL'][-1]"
   ]
  },
  {
   "cell_type": "code",
   "execution_count": 49,
   "id": "8176e1b2",
   "metadata": {},
   "outputs": [
    {
     "data": {
      "text/plain": [
       "['Hawai', 'Inception', {'lock': ['find', 'the', 'key']}]"
      ]
     },
     "execution_count": 49,
     "metadata": {},
     "output_type": "execute_result"
    }
   ],
   "source": [
    "my_dict['FL'][-1]['Hi']"
   ]
  },
  {
   "cell_type": "code",
   "execution_count": 50,
   "id": "d403c3d3",
   "metadata": {},
   "outputs": [
    {
     "data": {
      "text/plain": [
       "{'lock': ['find', 'the', 'key']}"
      ]
     },
     "execution_count": 50,
     "metadata": {},
     "output_type": "execute_result"
    }
   ],
   "source": [
    "my_dict['FL'][-1]['Hi'][-1]"
   ]
  },
  {
   "cell_type": "code",
   "execution_count": 51,
   "id": "39aeed8d",
   "metadata": {},
   "outputs": [
    {
     "data": {
      "text/plain": [
       "['find', 'the', 'key']"
      ]
     },
     "execution_count": 51,
     "metadata": {},
     "output_type": "execute_result"
    }
   ],
   "source": [
    "my_dict['FL'][-1]['Hi'][-1]['lock']"
   ]
  },
  {
   "cell_type": "code",
   "execution_count": 52,
   "id": "1cc95c4a",
   "metadata": {},
   "outputs": [
    {
     "data": {
      "text/plain": [
       "'key'"
      ]
     },
     "execution_count": 52,
     "metadata": {},
     "output_type": "execute_result"
    }
   ],
   "source": [
    "my_dict['FL'][-1]['Hi'][-1]['lock'][-1] # done."
   ]
  },
  {
   "cell_type": "code",
   "execution_count": null,
   "id": "34638e19",
   "metadata": {},
   "outputs": [],
   "source": []
  },
  {
   "cell_type": "markdown",
   "id": "2f320549",
   "metadata": {},
   "source": [
    "##  🚨 Activity 7\n",
    "<hr/>\n",
    "<pre>\n",
    "Targets: Dictionary\n",
    "    \n",
    "    \n",
    "Simulating Billing Counter\n",
    "\n",
    "\n",
    "shopping_cart=['banana','orange','apple'] # here the assumption is the qty is 1\n",
    "\n",
    "\n",
    "stock={\n",
    "    'banana':6,\n",
    "    'apple':0,\n",
    "    'orange':32,\n",
    "    'pear':15\n",
    "}\n",
    "\n",
    "prices={\n",
    "    'banana':4,\n",
    "    'apple':2,\n",
    "    'orange':1.5,\n",
    "    'pear':3\n",
    "}\n",
    "\n",
    "Objective : find the Total Amount to Pay as per the Products Selected in Shopping_Cart."
   ]
  },
  {
   "cell_type": "code",
   "execution_count": 57,
   "id": "0153301b",
   "metadata": {},
   "outputs": [],
   "source": [
    "shopping_cart=['banana','orange','apple'] # here the assumption is the qty is 1\n",
    "\n",
    "stock={\n",
    "    'banana':6,\n",
    "    'apple':0,\n",
    "    'orange':32,\n",
    "    'pear':15\n",
    "}\n",
    "\n",
    "prices={\n",
    "    'banana':4,\n",
    "    'apple':2,\n",
    "    'orange':1.5,\n",
    "    'pear':3\n",
    "}"
   ]
  },
  {
   "cell_type": "code",
   "execution_count": null,
   "id": "b5002e31",
   "metadata": {},
   "outputs": [],
   "source": []
  },
  {
   "cell_type": "code",
   "execution_count": 60,
   "id": "65ba7f81",
   "metadata": {},
   "outputs": [
    {
     "name": "stdout",
     "output_type": "stream",
     "text": [
      "banana 6 4\n",
      "orange 32 1.5\n",
      "apple 0 2\n"
     ]
    }
   ],
   "source": [
    "for product in shopping_cart:\n",
    "    \n",
    "    print(product, stock[product] , prices[product])"
   ]
  },
  {
   "cell_type": "code",
   "execution_count": null,
   "id": "b930630a",
   "metadata": {},
   "outputs": [],
   "source": []
  },
  {
   "cell_type": "code",
   "execution_count": 61,
   "id": "f393d6d1",
   "metadata": {},
   "outputs": [
    {
     "name": "stdout",
     "output_type": "stream",
     "text": [
      "finall bill  5.5\n"
     ]
    }
   ],
   "source": [
    "total=0\n",
    "\n",
    "for product in shopping_cart:\n",
    "\n",
    "    if stock[product]>0:\n",
    "        \n",
    "        total = total + prices[product]\n",
    "        \n",
    "print('finall bill ',total)  "
   ]
  },
  {
   "cell_type": "code",
   "execution_count": null,
   "id": "645bf7a4",
   "metadata": {},
   "outputs": [],
   "source": [
    "Each Element : Name of Pokemon , Type of Pokemon"
   ]
  },
  {
   "cell_type": "code",
   "execution_count": null,
   "id": "7973a464",
   "metadata": {},
   "outputs": [],
   "source": []
  },
  {
   "cell_type": "code",
   "execution_count": null,
   "id": "4f917b1d",
   "metadata": {},
   "outputs": [],
   "source": []
  },
  {
   "cell_type": "code",
   "execution_count": null,
   "id": "e2c0b15d",
   "metadata": {},
   "outputs": [],
   "source": []
  },
  {
   "cell_type": "markdown",
   "id": "c1405e96",
   "metadata": {},
   "source": [
    "## 🚨 Activity 8\n",
    "<hr/>\n",
    "\n",
    "Targets:  Duplicate Data Handling\n",
    "    \n",
    "    \n",
    "pokemonsData=['Bulbasaur,Grass\\n',\n",
    " 'Ivysaur,Grass\\n',\n",
    " 'Venusaur,Grass\\n',\n",
    " 'Charmander,Fire\\n',\n",
    " 'Charmeleon,Fire\\n',\n",
    " 'Charizard,Fire\\n',\n",
    " 'Squirtle,Water\\n',\n",
    " 'Wartortle,Water\\n',\n",
    " 'Blastoise,Water\\n',\n",
    " 'Caterpie,Bug\\n',\n",
    " 'Metapod,Bug\\n',\n",
    " 'Butterfree,Bug\\n',\n",
    " 'Weedle,Bug\\n',\n",
    " 'Kakuna,Bug\\n',\n",
    " 'Beedrill,Bug\\n',\n",
    " 'Pidgey,Normal\\n',\n",
    " 'Pidgeotto,Normal\\n',\n",
    " 'Pidgeot,Normal\\n',\n",
    " 'Rattata,Normal\\n',\n",
    " 'Raticate,Normal\\n',\n",
    " 'Spearow,Normal\\n',\n",
    " 'Fearow,Normal\\n',\n",
    " 'Ekans,Poison\\n',\n",
    " 'Arbok,Poison\\n',\n",
    " 'Pikachu,Electric\\n',\n",
    " 'Raichu,Electric\\n',\n",
    " 'Sandshrew,Ground\\n',\n",
    " 'Sandslash,Ground\\n',\n",
    " 'Nidoran,Poison\\n',\n",
    " 'Nidorina,Poison\\n',\n",
    " 'Nidoqueen,Poison\\n',\n",
    " 'Nidoran♂,Poison\\n',\n",
    " 'Nidorino,Poison\\n',\n",
    " 'Nidoking,Poison\\n',\n",
    " 'Clefairy,Fairy\\n',\n",
    " 'Clefable,Fairy\\n',\n",
    " 'Vulpix,Fire\\n',\n",
    " 'Ninetales,Fire\\n',\n",
    " 'Jigglypuff,Normal\\n',\n",
    " 'Wigglytuff,Normal\\n',\n",
    " 'Zubat,Poison\\n',\n",
    " 'Golbat,Poison\\n',\n",
    " 'Oddish,Grass\\n',\n",
    " 'Gloom,Grass\\n',\n",
    " 'Vileplume,Grass\\n',\n",
    " 'Paras,Bug\\n',\n",
    " 'Parasect,Bug\\n',\n",
    " 'Venonat,Bug\\n',\n",
    " 'Venomoth,Bug\\n',\n",
    " 'Diglett,Ground\\n',\n",
    " 'Dugtrio,Ground\\n',\n",
    " 'Meowth,Normal\\n',\n",
    " 'Persian,Normal\\n',\n",
    " 'Psyduck,Water\\n',\n",
    " 'Golduck,Water\\n',\n",
    " 'Mankey,Fighting\\n',\n",
    " 'Primeape,Fighting\\n',\n",
    " 'Growlithe,Fire\\n',\n",
    " 'Arcanine,Fire\\n']\n",
    "\n",
    "\n",
    "Objective: is to prepare Details of Unique Pokemon Types Available.\n",
    "    \n",
    "Expected Output:\n",
    "    \n",
    "(approx)\n",
    "\n",
    "['Grass',\n",
    " 'Fire',\n",
    " 'Water',\n",
    " 'Bug',\n",
    " 'Normal',\n",
    " 'Poison',\n",
    " 'Electric',\n",
    " 'Ground',\n",
    " 'Fairy',\n",
    " 'Fighting',\n",
    " 'Psychic',\n",
    " 'Rock',\n",
    " 'Ghost',\n",
    " 'Ice',\n",
    " 'Dragon',\n",
    " 'Dark',\n",
    " 'Steel',\n",
    " 'Flying']"
   ]
  },
  {
   "cell_type": "code",
   "execution_count": null,
   "id": "441a2cce",
   "metadata": {},
   "outputs": [],
   "source": []
  },
  {
   "cell_type": "code",
   "execution_count": 69,
   "id": "ae243f57",
   "metadata": {},
   "outputs": [],
   "source": [
    "pokemonsData=['Bulbasaur,Grass\\n', 'Ivysaur,Grass\\n', 'Venusaur,Grass\\n', 'Charmander,Fire\\n', 'Charmeleon,Fire\\n', 'Charizard,Fire\\n', 'Squirtle,Water\\n', 'Wartortle,Water\\n', 'Blastoise,Water\\n', 'Caterpie,Bug\\n', 'Metapod,Bug\\n', 'Butterfree,Bug\\n', 'Weedle,Bug\\n', 'Kakuna,Bug\\n', 'Beedrill,Bug\\n', 'Pidgey,Normal\\n', 'Pidgeotto,Normal\\n', 'Pidgeot,Normal\\n', 'Rattata,Normal\\n', 'Raticate,Normal\\n', 'Spearow,Normal\\n', 'Fearow,Normal\\n', 'Ekans,Poison\\n', 'Arbok,Poison\\n', 'Pikachu,Electric\\n', 'Raichu,Electric\\n', 'Sandshrew,Ground\\n', 'Sandslash,Ground\\n', 'Nidoran,Poison\\n', 'Nidorina,Poison\\n', 'Nidoqueen,Poison\\n', 'Nidoran♂,Poison\\n', 'Nidorino,Poison\\n', 'Nidoking,Poison\\n', 'Clefairy,Fairy\\n', 'Clefable,Fairy\\n', 'Vulpix,Fire\\n', 'Ninetales,Fire\\n', 'Jigglypuff,Normal\\n', 'Wigglytuff,Normal\\n', 'Zubat,Poison\\n', 'Golbat,Poison\\n', 'Oddish,Grass\\n', 'Gloom,Grass\\n', 'Vileplume,Grass\\n', 'Paras,Bug\\n', 'Parasect,Bug\\n', 'Venonat,Bug\\n', 'Venomoth,Bug\\n', 'Diglett,Ground\\n', 'Dugtrio,Ground\\n', 'Meowth,Normal\\n', 'Persian,Normal\\n', 'Psyduck,Water\\n', 'Golduck,Water\\n', 'Mankey,Fighting\\n', 'Primeape,Fighting\\n', 'Growlithe,Fire\\n', 'Arcanine,Fire\\n']"
   ]
  },
  {
   "cell_type": "code",
   "execution_count": 70,
   "id": "90d362a6",
   "metadata": {},
   "outputs": [
    {
     "data": {
      "text/plain": [
       "['Bulbasaur,Grass\\n',\n",
       " 'Ivysaur,Grass\\n',\n",
       " 'Venusaur,Grass\\n',\n",
       " 'Charmander,Fire\\n',\n",
       " 'Charmeleon,Fire\\n']"
      ]
     },
     "execution_count": 70,
     "metadata": {},
     "output_type": "execute_result"
    }
   ],
   "source": [
    "pokemonsData[:5]"
   ]
  },
  {
   "cell_type": "code",
   "execution_count": null,
   "id": "35f5ab19",
   "metadata": {},
   "outputs": [],
   "source": []
  },
  {
   "cell_type": "code",
   "execution_count": 76,
   "id": "b274fd38",
   "metadata": {},
   "outputs": [
    {
     "name": "stdout",
     "output_type": "stream",
     "text": [
      "{'Poison', 'Electric', 'Fire', 'Fairy', 'Water', 'Ground', 'Normal', 'Fighting', 'Bug', 'Grass'}\n"
     ]
    }
   ],
   "source": [
    "pSet =set()\n",
    "\n",
    "for pok in pokemonsData:\n",
    "    \n",
    "    ptype =pok.split(',')[1].strip()\n",
    "    \n",
    "    pSet.add(ptype)\n",
    "    \n",
    "print(pSet)"
   ]
  },
  {
   "cell_type": "code",
   "execution_count": null,
   "id": "fa1040eb",
   "metadata": {},
   "outputs": [],
   "source": []
  },
  {
   "cell_type": "markdown",
   "id": "dfb61a41",
   "metadata": {},
   "source": [
    "## 🚨 Activity 9:\n",
    "<hr/>\n",
    "<pre>\n",
    "\n",
    "Targets: Dictionary\n",
    "    \n",
    "using pokemonData (list) prepare a Dictionary where \n",
    "\n",
    "Key : pokemonType\n",
    "    \n",
    "value : frequency of PokemonType\n",
    "    \n",
    "eg.\n",
    "\n",
    "    {'Poison':18, 'Electric':12,'Fire':9.....}"
   ]
  },
  {
   "cell_type": "code",
   "execution_count": null,
   "id": "4d7fda27",
   "metadata": {},
   "outputs": [],
   "source": []
  },
  {
   "cell_type": "code",
   "execution_count": 79,
   "id": "045621eb",
   "metadata": {},
   "outputs": [
    {
     "name": "stdout",
     "output_type": "stream",
     "text": [
      "{'Grass': 6, 'Fire': 7, 'Water': 5, 'Bug': 10, 'Normal': 11, 'Poison': 10, 'Electric': 2, 'Ground': 4, 'Fairy': 2, 'Fighting': 2}\n"
     ]
    }
   ],
   "source": [
    "\n",
    "stats={}\n",
    "\n",
    "\n",
    "for pok in pokemonsData: # only 1once.\n",
    "    \n",
    "    ptype =pok.split(',')[1].strip()\n",
    "    \n",
    "    if ptype not in stats : # this means dictionary doesnt have the current ptype as KEY.\n",
    "        \n",
    "        stats[ptype]=1 # i added the ptype with value 1\n",
    "        \n",
    "    else:\n",
    "        \n",
    "        # here else means the pokemonType is already Present in Dictionary.\n",
    "        \n",
    "        stats[ptype]= stats[ptype] + 1 # fetch old Value , increment it by 1\n",
    "        \n",
    "        # then update the pokemon Type\n",
    "        \n",
    "print(stats)"
   ]
  },
  {
   "cell_type": "code",
   "execution_count": null,
   "id": "9abd4a44",
   "metadata": {},
   "outputs": [],
   "source": [
    ".count() will traverse the entire dataset i.e list internally for each pokemonType."
   ]
  }
 ],
 "metadata": {
  "kernelspec": {
   "display_name": "Python 3",
   "language": "python",
   "name": "python3"
  },
  "language_info": {
   "codemirror_mode": {
    "name": "ipython",
    "version": 3
   },
   "file_extension": ".py",
   "mimetype": "text/x-python",
   "name": "python",
   "nbconvert_exporter": "python",
   "pygments_lexer": "ipython3",
   "version": "3.8.8"
  }
 },
 "nbformat": 4,
 "nbformat_minor": 5
}
