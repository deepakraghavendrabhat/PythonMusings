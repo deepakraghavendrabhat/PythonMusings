{
 "cells": [
  {
   "cell_type": "markdown",
   "id": "22903ec9",
   "metadata": {},
   "source": [
    "## 🚨 Activity 1:\n",
    "<hr/>\n",
    "\n",
    "Target: String Handling\n",
    "    \n",
    "    \n",
    "Write a program that finds the Happiness Score ?\n",
    "\n",
    "to find happiness score accept name from user and find the sum of \n",
    "ascii code of each character.\n",
    "\n"
   ]
  },
  {
   "cell_type": "code",
   "execution_count": null,
   "id": "af457d9b",
   "metadata": {},
   "outputs": [],
   "source": [
    "ord('a')"
   ]
  },
  {
   "cell_type": "code",
   "execution_count": null,
   "id": "0ac77342",
   "metadata": {},
   "outputs": [],
   "source": [
    "sample='rockstar'"
   ]
  },
  {
   "cell_type": "code",
   "execution_count": null,
   "id": "d17e095c",
   "metadata": {},
   "outputs": [],
   "source": [
    "total=0\n",
    "\n",
    "for char in sample:\n",
    "    \n",
    "    print(char,'       ',ord(char))\n",
    "    \n",
    "    total = total + ord(char)"
   ]
  },
  {
   "cell_type": "code",
   "execution_count": null,
   "id": "7aacea41",
   "metadata": {},
   "outputs": [],
   "source": [
    "print('Happiness Score ', total)"
   ]
  },
  {
   "cell_type": "code",
   "execution_count": null,
   "id": "c38e68fa",
   "metadata": {},
   "outputs": [],
   "source": []
  },
  {
   "cell_type": "markdown",
   "id": "ca3535ed",
   "metadata": {},
   "source": [
    "## 🚨 Activity 2\n",
    "<hr/>\n",
    "\n",
    "Targets: String Manipulation\n",
    "    \n",
    "Simulating Twitter 🐦 \n",
    "\n",
    "tweet=\"Dear #problem, my #God is #bigger then you\"\n",
    "\n",
    "Objective: to extract hashTags.\n",
    "\n",
    "expected output:\n",
    "    \n",
    "    #problem,\n",
    "    #God\n",
    "    #bigger"
   ]
  },
  {
   "cell_type": "code",
   "execution_count": null,
   "id": "bce52c23",
   "metadata": {},
   "outputs": [],
   "source": []
  },
  {
   "cell_type": "code",
   "execution_count": null,
   "id": "b14fdf97",
   "metadata": {},
   "outputs": [],
   "source": [
    "tweet=\"Dear #problem, my #God is #bigger then you\""
   ]
  },
  {
   "cell_type": "code",
   "execution_count": null,
   "id": "a67d1abe",
   "metadata": {},
   "outputs": [],
   "source": []
  },
  {
   "cell_type": "code",
   "execution_count": null,
   "id": "82daebc0",
   "metadata": {},
   "outputs": [],
   "source": []
  },
  {
   "cell_type": "code",
   "execution_count": null,
   "id": "2f51e333",
   "metadata": {},
   "outputs": [],
   "source": []
  },
  {
   "cell_type": "code",
   "execution_count": null,
   "id": "117067de",
   "metadata": {},
   "outputs": [],
   "source": []
  },
  {
   "cell_type": "code",
   "execution_count": null,
   "id": "d16ecc08",
   "metadata": {},
   "outputs": [],
   "source": [
    "twlist = tweet.split()\n",
    "\n",
    "twlist"
   ]
  },
  {
   "cell_type": "code",
   "execution_count": null,
   "id": "23a9d35e",
   "metadata": {},
   "outputs": [],
   "source": []
  },
  {
   "cell_type": "code",
   "execution_count": null,
   "id": "a36cacdf",
   "metadata": {},
   "outputs": [],
   "source": [
    "for word in twlist:\n",
    "    \n",
    "    print(word,'      ',word.startswith('#'))"
   ]
  },
  {
   "cell_type": "code",
   "execution_count": null,
   "id": "c4f13228",
   "metadata": {},
   "outputs": [],
   "source": []
  },
  {
   "cell_type": "code",
   "execution_count": null,
   "id": "8207b65e",
   "metadata": {},
   "outputs": [],
   "source": [
    "for word in twlist:\n",
    "    \n",
    "    if word.startswith('#'):\n",
    "        \n",
    "        print(word)"
   ]
  },
  {
   "cell_type": "code",
   "execution_count": null,
   "id": "fdbe6dea",
   "metadata": {},
   "outputs": [],
   "source": []
  },
  {
   "cell_type": "code",
   "execution_count": null,
   "id": "b4a6f12c",
   "metadata": {},
   "outputs": [],
   "source": [
    "for word in twlist:\n",
    "    \n",
    "    if word[0] == '#':\n",
    "        \n",
    "        print(word)"
   ]
  },
  {
   "cell_type": "code",
   "execution_count": null,
   "id": "ffb6d1be",
   "metadata": {},
   "outputs": [],
   "source": []
  },
  {
   "cell_type": "code",
   "execution_count": null,
   "id": "849f7a94",
   "metadata": {},
   "outputs": [],
   "source": [
    "# demo : .isdigit()"
   ]
  },
  {
   "cell_type": "code",
   "execution_count": null,
   "id": "e7d09a2f",
   "metadata": {},
   "outputs": [],
   "source": [
    "lottery=\"726\""
   ]
  },
  {
   "cell_type": "code",
   "execution_count": null,
   "id": "f1949758",
   "metadata": {},
   "outputs": [],
   "source": [
    "lottery.isdigit()"
   ]
  },
  {
   "cell_type": "code",
   "execution_count": null,
   "id": "2542131f",
   "metadata": {},
   "outputs": [],
   "source": []
  },
  {
   "cell_type": "code",
   "execution_count": null,
   "id": "26a22d18",
   "metadata": {},
   "outputs": [],
   "source": [
    "lottery=\"7 26\""
   ]
  },
  {
   "cell_type": "code",
   "execution_count": null,
   "id": "5937fa41",
   "metadata": {},
   "outputs": [],
   "source": [
    "lottery.isdigit()"
   ]
  },
  {
   "cell_type": "code",
   "execution_count": null,
   "id": "e5aab136",
   "metadata": {},
   "outputs": [],
   "source": []
  },
  {
   "cell_type": "code",
   "execution_count": null,
   "id": "c9c4c5f9",
   "metadata": {},
   "outputs": [],
   "source": []
  },
  {
   "cell_type": "code",
   "execution_count": null,
   "id": "75395792",
   "metadata": {},
   "outputs": [],
   "source": []
  },
  {
   "cell_type": "markdown",
   "id": "7f3bf6eb",
   "metadata": {},
   "source": [
    "## 🚨 Activity 3\n",
    "<hr/>\n",
    "Targets: String Manipulation\n",
    "    \n",
    "metaBusiness = \"Facebook 114 Instagram 180 wApp 140\"\n",
    "\n",
    "Objective : \n",
    "    \n",
    "        1.1 Total Revenue\n",
    "        1.2 Avg   Revenue\n",
    "        \n",
    "  "
   ]
  },
  {
   "cell_type": "code",
   "execution_count": null,
   "id": "99457dce",
   "metadata": {},
   "outputs": [],
   "source": [
    "metaBusiness = \"Facebook 114 Instagram 180 wApp 140\""
   ]
  },
  {
   "cell_type": "code",
   "execution_count": null,
   "id": "eb54b21e",
   "metadata": {},
   "outputs": [],
   "source": [
    "metaList = metaBusiness.split()\n",
    "\n",
    "metaList"
   ]
  },
  {
   "cell_type": "code",
   "execution_count": null,
   "id": "26ed0005",
   "metadata": {},
   "outputs": [],
   "source": []
  },
  {
   "cell_type": "code",
   "execution_count": null,
   "id": "5403ac8d",
   "metadata": {},
   "outputs": [],
   "source": [
    "revenue =[]\n",
    "\n",
    "for word in metaList:\n",
    "    \n",
    "    if word.isdigit():\n",
    "        \n",
    "        revenue.append(int(word))\n",
    "        \n",
    "print(revenue)"
   ]
  },
  {
   "cell_type": "code",
   "execution_count": null,
   "id": "42692aae",
   "metadata": {},
   "outputs": [],
   "source": [
    "print('Total Revenue ', sum(revenue))"
   ]
  },
  {
   "cell_type": "code",
   "execution_count": null,
   "id": "66fa3d83",
   "metadata": {},
   "outputs": [],
   "source": [
    "print('Average ',       sum(revenue) /   len(revenue))"
   ]
  },
  {
   "cell_type": "code",
   "execution_count": null,
   "id": "ac6d7550",
   "metadata": {},
   "outputs": [],
   "source": []
  },
  {
   "cell_type": "code",
   "execution_count": null,
   "id": "316090f6",
   "metadata": {},
   "outputs": [],
   "source": []
  },
  {
   "cell_type": "markdown",
   "id": "a4bb8c94",
   "metadata": {},
   "source": [
    "## 🚨 Activity 4\n",
    "<hr/>\n",
    "<pre>\n",
    "\n",
    "Targets: String Manipulation\n",
    "    \n",
    "\n",
    "scientists=\"William Gilbert,Arnold Orville Beckman,Joseph Henry,Grace Murray Hopper\"\n",
    "\n",
    "\n",
    "you are asked to send invitation for nobel physics award event to the above\n",
    "scientists.\n",
    "\n",
    "please prepare the Invitation in the Below Format :\n",
    "    \n",
    "    \n",
    "    Dear Mr. Gilbert.W\n",
    "    Dear Mr. Beckman.A\n",
    "    Dear Mr. Henry.J\n",
    "    Dear Mr. Hopper.G\n"
   ]
  },
  {
   "cell_type": "code",
   "execution_count": null,
   "id": "525e2776",
   "metadata": {},
   "outputs": [],
   "source": []
  },
  {
   "cell_type": "code",
   "execution_count": null,
   "id": "122171c8",
   "metadata": {},
   "outputs": [],
   "source": [
    "scientists=\"William Gilbert,Arnold Orville Beckman,Joseph Henry,Grace Murray Hopper\""
   ]
  },
  {
   "cell_type": "code",
   "execution_count": null,
   "id": "74661504",
   "metadata": {},
   "outputs": [],
   "source": [
    "slist =   scientists.split(',')\n",
    "\n",
    "slist"
   ]
  },
  {
   "cell_type": "code",
   "execution_count": null,
   "id": "9e65224e",
   "metadata": {},
   "outputs": [],
   "source": []
  },
  {
   "cell_type": "code",
   "execution_count": null,
   "id": "aa91c22d",
   "metadata": {},
   "outputs": [],
   "source": [
    "for name in slist:\n",
    "    \n",
    "    print(name) # i see in name space is a sep. between first and last Name."
   ]
  },
  {
   "cell_type": "code",
   "execution_count": null,
   "id": "acc5b6cb",
   "metadata": {},
   "outputs": [],
   "source": []
  },
  {
   "cell_type": "code",
   "execution_count": null,
   "id": "926a5690",
   "metadata": {},
   "outputs": [],
   "source": [
    "for name in slist:\n",
    "    \n",
    "    print(name.split())"
   ]
  },
  {
   "cell_type": "code",
   "execution_count": null,
   "id": "9d2ef870",
   "metadata": {},
   "outputs": [],
   "source": [
    "# in each List [-1] targets Last Name.\n",
    "\n",
    "# in name variable eg. 'William Gilbert' name[0] represents firstName firstCharacter i.e 'W'."
   ]
  },
  {
   "cell_type": "code",
   "execution_count": null,
   "id": "bea7f87e",
   "metadata": {},
   "outputs": [],
   "source": []
  },
  {
   "cell_type": "code",
   "execution_count": null,
   "id": "6fc3039d",
   "metadata": {},
   "outputs": [],
   "source": [
    "for name in slist:\n",
    "    \n",
    "    print(name.split()[-1],'    ', name[0])"
   ]
  },
  {
   "cell_type": "code",
   "execution_count": null,
   "id": "2f0d4547",
   "metadata": {},
   "outputs": [],
   "source": []
  },
  {
   "cell_type": "code",
   "execution_count": null,
   "id": "6eaa89e9",
   "metadata": {},
   "outputs": [],
   "source": [
    "\n",
    "scientists=\"William Gilbert,Arnold Orville Beckman,Joseph Henry,Grace Murray Hopper\"\n",
    "\n",
    "\n",
    "slist =   scientists.split(',')\n",
    "\n",
    "\n",
    "for name in slist:\n",
    "    \n",
    "    print(f'Dear Mr. {name.split()[-1]}.{name[0]}')"
   ]
  },
  {
   "cell_type": "code",
   "execution_count": null,
   "id": "fa8ff263",
   "metadata": {},
   "outputs": [],
   "source": []
  },
  {
   "cell_type": "markdown",
   "id": "05a1d045",
   "metadata": {},
   "source": [
    "## 🚨 Activity 5\n",
    "<hr/>\n",
    "\n",
    "<pre>\n",
    "\n",
    "Targets: List Indexing\n",
    "    \n",
    "\n",
    "sampleList=['hello','welcome',[10,20],['A','B','C',[30,40,50,['findme']]],60,70]\n",
    "\n",
    "\n",
    "Objective: to extract 'findme' as String using Indexing.\n",
    "    \n",
    "    "
   ]
  },
  {
   "cell_type": "code",
   "execution_count": null,
   "id": "52d36824",
   "metadata": {},
   "outputs": [],
   "source": [
    "sampleList=['hello','welcome',[10,20],['A','B','C',[30,40,50,['findme']]],60,70]\n"
   ]
  },
  {
   "cell_type": "code",
   "execution_count": null,
   "id": "733e5641",
   "metadata": {},
   "outputs": [],
   "source": [
    "sampleList"
   ]
  },
  {
   "cell_type": "code",
   "execution_count": null,
   "id": "4f99cf7c",
   "metadata": {},
   "outputs": [],
   "source": [
    "sampleList[3]"
   ]
  },
  {
   "cell_type": "code",
   "execution_count": null,
   "id": "25d3f50a",
   "metadata": {},
   "outputs": [],
   "source": [
    "sampleList[3][-1]"
   ]
  },
  {
   "cell_type": "code",
   "execution_count": null,
   "id": "3c7285b4",
   "metadata": {},
   "outputs": [],
   "source": [
    "sampleList[3][-1][-1]"
   ]
  },
  {
   "cell_type": "code",
   "execution_count": null,
   "id": "7c961e2e",
   "metadata": {},
   "outputs": [],
   "source": [
    "sampleList[3][-1][-1][0]"
   ]
  },
  {
   "cell_type": "code",
   "execution_count": null,
   "id": "7ed90977",
   "metadata": {},
   "outputs": [],
   "source": []
  },
  {
   "cell_type": "code",
   "execution_count": null,
   "id": "4fda9ae3",
   "metadata": {},
   "outputs": [],
   "source": []
  },
  {
   "cell_type": "markdown",
   "id": "59850e9e",
   "metadata": {},
   "source": [
    "## 🚨 Activity 6:\n",
    "<hr/>\n",
    "\n",
    "<pre>\n",
    "\n",
    "Targets: Dictionary\n",
    "    \n",
    "    \n",
    "my_dict={\n",
    "    'FL':['Alabama','Florida','Alaska',{'Hi':['Hawai','Inception',{'lock':['find','the','key']}]}]\n",
    "}\n",
    "\n",
    "\n",
    "Object is to extract 'Key' from the Above Dictionary."
   ]
  },
  {
   "cell_type": "code",
   "execution_count": null,
   "id": "558ee4ac",
   "metadata": {},
   "outputs": [],
   "source": [
    "my_dict={\n",
    "    'FL':['Alabama','Florida','Alaska',{'Hi':['Hawai','Inception',{'lock':['find','the','key']}]}]\n",
    "}"
   ]
  },
  {
   "cell_type": "code",
   "execution_count": null,
   "id": "6a6a260d",
   "metadata": {},
   "outputs": [],
   "source": [
    "my_dict"
   ]
  },
  {
   "cell_type": "code",
   "execution_count": null,
   "id": "a26424b2",
   "metadata": {},
   "outputs": [],
   "source": [
    "my_dict['FL']"
   ]
  },
  {
   "cell_type": "code",
   "execution_count": null,
   "id": "29d7d310",
   "metadata": {},
   "outputs": [],
   "source": [
    "my_dict['FL'][-1]"
   ]
  },
  {
   "cell_type": "code",
   "execution_count": null,
   "id": "8176e1b2",
   "metadata": {},
   "outputs": [],
   "source": [
    "my_dict['FL'][-1]['Hi']"
   ]
  },
  {
   "cell_type": "code",
   "execution_count": null,
   "id": "d403c3d3",
   "metadata": {},
   "outputs": [],
   "source": [
    "my_dict['FL'][-1]['Hi'][-1]"
   ]
  },
  {
   "cell_type": "code",
   "execution_count": null,
   "id": "39aeed8d",
   "metadata": {},
   "outputs": [],
   "source": [
    "my_dict['FL'][-1]['Hi'][-1]['lock']"
   ]
  },
  {
   "cell_type": "code",
   "execution_count": null,
   "id": "1cc95c4a",
   "metadata": {},
   "outputs": [],
   "source": [
    "my_dict['FL'][-1]['Hi'][-1]['lock'][-1] # done."
   ]
  },
  {
   "cell_type": "code",
   "execution_count": null,
   "id": "34638e19",
   "metadata": {},
   "outputs": [],
   "source": []
  },
  {
   "cell_type": "markdown",
   "id": "2f320549",
   "metadata": {},
   "source": [
    "##  🚨 Activity 7\n",
    "<hr/>\n",
    "<pre>\n",
    "Targets: Dictionary\n",
    "    \n",
    "    \n",
    "Simulating Billing Counter\n",
    "\n",
    "\n",
    "shopping_cart=['banana','orange','apple'] # here the assumption is the qty is 1\n",
    "\n",
    "\n",
    "stock={\n",
    "    'banana':6,\n",
    "    'apple':0,\n",
    "    'orange':32,\n",
    "    'pear':15\n",
    "}\n",
    "\n",
    "prices={\n",
    "    'banana':4,\n",
    "    'apple':2,\n",
    "    'orange':1.5,\n",
    "    'pear':3\n",
    "}\n",
    "\n",
    "Objective : find the Total Amount to Pay as per the Products Selected in Shopping_Cart."
   ]
  },
  {
   "cell_type": "code",
   "execution_count": null,
   "id": "0153301b",
   "metadata": {},
   "outputs": [],
   "source": [
    "shopping_cart=['banana','orange','apple'] # here the assumption is the qty is 1\n",
    "\n",
    "stock={\n",
    "    'banana':6,\n",
    "    'apple':0,\n",
    "    'orange':32,\n",
    "    'pear':15\n",
    "}\n",
    "\n",
    "prices={\n",
    "    'banana':4,\n",
    "    'apple':2,\n",
    "    'orange':1.5,\n",
    "    'pear':3\n",
    "}"
   ]
  },
  {
   "cell_type": "code",
   "execution_count": null,
   "id": "b5002e31",
   "metadata": {},
   "outputs": [],
   "source": []
  },
  {
   "cell_type": "code",
   "execution_count": null,
   "id": "65ba7f81",
   "metadata": {},
   "outputs": [],
   "source": [
    "for product in shopping_cart:\n",
    "    \n",
    "    print(product, stock[product] , prices[product])"
   ]
  },
  {
   "cell_type": "code",
   "execution_count": null,
   "id": "b930630a",
   "metadata": {},
   "outputs": [],
   "source": []
  },
  {
   "cell_type": "code",
   "execution_count": null,
   "id": "f393d6d1",
   "metadata": {},
   "outputs": [],
   "source": [
    "total=0\n",
    "\n",
    "for product in shopping_cart:\n",
    "\n",
    "    if stock[product]>0:\n",
    "        \n",
    "        total = total + prices[product]\n",
    "        \n",
    "print('finall bill ',total)  "
   ]
  },
  {
   "cell_type": "code",
   "execution_count": null,
   "id": "645bf7a4",
   "metadata": {},
   "outputs": [],
   "source": [
    "Each Element : Name of Pokemon , Type of Pokemon"
   ]
  },
  {
   "cell_type": "code",
   "execution_count": null,
   "id": "7973a464",
   "metadata": {},
   "outputs": [],
   "source": []
  },
  {
   "cell_type": "code",
   "execution_count": null,
   "id": "4f917b1d",
   "metadata": {},
   "outputs": [],
   "source": []
  },
  {
   "cell_type": "code",
   "execution_count": null,
   "id": "e2c0b15d",
   "metadata": {},
   "outputs": [],
   "source": []
  },
  {
   "cell_type": "markdown",
   "id": "c1405e96",
   "metadata": {},
   "source": [
    "## 🚨 Activity 8\n",
    "<hr/>\n",
    "\n",
    "Targets:  Duplicate Data Handling\n",
    "    \n",
    "    \n",
    "pokemonsData=['Bulbasaur,Grass\\n',\n",
    " 'Ivysaur,Grass\\n',\n",
    " 'Venusaur,Grass\\n',\n",
    " 'Charmander,Fire\\n',\n",
    " 'Charmeleon,Fire\\n',\n",
    " 'Charizard,Fire\\n',\n",
    " 'Squirtle,Water\\n',\n",
    " 'Wartortle,Water\\n',\n",
    " 'Blastoise,Water\\n',\n",
    " 'Caterpie,Bug\\n',\n",
    " 'Metapod,Bug\\n',\n",
    " 'Butterfree,Bug\\n',\n",
    " 'Weedle,Bug\\n',\n",
    " 'Kakuna,Bug\\n',\n",
    " 'Beedrill,Bug\\n',\n",
    " 'Pidgey,Normal\\n',\n",
    " 'Pidgeotto,Normal\\n',\n",
    " 'Pidgeot,Normal\\n',\n",
    " 'Rattata,Normal\\n',\n",
    " 'Raticate,Normal\\n',\n",
    " 'Spearow,Normal\\n',\n",
    " 'Fearow,Normal\\n',\n",
    " 'Ekans,Poison\\n',\n",
    " 'Arbok,Poison\\n',\n",
    " 'Pikachu,Electric\\n',\n",
    " 'Raichu,Electric\\n',\n",
    " 'Sandshrew,Ground\\n',\n",
    " 'Sandslash,Ground\\n',\n",
    " 'Nidoran,Poison\\n',\n",
    " 'Nidorina,Poison\\n',\n",
    " 'Nidoqueen,Poison\\n',\n",
    " 'Nidoran♂,Poison\\n',\n",
    " 'Nidorino,Poison\\n',\n",
    " 'Nidoking,Poison\\n',\n",
    " 'Clefairy,Fairy\\n',\n",
    " 'Clefable,Fairy\\n',\n",
    " 'Vulpix,Fire\\n',\n",
    " 'Ninetales,Fire\\n',\n",
    " 'Jigglypuff,Normal\\n',\n",
    " 'Wigglytuff,Normal\\n',\n",
    " 'Zubat,Poison\\n',\n",
    " 'Golbat,Poison\\n',\n",
    " 'Oddish,Grass\\n',\n",
    " 'Gloom,Grass\\n',\n",
    " 'Vileplume,Grass\\n',\n",
    " 'Paras,Bug\\n',\n",
    " 'Parasect,Bug\\n',\n",
    " 'Venonat,Bug\\n',\n",
    " 'Venomoth,Bug\\n',\n",
    " 'Diglett,Ground\\n',\n",
    " 'Dugtrio,Ground\\n',\n",
    " 'Meowth,Normal\\n',\n",
    " 'Persian,Normal\\n',\n",
    " 'Psyduck,Water\\n',\n",
    " 'Golduck,Water\\n',\n",
    " 'Mankey,Fighting\\n',\n",
    " 'Primeape,Fighting\\n',\n",
    " 'Growlithe,Fire\\n',\n",
    " 'Arcanine,Fire\\n']\n",
    "\n",
    "\n",
    "Objective: is to prepare Details of Unique Pokemon Types Available.\n",
    "    \n",
    "Expected Output:\n",
    "    \n",
    "(approx)\n",
    "\n",
    "['Grass',\n",
    " 'Fire',\n",
    " 'Water',\n",
    " 'Bug',\n",
    " 'Normal',\n",
    " 'Poison',\n",
    " 'Electric',\n",
    " 'Ground',\n",
    " 'Fairy',\n",
    " 'Fighting',\n",
    " 'Psychic',\n",
    " 'Rock',\n",
    " 'Ghost',\n",
    " 'Ice',\n",
    " 'Dragon',\n",
    " 'Dark',\n",
    " 'Steel',\n",
    " 'Flying']"
   ]
  },
  {
   "cell_type": "code",
   "execution_count": null,
   "id": "441a2cce",
   "metadata": {},
   "outputs": [],
   "source": []
  },
  {
   "cell_type": "code",
   "execution_count": null,
   "id": "ae243f57",
   "metadata": {},
   "outputs": [],
   "source": [
    "pokemonsData=['Bulbasaur,Grass\\n', 'Ivysaur,Grass\\n', 'Venusaur,Grass\\n', 'Charmander,Fire\\n', 'Charmeleon,Fire\\n', 'Charizard,Fire\\n', 'Squirtle,Water\\n', 'Wartortle,Water\\n', 'Blastoise,Water\\n', 'Caterpie,Bug\\n', 'Metapod,Bug\\n', 'Butterfree,Bug\\n', 'Weedle,Bug\\n', 'Kakuna,Bug\\n', 'Beedrill,Bug\\n', 'Pidgey,Normal\\n', 'Pidgeotto,Normal\\n', 'Pidgeot,Normal\\n', 'Rattata,Normal\\n', 'Raticate,Normal\\n', 'Spearow,Normal\\n', 'Fearow,Normal\\n', 'Ekans,Poison\\n', 'Arbok,Poison\\n', 'Pikachu,Electric\\n', 'Raichu,Electric\\n', 'Sandshrew,Ground\\n', 'Sandslash,Ground\\n', 'Nidoran,Poison\\n', 'Nidorina,Poison\\n', 'Nidoqueen,Poison\\n', 'Nidoran♂,Poison\\n', 'Nidorino,Poison\\n', 'Nidoking,Poison\\n', 'Clefairy,Fairy\\n', 'Clefable,Fairy\\n', 'Vulpix,Fire\\n', 'Ninetales,Fire\\n', 'Jigglypuff,Normal\\n', 'Wigglytuff,Normal\\n', 'Zubat,Poison\\n', 'Golbat,Poison\\n', 'Oddish,Grass\\n', 'Gloom,Grass\\n', 'Vileplume,Grass\\n', 'Paras,Bug\\n', 'Parasect,Bug\\n', 'Venonat,Bug\\n', 'Venomoth,Bug\\n', 'Diglett,Ground\\n', 'Dugtrio,Ground\\n', 'Meowth,Normal\\n', 'Persian,Normal\\n', 'Psyduck,Water\\n', 'Golduck,Water\\n', 'Mankey,Fighting\\n', 'Primeape,Fighting\\n', 'Growlithe,Fire\\n', 'Arcanine,Fire\\n']"
   ]
  },
  {
   "cell_type": "code",
   "execution_count": null,
   "id": "90d362a6",
   "metadata": {},
   "outputs": [],
   "source": [
    "pokemonsData[:5]"
   ]
  },
  {
   "cell_type": "code",
   "execution_count": null,
   "id": "35f5ab19",
   "metadata": {},
   "outputs": [],
   "source": []
  },
  {
   "cell_type": "code",
   "execution_count": null,
   "id": "b274fd38",
   "metadata": {},
   "outputs": [],
   "source": [
    "pSet =set()\n",
    "\n",
    "for pok in pokemonsData:\n",
    "    \n",
    "    ptype =pok.split(',')[1].strip()\n",
    "    \n",
    "    pSet.add(ptype)\n",
    "    \n",
    "print(pSet)"
   ]
  },
  {
   "cell_type": "code",
   "execution_count": null,
   "id": "fa1040eb",
   "metadata": {},
   "outputs": [],
   "source": []
  },
  {
   "cell_type": "markdown",
   "id": "dfb61a41",
   "metadata": {},
   "source": [
    "## 🚨 Activity 9:\n",
    "<hr/>\n",
    "<pre>\n",
    "\n",
    "Targets: Dictionary\n",
    "    \n",
    "using pokemonData (list) prepare a Dictionary where \n",
    "\n",
    "Key : pokemonType\n",
    "    \n",
    "value : frequency of PokemonType\n",
    "    \n",
    "eg.\n",
    "\n",
    "    {'Poison':18, 'Electric':12,'Fire':9.....}"
   ]
  },
  {
   "cell_type": "code",
   "execution_count": null,
   "id": "4d7fda27",
   "metadata": {},
   "outputs": [],
   "source": []
  },
  {
   "cell_type": "code",
   "execution_count": null,
   "id": "045621eb",
   "metadata": {},
   "outputs": [],
   "source": [
    "\n",
    "stats={}\n",
    "\n",
    "\n",
    "for pok in pokemonsData: # only 1once.\n",
    "    \n",
    "    ptype =pok.split(',')[1].strip()\n",
    "    \n",
    "    if ptype not in stats : # this means dictionary doesnt have the current ptype as KEY.\n",
    "        \n",
    "        stats[ptype]=1 # i added the ptype with value 1\n",
    "        \n",
    "    else:\n",
    "        \n",
    "        # here else means the pokemonType is already Present in Dictionary.\n",
    "        \n",
    "        stats[ptype]= stats[ptype] + 1 # fetch old Value , increment it by 1\n",
    "        \n",
    "        # then update the pokemon Type\n",
    "        \n",
    "print(stats)"
   ]
  },
  {
   "cell_type": "code",
   "execution_count": null,
   "id": "9abd4a44",
   "metadata": {},
   "outputs": [],
   "source": [
    ".count() will traverse the entire dataset i.e list internally for each pokemonType."
   ]
  },
  {
   "cell_type": "code",
   "execution_count": null,
   "id": "be932a2f",
   "metadata": {},
   "outputs": [],
   "source": [
    "input_list = ''.join(map(str,input()))\n",
    "\n",
    "\n",
    "print(input_list)\n",
    "# msg = ' '.join(input_list)\n",
    "print(input_list[0])\n",
    "\n",
    "key = msg[1]\n",
    "print(key)\n",
    "alphabet = 'abcdefghijklmnopqrstuvwxyz'\n",
    "new_msg = \"\"\n",
    "for char in msg:\n",
    "    pos = alphabet.find(char.lower())\n",
    "    newpos = (pos-key) % 26\n",
    "    newchar = alphabet[newpos]\n",
    "    if char.islower():\n",
    "        pass\n",
    "    else:\n",
    "        newchar = newchar.upper()\n",
    "    new_msg+= newchar\n",
    "print(new_msg)"
   ]
  },
  {
   "cell_type": "code",
   "execution_count": null,
   "id": "35dfd216",
   "metadata": {},
   "outputs": [],
   "source": [
    "input_list = ''.join(map(str,input()))\n",
    "\n",
    "\n",
    "print(type(list(input_list)))\n",
    "print(list(input_list))"
   ]
  },
  {
   "cell_type": "code",
   "execution_count": null,
   "id": "40e2dce2",
   "metadata": {},
   "outputs": [],
   "source": [
    "\n",
    "import ast\n",
    "input_list = ast.literal_eval(input())\n",
    "input_list[0]\n",
    "input_list[1]\n"
   ]
  },
  {
   "cell_type": "code",
   "execution_count": null,
   "id": "1f230002",
   "metadata": {},
   "outputs": [],
   "source": [
    "a = 7\n",
    "\n",
    "def func(a):\n",
    "    print('a is', a)\n",
    "    a = 4\n",
    "    print('a is now', a)\n",
    "    \n",
    "func(a)\n",
    "print('a is finally', a)"
   ]
  },
  {
   "cell_type": "code",
   "execution_count": null,
   "id": "6cd17d21",
   "metadata": {},
   "outputs": [],
   "source": [
    "d = {1:2, 2:3, 3:4}\n",
    "d.pop(2)\n",
    "print(d)"
   ]
  },
  {
   "cell_type": "code",
   "execution_count": null,
   "id": "7fdce127",
   "metadata": {},
   "outputs": [],
   "source": [
    "a = {1, 2, 3, 4}\n",
    "b = {3, 4, 5, 6}\n",
    "print(a ^ b)"
   ]
  },
  {
   "cell_type": "code",
   "execution_count": null,
   "id": "76d0c13e",
   "metadata": {},
   "outputs": [],
   "source": [
    "def maxDistance(mylist, n):       \n",
    "    mp = {} \n",
    "\n",
    "    maxDict = 0\n",
    "    for i in range(n): \n",
    "        if mylist[i] not in mp.keys(): \n",
    "            mp[mylist[i]] = i   \n",
    "        else: \n",
    "            maxDict = max(maxDict, i-mp[mylist[i]]) \n",
    "    return maxDict \n",
    "\n",
    "input_list = [1, 2, 3, 2, 5, 1, 2, 4, 6, 2, 7, 8, 6]\n",
    "n = len(input_list) \n",
    "print(maxDistance(input_list, n))"
   ]
  },
  {
   "cell_type": "code",
   "execution_count": null,
   "id": "7174c343",
   "metadata": {},
   "outputs": [],
   "source": [
    "input_list = [1, 2, 3, 2, 5, 1, 2, 4, 6, 2, 7, 8, 6]\n",
    "n = len(input_list)\n",
    "dict_1 = {}\n",
    "dist = 0\n",
    "for i in range(n): \n",
    "    if input_list[i] not in dict_1.keys(): \n",
    "        dict_1[input_list[i]] = i   \n",
    "    else: \n",
    "        dist = max(dist, i-dict_1[input_list[i]]) \n",
    "print(dist) "
   ]
  },
  {
   "cell_type": "code",
   "execution_count": null,
   "id": "9d7e63cd",
   "metadata": {},
   "outputs": [],
   "source": [
    "import ast,sys\n",
    "sides = ast.literal_eval(input_str)#list of side lengths\n",
    "n = len(sides) \n",
    "\n",
    "my_stack = []\n",
    "i = 0\n",
    "\n",
    "while(i < n):\n",
    "    if sides[i] >= sides[n-1]:\n",
    "        my_stack.append(sides[i])\n",
    "        i = i+1\n",
    "    else:\n",
    "        my_stack.append(sides[n-1])\n",
    "        n = n - 1\n",
    "\n",
    "flag = 0\n",
    "i = 1\n",
    "while i < len(my_stack): \n",
    "    if(my_stack[i] > my_stack[i - 1]): \n",
    "        flag = 1\n",
    "    i += 1\n",
    "      \n",
    "\n",
    "if (not flag) : \n",
    "    print (\"Possible\") \n",
    "else : \n",
    "    print (\"Impossible\") "
   ]
  },
  {
   "cell_type": "code",
   "execution_count": null,
   "id": "ee612e45",
   "metadata": {},
   "outputs": [],
   "source": [
    "n=int(input())\n",
    "for i in range(1, n+1):\n",
    "#     for j in range(0, n-i+1):\n",
    "#         print(' ', end='')\n",
    " \n",
    "    # first element is always 1\n",
    "    C = 1\n",
    "    for j in range(1, i+1):\n",
    "        print(list(C))\n",
    "        # first value in a line is always 1\n",
    "#         print(' ', C, sep='', end='')\n",
    "         \n",
    "        # using Binomial Coefficient\n",
    "        C = C * (i - j) // j\n",
    "#     print()"
   ]
  },
  {
   "cell_type": "code",
   "execution_count": null,
   "id": "989dd323",
   "metadata": {},
   "outputs": [],
   "source": [
    "n=int(input())\n",
    "prev = 1\n",
    "out_lixt = [1]\n",
    "# print(prev, end = '')\n",
    "for i in range(1, n):\n",
    "    \n",
    "    curr = (prev * (n - i)) // i\n",
    "    \n",
    "#     print(\",\", curr, end = '')\n",
    "    \n",
    "    prev = curr\n",
    "    out_lixt.append(prev)\n",
    "print(out_lixt)"
   ]
  },
  {
   "cell_type": "code",
   "execution_count": null,
   "id": "18e3b4ac",
   "metadata": {},
   "outputs": [],
   "source": [
    "n=5\n",
    "alphabet=\"abcdefghijklmnopqrstuvwxyz\"\n",
    "s=\"\"\n",
    "\n",
    "l=[]\n",
    "\n",
    "for i in range(n):\n",
    "    s=\"-\".join(alphabet[i:n])\n",
    "\n",
    "    l.append(s[::-1]+s[1:])\n",
    "\n",
    "length=len(l[0])\n",
    "\n",
    "for i in range(n-1,0,-1):\n",
    "    print(l[i].center(length,\"-\"))\n",
    "    \n",
    "for i in range(n):\n",
    "    print(l[i].center(length,\"-\"))    "
   ]
  },
  {
   "cell_type": "code",
   "execution_count": null,
   "id": "fa2b6856",
   "metadata": {},
   "outputs": [],
   "source": [
    "import ast,sys\n",
    "data_list = ast.literal_eval(input())\n",
    "key=ast.literal_eval(input())\n",
    "\n",
    "def search(data_list, key):\n",
    " \n",
    "    for i in range(len(data_list)):\n",
    "        if data_list[i] == key:\n",
    "            return i\n",
    "    return -1\n",
    "\n",
    "res = search(data_list, key)\n",
    "print(res)"
   ]
  },
  {
   "cell_type": "code",
   "execution_count": null,
   "id": "09e39105",
   "metadata": {},
   "outputs": [],
   "source": [
    "import ast,sys\n",
    "sorted_list = ast.literal_eval(input())\n",
    "key=ast.literal_eval(input())\n",
    "\n",
    "def search(sorted_list, key):\n",
    "    l = 0\n",
    "    r = len(sorted_list) - 1\n",
    "\n",
    "    while r - l > 1:\n",
    "        mid = (r + l) // 2\n",
    "        if sorted_list[mid] < key:\n",
    "            l = mid + 1\n",
    "        else:\n",
    "            r = mid\n",
    " \n",
    "        if sorted_list[l] == key:\n",
    "            return l\n",
    "        elif sorted_list[r] == key:\n",
    "            return r\n",
    "        else:\n",
    "            return -1\n",
    "\n",
    "res = search(sorted_list, key)\n",
    "print(res)      "
   ]
  },
  {
   "cell_type": "code",
   "execution_count": null,
   "id": "c1215fba",
   "metadata": {},
   "outputs": [],
   "source": [
    "import ast,sys\n",
    "sorted_list = ast.literal_eval(input())\n",
    "key=ast.literal_eval(input())\n",
    "\n",
    "def binarySearch(sorted_list, l, r, key):\n",
    " \n",
    "    while l <= r:\n",
    " \n",
    "        mid = l + (r - l) // 2\n",
    " \n",
    "        # Check if key is present at mid\n",
    "        if sorted_list[mid] == key:\n",
    "            return mid\n",
    " \n",
    "        # If key is greater, ignore left half\n",
    "        elif sorted_list[mid] < key:\n",
    "            l = mid + 1\n",
    " \n",
    "        # If key is smaller, ignore right half\n",
    "        else:\n",
    "            r = mid - 1\n",
    " \n",
    "    # element not present\n",
    "    return -1\n",
    "\n",
    " \n",
    "# Function call\n",
    "result = binarySearch(sorted_list, 0, len(sorted_list)-1, key)\n",
    "print(result)\n"
   ]
  },
  {
   "cell_type": "code",
   "execution_count": null,
   "id": "93ddc00e",
   "metadata": {},
   "outputs": [],
   "source": [
    "class Solution(object):\n",
    "   def search(self, nums, target):\n",
    "      low = 0\n",
    "      high = len(nums)\n",
    "      while low<high:\n",
    "         mid = low + (high-low)//2\n",
    "         if nums[mid] == target:\n",
    "            return mid\n",
    "         if nums[low]<=nums[mid]:\n",
    "            if target >=nums[low] and target <nums[mid]:\n",
    "               high = mid\n",
    "            else:\n",
    "               low = mid+1\n",
    "         else:\n",
    "            if target<=nums[high-1] and target>nums[mid]:\n",
    "               low = mid+1\n",
    "            else:\n",
    "               high = mid\n",
    "      return -1\n",
    "ob1 = Solution()\n",
    "print(ob1.search([3, 5, 7, 9, 11, 13, 15, 17, 19, 21, 23, 25, 27], 17))"
   ]
  },
  {
   "cell_type": "code",
   "execution_count": null,
   "id": "08974be0",
   "metadata": {},
   "outputs": [],
   "source": [
    "import ast,sys\n",
    "list1 = ast.literal_eval(input())\n",
    "key=ast.literal_eval(input())\n",
    "\n",
    "def search(list1, key):\n",
    "      low = 0\n",
    "      high = len(list1)\n",
    "      while low<high:\n",
    "         mid = low + (high-low)//2\n",
    "         if list1[mid] == key:\n",
    "            return mid\n",
    "         if list1[low]<=list1[mid]:\n",
    "            if key >=list1[low] and key <list1[mid]:\n",
    "               high = mid\n",
    "            else:\n",
    "               low = mid+1\n",
    "         else:\n",
    "            if key<=list1[high-1] and key>list1[mid]:\n",
    "               low = mid+1\n",
    "            else:\n",
    "               high = mid\n",
    "      return -1\n",
    "\n",
    "res = search(list1,key)\n",
    "print(res)"
   ]
  },
  {
   "cell_type": "code",
   "execution_count": 9,
   "id": "acdf4cf6",
   "metadata": {},
   "outputs": [
    {
     "name": "stdout",
     "output_type": "stream",
     "text": [
      "2.235999999999999\n",
      "2.236\n",
      "3.1622\n"
     ]
    }
   ],
   "source": [
    "def squareRoot(number, precision):\n",
    " \n",
    "    start = 0\n",
    "    end, ans = number, 1\n",
    " \n",
    "    # For computing integral part\n",
    "    # of square root of number\n",
    "    while (start <= end):\n",
    "        mid = int((start + end) / 2)\n",
    " \n",
    "        if (mid * mid == number):\n",
    "            ans = mid\n",
    "            break\n",
    " \n",
    "        # incrementing start if integral\n",
    "        # part lies on right side of the mid\n",
    "        if (mid * mid < number):\n",
    "            start = mid + 1\n",
    "            ans = mid\n",
    " \n",
    "        # decrementing end if integral part\n",
    "        # lies on the left side of the mid\n",
    "        else:\n",
    "            end = mid - 1\n",
    " \n",
    "    # For computing the fractional part\n",
    "    # of square root upto given precision\n",
    "    increment = 0.1\n",
    "    for i in range(0, precision):\n",
    "        while (ans * ans <= number):\n",
    "            ans += increment\n",
    " \n",
    "        # loop terminates when ans * ans > number\n",
    "        ans = ans - increment\n",
    "        increment = increment / 10\n",
    " \n",
    "    return ans\n",
    " \n",
    " \n",
    "# Driver code\n",
    "print(squareRoot(5, 4))\n",
    "print(round(squareRoot(5, 4), 4))\n",
    "print(round(squareRoot(10, 4), 4))"
   ]
  },
  {
   "cell_type": "markdown",
   "id": "930a3a39",
   "metadata": {},
   "source": [
    "##### "
   ]
  },
  {
   "cell_type": "code",
   "execution_count": 8,
   "id": "99c8ee58",
   "metadata": {},
   "outputs": [
    {
     "name": "stdout",
     "output_type": "stream",
     "text": [
      "5\n",
      "2.2361\n"
     ]
    }
   ],
   "source": [
    "n = int(input())\n",
    "\n",
    "\n",
    "\n",
    "def sqrt(n):\n",
    "    l = 0\n",
    "    r = n\n",
    "    while abs(l-r)>10**-5:\n",
    "        mid = (l+r)/2\n",
    "\n",
    "        if mid **2>n:\n",
    "            r = mid\n",
    "        else:\n",
    "            l = mid\n",
    "    return round(mid,4)\n",
    "\n",
    "print(\"%.4f\"% sqrt(n))\n"
   ]
  },
  {
   "cell_type": "code",
   "execution_count": null,
   "id": "11efd19e",
   "metadata": {},
   "outputs": [],
   "source": [
    "class Solution:\n",
    "   def solve(self, nums):\n",
    "      count = 0\n",
    "      ans = 0\n",
    "      for i in range(2, len(nums)):\n",
    "         if nums[i] - nums[i - 1] == nums[i - 1] - nums[i - 2]:\n",
    "            count += 1\n",
    "         else:\n",
    "            ans += (count * (count + 1)) // 2\n",
    "            count = 0\n",
    "      if count:\n",
    "         ans += (count * (count + 1)) // 2\n",
    "      return ans\n",
    "\n",
    "ob = Solution()\n",
    "nums = [6, 8, 10, 12, 13, 14]\n",
    "print(ob.solve(nums))"
   ]
  },
  {
   "cell_type": "code",
   "execution_count": null,
   "id": "759c7234",
   "metadata": {},
   "outputs": [],
   "source": [
    "import ast,sys\n",
    "list1 = ast.literal_eval(input())\n",
    "key=ast.literal_eval(input())\n",
    "\n",
    "def solve(list1):\n",
    "      count = 0\n",
    "      ans = 0\n",
    "      for i in range(2, len(list1)):\n",
    "         if list1[i] - list1[i - 1] == list1[i - 1] - list1[i - 2]:\n",
    "            count += 1\n",
    "         else:\n",
    "            ans += (count * (count + 1)) // 2\n",
    "            count = 0\n",
    "      if count:\n",
    "         ans += (count * (count + 1)) // 2\n",
    "      return ans\n",
    "\n",
    "nums = [6, 8, 10, 12, 13, 14]\n",
    "print(solve(nums))"
   ]
  },
  {
   "cell_type": "code",
   "execution_count": 15,
   "id": "f4da0e84",
   "metadata": {},
   "outputs": [
    {
     "name": "stdout",
     "output_type": "stream",
     "text": [
      "9, 11, 13\n",
      "3\n",
      "[9, 11, 13]\n",
      "True\n"
     ]
    }
   ],
   "source": [
    "import ast,sys\n",
    "list1 = list(ast.literal_eval(input()))\n",
    "key=ast.literal_eval(input())\n",
    "print(list1)\n",
    "prog = int(list1[1]) - int(list1[0])\n",
    "if (int(key) - int(list1[-1])) % prog ==0 :\n",
    "    print(True)\n",
    "else:\n",
    "    print(False)"
   ]
  },
  {
   "cell_type": "code",
   "execution_count": null,
   "id": "e8383c3f",
   "metadata": {},
   "outputs": [],
   "source": []
  }
 ],
 "metadata": {
  "kernelspec": {
   "display_name": "Python 3 (ipykernel)",
   "language": "python",
   "name": "python3"
  },
  "language_info": {
   "codemirror_mode": {
    "name": "ipython",
    "version": 3
   },
   "file_extension": ".py",
   "mimetype": "text/x-python",
   "name": "python",
   "nbconvert_exporter": "python",
   "pygments_lexer": "ipython3",
   "version": "3.11.1"
  }
 },
 "nbformat": 4,
 "nbformat_minor": 5
}
