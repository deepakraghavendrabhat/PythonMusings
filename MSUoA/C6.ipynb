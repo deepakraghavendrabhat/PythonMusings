{
 "cells": [
  {
   "cell_type": "code",
   "execution_count": 1,
   "id": "8691f157",
   "metadata": {},
   "outputs": [
    {
     "name": "stdout",
     "output_type": "stream",
     "text": [
      "the diameter of  earth is  12734\n"
     ]
    }
   ],
   "source": [
    "planet='earth'\n",
    "diameter=12734\n",
    "\n",
    "\n",
    "print('the diameter of ',planet,'is ', diameter )\n"
   ]
  },
  {
   "cell_type": "code",
   "execution_count": 3,
   "id": "c24e1147",
   "metadata": {},
   "outputs": [
    {
     "name": "stdout",
     "output_type": "stream",
     "text": [
      "The diameter of {planet} is {diameter}\n"
     ]
    }
   ],
   "source": [
    "print(f'The diameter of {planet} is {diameter}')\n"
   ]
  },
  {
   "cell_type": "code",
   "execution_count": 6,
   "id": "ab4faece",
   "metadata": {},
   "outputs": [
    {
     "name": "stdout",
     "output_type": "stream",
     "text": [
      "i ate a clock yesterday it was very time consuming.\n"
     ]
    }
   ],
   "source": [
    "day='yesterday'\n",
    "impact='time consuming'\n",
    "\n",
    "'i ate a clock yesterday it was very time consuming.'\n",
    "\n",
    "print(f'i ate a clock {day} it was very {impact}.')"
   ]
  },
  {
   "cell_type": "code",
   "execution_count": null,
   "id": "9ac4f886",
   "metadata": {},
   "outputs": [],
   "source": []
  }
 ],
 "metadata": {
  "kernelspec": {
   "display_name": "Python 3 (ipykernel)",
   "language": "python",
   "name": "python3"
  },
  "language_info": {
   "codemirror_mode": {
    "name": "ipython",
    "version": 3
   },
   "file_extension": ".py",
   "mimetype": "text/x-python",
   "name": "python",
   "nbconvert_exporter": "python",
   "pygments_lexer": "ipython3",
   "version": "3.9.13"
  }
 },
 "nbformat": 4,
 "nbformat_minor": 5
}
