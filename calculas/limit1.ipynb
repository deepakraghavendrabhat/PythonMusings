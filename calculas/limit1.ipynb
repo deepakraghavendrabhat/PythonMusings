{
 "cells": [
  {
   "cell_type": "code",
   "execution_count": 1,
   "id": "ea2baa05",
   "metadata": {},
   "outputs": [],
   "source": [
    "import sympy as sym\n",
    "import matplotlib.pyplot as plt\n",
    "import numpy as np\n",
    "from IPython.display import Math,display "
   ]
  },
  {
   "cell_type": "code",
   "execution_count": 2,
   "id": "d9561879",
   "metadata": {},
   "outputs": [
    {
     "data": {
      "text/latex": [
       "$\\displaystyle 4$"
      ],
      "text/plain": [
       "4"
      ]
     },
     "execution_count": 2,
     "metadata": {},
     "output_type": "execute_result"
    }
   ],
   "source": [
    "x = sym.symbols('x')\n",
    "\n",
    "# function - fx = x ** 3\n",
    "\n",
    "fx = ((x ** 2) - 4) / (x - 2)\n",
    "\n",
    "lim_pnt = 2\n",
    "lim = sym.limit(fx,x,lim_pnt)\n",
    "\n",
    "lim\n"
   ]
  },
  {
   "cell_type": "code",
   "execution_count": 3,
   "id": "f755b7ea",
   "metadata": {},
   "outputs": [
    {
     "data": {
      "text/latex": [
       "$\\displaystyle \\lim_{x\\to 2} \\frac{x^{2} - 4}{x - 2} = 4$"
      ],
      "text/plain": [
       "<IPython.core.display.Math object>"
      ]
     },
     "metadata": {},
     "output_type": "display_data"
    }
   ],
   "source": [
    "display(Math('\\\\lim_{x\\\\to %g} %s = %g' %(lim_pnt,sym.latex(fx),lim)))"
   ]
  },
  {
   "cell_type": "code",
   "execution_count": 8,
   "id": "560306f9",
   "metadata": {},
   "outputs": [
    {
     "data": {
      "image/png": "[encoded data removed]",
      "text/plain": [
       "<Figure size 432x288 with 1 Axes>"
      ]
     },
     "metadata": {
      "needs_background": "light"
     },
     "output_type": "display_data"
    }
   ],
   "source": [
    "fxx = sym.lambdify(x,fx)\n",
    "xx = np.linspace(-2,5,10)\n",
    "plt.plot(xx,fxx(xx))\n",
    "plt.plot(lim_pnt,lim,'ro')\n",
    "plt.show()"
   ]
  },
  {
   "cell_type": "code",
   "execution_count": null,
   "id": "c90248c0",
   "metadata": {},
   "outputs": [],
   "source": []
  }
 ],
 "metadata": {
  "kernelspec": {
   "display_name": "Python 3 (ipykernel)",
   "language": "python",
   "name": "python3"
  },
  "language_info": {
   "codemirror_mode": {
    "name": "ipython",
    "version": 3
   },
   "file_extension": ".py",
   "mimetype": "text/x-python",
   "name": "python",
   "nbconvert_exporter": "python",
   "pygments_lexer": "ipython3",
   "version": "3.9.12"
  }
 },
 "nbformat": 4,
 "nbformat_minor": 5
}
