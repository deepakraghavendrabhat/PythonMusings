{
 "cells": [
  {
   "cell_type": "markdown",
   "id": "d823cb67",
   "metadata": {},
   "source": [
    "Consider these two functions. \n",
    "\n",
    "So we sayf(x) = e to the -x times the square root ofthe quantity x + 1, and\n",
    "g(x) = the cos of the quantity x + sin(x). \n",
    "\n",
    "Sothis exercise has two parts. \n",
    "\n",
    "The first part isto just implement these functions and make a plot of them.\n",
    "\n",
    "Part two of the exercise is to showthis interesting property of limits, that thelimit of one function divided by the limit ofanother function is the same thing as, so isequal to the limits of the function divided bythe other function. "
   ]
  },
  {
   "cell_type": "code",
   "execution_count": 6,
   "id": "6e8dfbbf",
   "metadata": {},
   "outputs": [],
   "source": [
    "import sympy as sym\n",
    "import matplotlib.pyplot as plt\n",
    "import numpy as np\n",
    "from IPython.display import Math,display "
   ]
  },
  {
   "cell_type": "code",
   "execution_count": 7,
   "id": "5fcea561",
   "metadata": {},
   "outputs": [],
   "source": [
    "x = sym.symbols('x')"
   ]
  },
  {
   "cell_type": "code",
   "execution_count": 8,
   "id": "f5c01d6f",
   "metadata": {},
   "outputs": [],
   "source": [
    "fx = sym.sqrt(x+1) * sym.exp(-x)\n",
    "fxx = sym.lambdify(x,fx)"
   ]
  },
  {
   "cell_type": "code",
   "execution_count": 9,
   "id": "834890f5",
   "metadata": {},
   "outputs": [],
   "source": [
    "gx = sym.cos(x + sym.sin(x))\n",
    "gxx = sym.lambdify(x,gx)"
   ]
  },
  {
   "cell_type": "code",
   "execution_count": 10,
   "id": "2073a99a",
   "metadata": {},
   "outputs": [
    {
     "data": {
      "image/png": "[encoded data removed]",
      "text/plain": [
       "<Figure size 432x288 with 1 Axes>"
      ]
     },
     "metadata": {
      "needs_background": "light"
     },
     "output_type": "display_data"
    }
   ],
   "source": [
    "#part 1\n",
    "xx = np.linspace(0,10,100)\n",
    "plt.plot(xx,fxx(xx),label='f(x)')\n",
    "plt.plot(xx,gxx(xx),label='g(x)')\n",
    "plt.legend()\n",
    "plt.show()"
   ]
  },
  {
   "cell_type": "code",
   "execution_count": 11,
   "id": "0db7dcf1",
   "metadata": {},
   "outputs": [],
   "source": [
    "#part 2 - compute the limits of f and g seprately\n",
    "\n",
    "lim_pnt = 5\n",
    "lim_fx = sym.limit(fx,x,lim_pnt)\n",
    "lim_gx = sym.limit(gx,x,lim_pnt)\n"
   ]
  },
  {
   "cell_type": "code",
   "execution_count": 12,
   "id": "4bfe14b4",
   "metadata": {},
   "outputs": [],
   "source": [
    "#compute the limit of f/g\n",
    "hx = fx/gx\n",
    "lim_hx = sym.limit(hx,x,lim_pnt)\n"
   ]
  },
  {
   "cell_type": "code",
   "execution_count": 25,
   "id": "dff101b1",
   "metadata": {},
   "outputs": [
    {
     "data": {
      "text/latex": [
       "$\\displaystyle \\frac{\\lim_{x \\to 5} f(x)}{\\lim_{x \\to 5} g(x)} = \\frac{0.0165045}{-0.622015} = -0.026534$"
      ],
      "text/plain": [
       "<IPython.core.display.Math object>"
      ]
     },
     "metadata": {},
     "output_type": "display_data"
    }
   ],
   "source": [
    "display(Math('\\\\frac{\\\\lim_{x \\\\to %g} f(x)}{\\\\lim_{x \\\\to %g} g(x)} = \\\\frac{%g}{%g} = %g' %(lim_pnt,lim_pnt,lim_fx,lim_gx,lim_fx/lim_gx)))\n",
    "\n"
   ]
  },
  {
   "cell_type": "code",
   "execution_count": 24,
   "id": "92b69b85",
   "metadata": {},
   "outputs": [
    {
     "data": {
      "text/latex": [
       "$\\displaystyle \\lim_{x\\to 5} \\frac{f(x)}{g(x)} = -0.026534$"
      ],
      "text/plain": [
       "<IPython.core.display.Math object>"
      ]
     },
     "metadata": {},
     "output_type": "display_data"
    }
   ],
   "source": [
    "display(Math('\\\\lim_{x\\\\to %g} \\\\frac{f(x)}{g(x)} = %g' %(lim_pnt,lim_hx)))"
   ]
  },
  {
   "cell_type": "code",
   "execution_count": null,
   "id": "dc085ac7",
   "metadata": {},
   "outputs": [],
   "source": []
  }
 ],
 "metadata": {
  "kernelspec": {
   "display_name": "Python 3 (ipykernel)",
   "language": "python",
   "name": "python3"
  },
  "language_info": {
   "codemirror_mode": {
    "name": "ipython",
    "version": 3
   },
   "file_extension": ".py",
   "mimetype": "text/x-python",
   "name": "python",
   "nbconvert_exporter": "python",
   "pygments_lexer": "ipython3",
   "version": "3.9.12"
  }
 },
 "nbformat": 4,
 "nbformat_minor": 5
}
