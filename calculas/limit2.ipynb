{
 "cells": [
  {
   "cell_type": "code",
   "execution_count": 1,
   "id": "fd8ca53d",
   "metadata": {},
   "outputs": [],
   "source": [
    "import sympy as sym\n",
    "import matplotlib.pyplot as plt\n",
    "import numpy as np\n",
    "from IPython.display import Math,display "
   ]
  },
  {
   "cell_type": "code",
   "execution_count": 3,
   "id": "9345b7f8",
   "metadata": {},
   "outputs": [
    {
     "data": {
      "text/latex": [
       "$\\displaystyle \\lim_{x\\to 2^-} \\frac{x^{2}}{x - 2} = -inf$"
      ],
      "text/plain": [
       "<IPython.core.display.Math object>"
      ]
     },
     "metadata": {},
     "output_type": "display_data"
    },
    {
     "data": {
      "image/png": "[encoded data removed]",
      "text/plain": [
       "<Figure size 432x288 with 1 Axes>"
      ]
     },
     "metadata": {
      "needs_background": "light"
     },
     "output_type": "display_data"
    }
   ],
   "source": [
    "# function - fx = (x**2)/(x-2)\n",
    "x = sym.symbols('x')\n",
    "fx = (x**2)/(x-2)\n",
    "fxx = sym.lambdify(x,fx)\n",
    "xx = np.linspace(1,3,102)\n",
    "lim_pnt = 2\n",
    "lim = sym.limit(fx,x,lim_pnt,dir='-')\n",
    "plt.plot(xx,fxx(xx))\n",
    "display(Math('\\\\lim_{x\\\\to %g^-} %s = %g' %(lim_pnt,sym.latex(fx),lim)))\n",
    "# function - fx = (x**2)/(x-2)"
   ]
  },
  {
   "cell_type": "code",
   "execution_count": null,
   "id": "fbea33a1",
   "metadata": {},
   "outputs": [],
   "source": []
  }
 ],
 "metadata": {
  "kernelspec": {
   "display_name": "Python 3 (ipykernel)",
   "language": "python",
   "name": "python3"
  },
  "language_info": {
   "codemirror_mode": {
    "name": "ipython",
    "version": 3
   },
   "file_extension": ".py",
   "mimetype": "text/x-python",
   "name": "python",
   "nbconvert_exporter": "python",
   "pygments_lexer": "ipython3",
   "version": "3.9.12"
  }
 },
 "nbformat": 4,
 "nbformat_minor": 5
}
