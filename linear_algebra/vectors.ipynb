{
 "cells": [
  {
   "cell_type": "code",
   "execution_count": 1,
   "id": "354e1404",
   "metadata": {},
   "outputs": [],
   "source": [
    "import pandas as pd\n",
    "import numpy as np"
   ]
  },
  {
   "cell_type": "code",
   "execution_count": 2,
   "id": "2186e196",
   "metadata": {},
   "outputs": [
    {
     "name": "stdout",
     "output_type": "stream",
     "text": [
      "[2 3]\n",
      "(2,)\n",
      "<class 'numpy.ndarray'>\n",
      "2\n",
      "<class 'numpy.int64'>\n"
     ]
    }
   ],
   "source": [
    "vector1 = np.array([2,3])\n",
    "print(vector1)\n",
    "print(vector1.shape)\n",
    "print(type(vector1))\n",
    "print(vector1[0])\n",
    "print(type(vector1[0]))"
   ]
  },
  {
   "cell_type": "code",
   "execution_count": 3,
   "id": "61e8ab32",
   "metadata": {},
   "outputs": [
    {
     "data": {
      "text/plain": [
       "<function ndarray.transpose>"
      ]
     },
     "execution_count": 3,
     "metadata": {},
     "output_type": "execute_result"
    }
   ],
   "source": [
    "#transpose\n",
    "vector1_transposed = vector1.transpose\n",
    "vector1_transposed"
   ]
  },
  {
   "cell_type": "code",
   "execution_count": 5,
   "id": "caee86b9",
   "metadata": {},
   "outputs": [
    {
     "data": {
      "text/plain": [
       "array([0., 0., 0., 0.])"
      ]
     },
     "execution_count": 5,
     "metadata": {},
     "output_type": "execute_result"
    }
   ],
   "source": [
    "zero_vector = np.zeros(4)\n",
    "zero_vector"
   ]
  },
  {
   "cell_type": "code",
   "execution_count": 3,
   "id": "d97fe47b",
   "metadata": {},
   "outputs": [
    {
     "ename": "NameError",
     "evalue": "name 'ang' is not defined",
     "output_type": "error",
     "traceback": [
      "\u001b[1;31m---------------------------------------------------------------------------\u001b[0m",
      "\u001b[1;31mNameError\u001b[0m                                 Traceback (most recent call last)",
      "\u001b[1;32m~\\AppData\\Local\\Temp\\ipykernel_29228\\1421110002.py\u001b[0m in \u001b[0;36m<module>\u001b[1;34m\u001b[0m\n\u001b[0;32m     14\u001b[0m \u001b[1;31m#gemoetric\u001b[0m\u001b[1;33m\u001b[0m\u001b[1;33m\u001b[0m\u001b[0m\n\u001b[0;32m     15\u001b[0m \u001b[1;33m\u001b[0m\u001b[0m\n\u001b[1;32m---> 16\u001b[1;33m \u001b[0mdot_v1v2_geom\u001b[0m \u001b[1;33m=\u001b[0m \u001b[0mnp\u001b[0m\u001b[1;33m.\u001b[0m\u001b[0mlinalg\u001b[0m\u001b[1;33m.\u001b[0m\u001b[0mnorm\u001b[0m\u001b[1;33m(\u001b[0m\u001b[0mv1\u001b[0m\u001b[1;33m)\u001b[0m \u001b[1;33m*\u001b[0m \u001b[0mnp\u001b[0m\u001b[1;33m.\u001b[0m\u001b[0mlinalg\u001b[0m\u001b[1;33m.\u001b[0m\u001b[0mnorm\u001b[0m\u001b[1;33m(\u001b[0m\u001b[0mv2\u001b[0m\u001b[1;33m)\u001b[0m \u001b[1;33m*\u001b[0m \u001b[0mnp\u001b[0m\u001b[1;33m.\u001b[0m\u001b[0mcos\u001b[0m\u001b[1;33m(\u001b[0m\u001b[0mang\u001b[0m\u001b[1;33m)\u001b[0m\u001b[1;33m\u001b[0m\u001b[1;33m\u001b[0m\u001b[0m\n\u001b[0m\u001b[0;32m     17\u001b[0m \u001b[0mdot_v1v2_geom\u001b[0m\u001b[1;33m\u001b[0m\u001b[1;33m\u001b[0m\u001b[0m\n",
      "\u001b[1;31mNameError\u001b[0m: name 'ang' is not defined"
     ]
    }
   ],
   "source": [
    "##dot product\n",
    "\n",
    "# two vectors\n",
    "\n",
    "v1 = np.array([2,4,-3])\n",
    "v2 = np.array([0,-3,-3])\n",
    "\n",
    "#algebraic\n",
    "\n",
    "dot_v1v2_alg = np.dot(v1,v2)\n",
    "dot_v1v2_alg\n",
    "\n",
    "\n",
    "#gemoetric\n",
    "\n",
    "dot_v1v2_geom = np.linalg.norm(v1) * np.linalg.norm(v2) * np.cos(ang)\n",
    "dot_v1v2_geom"
   ]
  },
  {
   "cell_type": "code",
   "execution_count": 4,
   "id": "2e47183d",
   "metadata": {},
   "outputs": [
    {
     "data": {
      "text/plain": [
       "-3"
      ]
     },
     "execution_count": 4,
     "metadata": {},
     "output_type": "execute_result"
    }
   ],
   "source": [
    "#cauchy schwarxz inequality\n",
    "\n",
    "v1 = np.array([2,4,-3])\n",
    "v2 = np.array([0,-3,-3])\n",
    "\n",
    "v1Tv2 = np.dot(np.transpose(v1),v2)\n",
    "v1Tv2"
   ]
  },
  {
   "cell_type": "code",
   "execution_count": null,
   "id": "5cf5f1be",
   "metadata": {},
   "outputs": [],
   "source": [
    "v1"
   ]
  }
 ],
 "metadata": {
  "kernelspec": {
   "display_name": "Python 3 (ipykernel)",
   "language": "python",
   "name": "python3"
  },
  "language_info": {
   "codemirror_mode": {
    "name": "ipython",
    "version": 3
   },
   "file_extension": ".py",
   "mimetype": "text/x-python",
   "name": "python",
   "nbconvert_exporter": "python",
   "pygments_lexer": "ipython3",
   "version": "3.9.13"
  }
 },
 "nbformat": 4,
 "nbformat_minor": 5
}
